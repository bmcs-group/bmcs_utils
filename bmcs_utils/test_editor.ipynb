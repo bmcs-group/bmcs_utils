{
 "cells": [
  {
   "cell_type": "code",
   "execution_count": 1,
   "metadata": {},
   "outputs": [],
   "source": [
    "%matplotlib widget"
   ]
  },
  {
   "cell_type": "code",
   "execution_count": 2,
   "metadata": {
    "scrolled": false
   },
   "outputs": [],
   "source": [
    "from bmcs_utils.test_editor import ExampleModel"
   ]
  },
  {
   "cell_type": "code",
   "execution_count": 3,
   "metadata": {},
   "outputs": [],
   "source": [
    "em = ExampleModel()"
   ]
  },
  {
   "cell_type": "code",
   "execution_count": 4,
   "metadata": {
    "pycharm": {
     "name": "#%%\n"
    },
    "scrolled": false
   },
   "outputs": [
    {
     "name": "stdout",
     "output_type": "stream",
     "text": [
      "update_plot called\n",
      "{'a': 0, 'b': 5, 'c': True, 't': 0, 't_max': 10, 'name': 'Example'}\n"
     ]
    },
    {
     "data": {
      "application/vnd.jupyter.widget-view+json": {
       "model_id": "26d2c94ff99e4c2b91c1e832979c9a45",
       "version_major": 2,
       "version_minor": 0
      },
      "text/plain": [
       "VBox(children=(Output(), Tab(children=(VBox(children=(HBox(children=(Button(description='run', layout=Layout(h…"
      ]
     },
     "metadata": {},
     "output_type": "display_data"
    },
    {
     "name": "stdout",
     "output_type": "stream",
     "text": [
      "where are you\n",
      "update_plot called\n",
      "{'a': 1.0, 'b': 5, 'c': True, 't': 0, 't_max': 10, 'name': 'Example'}\n",
      "update_plot called\n",
      "{'a': 1.0, 'b': 5, 'c': True, 't': 0, 't_max': 10, 'name': 'Example'}\n",
      "update_plot called\n",
      "{'a': 1.0, 'b': 5, 'c': True, 't': 0, 't_max': 10, 'name': 'Example'}\n",
      "update_plot called\n",
      "{'a': 1.0, 'b': 5, 'c': True, 't': 0.0, 't_max': 10, 'name': 'Example'}\n",
      "update_plot called\n",
      "{'a': 1.0, 'b': 5, 'c': True, 't': 0.0, 't_max': 10, 'name': 'Example'}\n",
      "update_plot called\n",
      "{'a': 1.0, 'b': 5, 'c': True, 't': 0.0, 't_max': 10, 'name': 'Example'}\n",
      "update_plot called\n",
      "{'a': 1.0, 'b': 5, 'c': True, 't': 1.1111111111111112, 't_max': 10, 'name': 'Example'}\n",
      "update_plot called\n",
      "{'a': 1.0, 'b': 5, 'c': True, 't': 1.1111111111111112, 't_max': 10, 'name': 'Example'}\n",
      "update_plot called\n",
      "{'a': 1.0, 'b': 5, 'c': True, 't': 1.1111111111111112, 't_max': 10, 'name': 'Example'}\n",
      "update_plot called\n",
      "{'a': 1.0, 'b': 5, 'c': True, 't': 2.2222222222222223, 't_max': 10, 'name': 'Example'}\n",
      "update_plot called\n",
      "{'a': 1.0, 'b': 5, 'c': True, 't': 2.2222222222222223, 't_max': 10, 'name': 'Example'}\n",
      "update_plot called\n",
      "{'a': 1.0, 'b': 5, 'c': True, 't': 3.3333333333333335, 't_max': 10, 'name': 'Example'}\n",
      "update_plot called\n",
      "{'a': 1.0, 'b': 5, 'c': True, 't': 3.3333333333333335, 't_max': 10, 'name': 'Example'}\n",
      "update_plot called\n",
      "{'a': 1.0, 'b': 5, 'c': True, 't': 3.3333333333333335, 't_max': 10, 'name': 'Example'}\n",
      "update_plot called\n",
      "{'a': 1.0, 'b': 5, 'c': True, 't': 4.444444444444445, 't_max': 10, 'name': 'Example'}\n",
      "update_plot called\n",
      "{'a': 1.0, 'b': 5, 'c': True, 't': 4.444444444444445, 't_max': 10, 'name': 'Example'}\n",
      "update_plot called\n",
      "{'a': 1.0, 'b': 5, 'c': True, 't': 4.444444444444445, 't_max': 10, 'name': 'Example'}\n",
      "update_plot called\n",
      "{'a': 1.0, 'b': 5, 'c': True, 't': 5.555555555555555, 't_max': 10, 'name': 'Example'}\n",
      "update_plot called\n",
      "{'a': 1.0, 'b': 5, 'c': True, 't': 5.555555555555555, 't_max': 10, 'name': 'Example'}\n",
      "update_plot called\n",
      "{'a': 1.0, 'b': 5, 'c': True, 't': 5.555555555555555, 't_max': 10, 'name': 'Example'}\n",
      "update_plot called\n",
      "{'a': 1.0, 'b': 5, 'c': True, 't': 6.666666666666667, 't_max': 10, 'name': 'Example'}\n",
      "update_plot called\n",
      "{'a': 1.0, 'b': 5, 'c': True, 't': 6.666666666666667, 't_max': 10, 'name': 'Example'}\n",
      "update_plot called\n",
      "{'a': 1.0, 'b': 5, 'c': True, 't': 6.666666666666667, 't_max': 10, 'name': 'Example'}\n",
      "update_plot called\n",
      "{'a': 1.0, 'b': 5, 'c': True, 't': 7.777777777777779, 't_max': 10, 'name': 'Example'}\n",
      "update_plot called\n",
      "{'a': 1.0, 'b': 5, 'c': True, 't': 7.777777777777779, 't_max': 10, 'name': 'Example'}\n",
      "update_plot called\n",
      "{'a': 1.0, 'b': 5, 'c': True, 't': 8.88888888888889, 't_max': 10, 'name': 'Example'}\n",
      "update_plot called\n",
      "{'a': 1.0, 'b': 5, 'c': True, 't': 8.88888888888889, 't_max': 10, 'name': 'Example'}\n",
      "update_plot called\n",
      "{'a': 1.0, 'b': 5, 'c': True, 't': 8.88888888888889, 't_max': 10, 'name': 'Example'}\n",
      "update_plot called\n",
      "{'a': 1.0, 'b': 5, 'c': True, 't': 10.0, 't_max': 10, 'name': 'Example'}\n"
     ]
    }
   ],
   "source": [
    "em.interact()\n",
    "\n"
   ]
  },
  {
   "cell_type": "code",
   "execution_count": null,
   "outputs": [],
   "source": [],
   "metadata": {
    "collapsed": false,
    "pycharm": {
     "name": "#%%\n"
    }
   }
  },
  {
   "cell_type": "code",
   "execution_count": null,
   "metadata": {},
   "outputs": [],
   "source": []
  }
 ],
 "metadata": {
  "kernelspec": {
   "display_name": "Python 3",
   "language": "python",
   "name": "python3"
  },
  "language_info": {
   "codemirror_mode": {
    "name": "ipython",
    "version": 3
   },
   "file_extension": ".py",
   "mimetype": "text/x-python",
   "name": "python",
   "nbconvert_exporter": "python",
   "pygments_lexer": "ipython3",
   "version": "3.9.0"
  },
  "toc": {
   "base_numbering": 1,
   "nav_menu": {},
   "number_sections": true,
   "sideBar": true,
   "skip_h1_title": false,
   "title_cell": "Table of Contents",
   "title_sidebar": "Contents",
   "toc_cell": false,
   "toc_position": {},
   "toc_section_display": true,
   "toc_window_display": false
  }
 },
 "nbformat": 4,
 "nbformat_minor": 1
}