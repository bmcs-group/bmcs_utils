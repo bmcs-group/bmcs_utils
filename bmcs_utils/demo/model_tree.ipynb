{
 "cells": [
  {
   "cell_type": "markdown",
   "metadata": {
    "pycharm": {
     "name": "#%% md\n"
    }
   },
   "source": [
    "# Tree with state propagation"
   ]
  },
  {
   "cell_type": "code",
   "execution_count": 1,
   "metadata": {
    "collapsed": false,
    "jupyter": {
     "outputs_hidden": false
    },
    "pycharm": {
     "name": "#%%\n"
    }
   },
   "outputs": [],
   "source": [
    "%matplotlib widget\n",
    "import bmcs_utils.api as bu\n",
    "import traits.api as tr\n",
    "from bmcs_utils.model import Model"
   ]
  },
  {
   "cell_type": "code",
   "execution_count": 2,
   "metadata": {},
   "outputs": [],
   "source": [
    "scd = False"
   ]
  },
  {
   "cell_type": "markdown",
   "metadata": {
    "pycharm": {
     "name": "#%% md\n"
    }
   },
   "source": [
    "Each model can be regarded as a tree of model components.\n",
    "Let us define models `TopModel`, `InterimModel` and `SubModel`."
   ]
  },
  {
   "cell_type": "code",
   "execution_count": 3,
   "metadata": {
    "collapsed": false,
    "jupyter": {
     "outputs_hidden": false
    },
    "pycharm": {
     "name": "#%%\n"
    }
   },
   "outputs": [],
   "source": [
    "class SubModel(Model):\n",
    "    name = 'submodel'\n",
    "    \n",
    "    length = bu.Float(2, GEO=True)\n",
    "\n",
    "    ipw_view = bu.View(\n",
    "        bu.Item('length')\n",
    "    )"
   ]
  },
  {
   "cell_type": "code",
   "execution_count": 4,
   "metadata": {},
   "outputs": [],
   "source": [
    "sm = SubModel(state_change_debug=scd)"
   ]
  },
  {
   "cell_type": "code",
   "execution_count": 5,
   "metadata": {},
   "outputs": [],
   "source": [
    "sm.length = 3"
   ]
  },
  {
   "cell_type": "markdown",
   "metadata": {
    "pycharm": {
     "name": "#%% md\n"
    }
   },
   "source": [
    "Let us define a more complex model"
   ]
  },
  {
   "cell_type": "code",
   "execution_count": 6,
   "metadata": {
    "collapsed": false,
    "jupyter": {
     "outputs_hidden": false
    },
    "pycharm": {
     "name": "#%%\n"
    }
   },
   "outputs": [],
   "source": [
    "class InterimModel(Model):\n",
    "    sm = bu.Instance(SubModel,())\n",
    "    \n",
    "    stiffness = tr.Property(bu.Float, depends_on='state_changed')\n",
    "    @tr.cached_property\n",
    "    def _get_stiffness(self):\n",
    "        return self.sm.length * 10\n",
    "    \n",
    "    depends_on = ['sm']\n",
    "    \n",
    "    ipw_view = bu.View(\n",
    "        bu.Item('stiffness', readonly=True)\n",
    "    )"
   ]
  },
  {
   "cell_type": "code",
   "execution_count": 7,
   "metadata": {
    "collapsed": false,
    "jupyter": {
     "outputs_hidden": false
    },
    "pycharm": {
     "name": "#%%\n"
    }
   },
   "outputs": [
    {
     "data": {
      "text/plain": [
       "['sm']"
      ]
     },
     "execution_count": 7,
     "metadata": {},
     "output_type": "execute_result"
    }
   ],
   "source": [
    "im = InterimModel(sm=sm, state_change_debug=scd)\n",
    "im.children"
   ]
  },
  {
   "cell_type": "code",
   "execution_count": 8,
   "metadata": {},
   "outputs": [],
   "source": [
    "im.sm.length = 8"
   ]
  },
  {
   "cell_type": "code",
   "execution_count": 9,
   "metadata": {
    "collapsed": false,
    "jupyter": {
     "outputs_hidden": false
    },
    "pycharm": {
     "name": "#%%\n"
    }
   },
   "outputs": [],
   "source": [
    "class TopLevelModelEagerGraphChange(Model):\n",
    "    name = 'tm'\n",
    "    \n",
    "    sm = bu.Instance(SubModel, ())\n",
    "    def _sm_default(self):\n",
    "        sm = SubModel()\n",
    "        self.set_sm(sm)\n",
    "        return sm\n",
    "    def _sm_changed(self):\n",
    "        self.set_sm(self.sm)\n",
    "    def set_sm(self, sm):\n",
    "        self.im.sm = sm\n",
    "        self.im2.sm = sm\n",
    "        \n",
    "    im = bu.Instance(InterimModel, ())\n",
    "    im2 = bu.Instance(InterimModel, ())\n",
    "\n",
    "    time = bu.Float(400, ALG=True)\n",
    "\n",
    "    tree = ['sm', 'im', 'im2']\n"
   ]
  },
  {
   "cell_type": "code",
   "execution_count": 10,
   "metadata": {
    "collapsed": false,
    "jupyter": {
     "outputs_hidden": false
    },
    "pycharm": {
     "name": "#%%\n"
    }
   },
   "outputs": [
    {
     "data": {
      "text/plain": [
       "(<__main__.TopLevelModelEagerGraphChange at 0x7f0babb00bd0>,\n",
       " <__main__.InterimModel at 0x7f0bab76d4a0>,\n",
       " <__main__.InterimModel at 0x7f0bab78a360>,\n",
       " {<__main__.InterimModel at 0x7f0bab76d4a0>,\n",
       "  <__main__.InterimModel at 0x7f0bab78a360>,\n",
       "  <__main__.TopLevelModelEagerGraphChange at 0x7f0babb00bd0>})"
      ]
     },
     "execution_count": 10,
     "metadata": {},
     "output_type": "execute_result"
    }
   ],
   "source": [
    "tl = TopLevelModelEagerGraphChange(state_change_debug=scd)\n",
    "tl.im.state_change_debug = scd\n",
    "tl.im2.state_change_debug = scd\n",
    "tl.im.sm.state_change_debug = scd\n",
    "tl, tl.im, tl.im2, tl.sm.parents"
   ]
  },
  {
   "cell_type": "code",
   "execution_count": 11,
   "metadata": {},
   "outputs": [
    {
     "data": {
      "text/plain": [
       "(<__main__.SubModel at 0x7f0bac748220>,\n",
       " <__main__.SubModel at 0x7f0bac748220>,\n",
       " <__main__.SubModel at 0x7f0bac748220>)"
      ]
     },
     "execution_count": 11,
     "metadata": {},
     "output_type": "execute_result"
    }
   ],
   "source": [
    "tl.sm = SubModel(state_change_debug=scd)\n",
    "tl.sm, tl.im2.sm, tl.im.sm"
   ]
  },
  {
   "cell_type": "code",
   "execution_count": 12,
   "metadata": {},
   "outputs": [
    {
     "data": {
      "text/plain": [
       "({<__main__.TopLevelModelEagerGraphChange at 0x7f0babb00bd0>},\n",
       " {<__main__.TopLevelModelEagerGraphChange at 0x7f0babb00bd0>},\n",
       " {<__main__.InterimModel at 0x7f0bab76d4a0>,\n",
       "  <__main__.InterimModel at 0x7f0bab78a360>,\n",
       "  <__main__.TopLevelModelEagerGraphChange at 0x7f0babb00bd0>})"
      ]
     },
     "execution_count": 12,
     "metadata": {},
     "output_type": "execute_result"
    }
   ],
   "source": [
    "tl.im.parents, tl.im2.parents, tl.sm.parents"
   ]
  },
  {
   "cell_type": "code",
   "execution_count": 13,
   "metadata": {
    "collapsed": false,
    "jupyter": {
     "outputs_hidden": false
    },
    "pycharm": {
     "name": "#%%\n"
    }
   },
   "outputs": [],
   "source": [
    "tl.im.sm.length = 10"
   ]
  },
  {
   "cell_type": "code",
   "execution_count": 14,
   "metadata": {},
   "outputs": [
    {
     "data": {
      "text/plain": [
       "(<__main__.InterimModel at 0x7f0bab76d4a0>,\n",
       " <__main__.InterimModel at 0x7f0bab78a360>,\n",
       " {<__main__.InterimModel at 0x7f0bab76d4a0>,\n",
       "  <__main__.InterimModel at 0x7f0bab78a360>,\n",
       "  <__main__.TopLevelModelEagerGraphChange at 0x7f0babb00bd0>})"
      ]
     },
     "execution_count": 14,
     "metadata": {},
     "output_type": "execute_result"
    }
   ],
   "source": [
    "tl.im, tl.im2, tl.im.sm.parents"
   ]
  },
  {
   "cell_type": "code",
   "execution_count": 15,
   "metadata": {},
   "outputs": [
    {
     "data": {
      "application/vnd.jupyter.widget-view+json": {
       "model_id": "f7ec52d00ddf49799f670fd69ab450a9",
       "version_major": 2,
       "version_minor": 0
      },
      "text/plain": [
       "VBox(children=(HBox(children=(VBox(children=(Tree(layout=Layout(align_items='stretch', border='solid 1px black…"
      ]
     },
     "metadata": {},
     "output_type": "display_data"
    }
   ],
   "source": [
    "tl.interact()"
   ]
  },
  {
   "cell_type": "code",
   "execution_count": 16,
   "metadata": {},
   "outputs": [
    {
     "data": {
      "text/plain": [
       "8.0"
      ]
     },
     "execution_count": 16,
     "metadata": {},
     "output_type": "execute_result"
    }
   ],
   "source": [
    "im.sm.length"
   ]
  },
  {
   "cell_type": "code",
   "execution_count": 17,
   "metadata": {},
   "outputs": [],
   "source": [
    "class TopLevelModelLazyGraphChange(Model):\n",
    "    name = 'tm'\n",
    "    \n",
    "    sm = bu.Instance(SubModel, ())\n",
    "        \n",
    "    im = tr.Property(bu.Instance(InterimModel), depends_on='sm')\n",
    "    @tr.cached_property\n",
    "    def _get_im(self):\n",
    "        print('im')\n",
    "        return InterimModel(sm=self.sm)\n",
    "\n",
    "    im2 = tr.Property(bu.Instance(InterimModel), depends_on='sm')\n",
    "    @tr.cached_property\n",
    "    def _get_im2(self):\n",
    "        print('im2')\n",
    "        return InterimModel(sm=self.sm)\n",
    "\n",
    "    time = bu.Float(400, ALG=True)\n",
    "\n",
    "    tree = ['sm', 'im', 'im2']"
   ]
  },
  {
   "cell_type": "code",
   "execution_count": 18,
   "metadata": {},
   "outputs": [
    {
     "data": {
      "text/plain": [
       "({<__main__.InterimModel at 0x7f0ba3625130>,\n",
       "  <__main__.InterimModel at 0x7f0ba369a360>,\n",
       "  <__main__.TopLevelModelEagerGraphChange at 0x7f0baba31ef0>},\n",
       " {'sm': <__main__.SubModel at 0x7f0ba36990e0>,\n",
       "  'im': <__main__.InterimModel at 0x7f0ba369a360>,\n",
       "  'im2': <__main__.InterimModel at 0x7f0ba3625130>},\n",
       " {'sm': <__main__.SubModel at 0x7f0bab76dae0>})"
      ]
     },
     "execution_count": 18,
     "metadata": {},
     "output_type": "execute_result"
    }
   ],
   "source": [
    "tl = TopLevelModelEagerGraphChange()\n",
    "tl.sm.parents, tl.children_traits, tl.im.children_traits"
   ]
  },
  {
   "cell_type": "code",
   "execution_count": 19,
   "metadata": {},
   "outputs": [
    {
     "data": {
      "application/vnd.jupyter.widget-view+json": {
       "model_id": "c3157d91508a46a08da101562df864d2",
       "version_major": 2,
       "version_minor": 0
      },
      "text/plain": [
       "VBox(children=(HBox(children=(VBox(children=(Tree(layout=Layout(align_items='stretch', border='solid 1px black…"
      ]
     },
     "metadata": {},
     "output_type": "display_data"
    }
   ],
   "source": [
    "tl.interact()"
   ]
  },
  {
   "cell_type": "markdown",
   "metadata": {},
   "source": [
    "Add change the component and check if the changes of stiffness in InterimModel get updated"
   ]
  },
  {
   "cell_type": "code",
   "execution_count": 28,
   "metadata": {},
   "outputs": [
    {
     "data": {
      "text/plain": [
       "300.0"
      ]
     },
     "execution_count": 28,
     "metadata": {},
     "output_type": "execute_result"
    }
   ],
   "source": [
    "tl.sm = SubModel()\n",
    "tl.sm.length = 30\n",
    "tl.im.stiffness"
   ]
  },
  {
   "cell_type": "code",
   "execution_count": null,
   "metadata": {},
   "outputs": [],
   "source": []
  }
 ],
 "metadata": {
  "kernelspec": {
   "display_name": "bmcs_env",
   "language": "python",
   "name": "bmcs_env"
  },
  "language_info": {
   "codemirror_mode": {
    "name": "ipython",
    "version": 3
   },
   "file_extension": ".py",
   "mimetype": "text/x-python",
   "name": "python",
   "nbconvert_exporter": "python",
   "pygments_lexer": "ipython3",
   "version": "3.9.0"
  }
 },
 "nbformat": 4,
 "nbformat_minor": 4
}
