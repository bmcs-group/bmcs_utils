{
 "cells": [
  {
   "cell_type": "markdown",
   "metadata": {
    "pycharm": {
     "name": "#%% md\n"
    }
   },
   "source": [
    "# Tree with state propagation"
   ]
  },
  {
   "cell_type": "code",
   "execution_count": 1,
   "metadata": {
    "collapsed": false,
    "jupyter": {
     "outputs_hidden": false
    },
    "pycharm": {
     "name": "#%%\n"
    }
   },
   "outputs": [],
   "source": [
    "%matplotlib widget\n",
    "import bmcs_utils.api as bu\n",
    "import traits.api as tr\n",
    "from bmcs_utils.model import Model"
   ]
  },
  {
   "cell_type": "code",
   "execution_count": 2,
   "metadata": {
    "pycharm": {
     "name": "#%%\n"
    }
   },
   "outputs": [],
   "source": [
    "scd = False"
   ]
  },
  {
   "cell_type": "markdown",
   "metadata": {
    "pycharm": {
     "name": "#%% md\n"
    }
   },
   "source": [
    "Each model can be regarded as a tree of model components.\n",
    "Let us define models `TopModel`, `InterimModel` and `SubModel`."
   ]
  },
  {
   "cell_type": "code",
   "execution_count": 3,
   "metadata": {
    "collapsed": false,
    "jupyter": {
     "outputs_hidden": false
    },
    "pycharm": {
     "name": "#%%\n"
    }
   },
   "outputs": [],
   "source": [
    "class SubModel(Model):\n",
    "    name = 'submodel'\n",
    "    \n",
    "    length = bu.Float(2, GEO=True)\n",
    "\n",
    "    ipw_view = bu.View(\n",
    "        bu.Item('length')\n",
    "    )"
   ]
  },
  {
   "cell_type": "code",
   "execution_count": 4,
   "metadata": {
    "pycharm": {
     "name": "#%%\n"
    }
   },
   "outputs": [],
   "source": [
    "sm = SubModel()\n",
    "sm.state_change_debug = True"
   ]
  },
  {
   "cell_type": "code",
   "execution_count": 5,
   "metadata": {
    "pycharm": {
     "name": "#%%\n"
    }
   },
   "outputs": [
    {
     "name": "stdout",
     "output_type": "stream",
     "text": [
      "value_changed <__main__.SubModel object at 0x7fc90964fb80> TraitChangeEvent(object=<__main__.SubModel object at 0x7fc90964fb80>, name='length', old=2, new=3.0)\n"
     ]
    }
   ],
   "source": [
    "sm.length = 3"
   ]
  },
  {
   "cell_type": "markdown",
   "metadata": {
    "pycharm": {
     "name": "#%% md\n"
    }
   },
   "source": [
    "Let us define a more complex model"
   ]
  },
  {
   "cell_type": "code",
   "execution_count": 6,
   "metadata": {
    "collapsed": false,
    "jupyter": {
     "outputs_hidden": false
    },
    "pycharm": {
     "name": "#%%\n"
    }
   },
   "outputs": [],
   "source": [
    "class InterimModel(Model):\n",
    "    sm = bu.Instance(SubModel,())\n",
    "    \n",
    "    stiffness = tr.Property(bu.Float, depends_on='state_changed')\n",
    "    @tr.cached_property\n",
    "    def _get_stiffness(self):\n",
    "        return self.sm.length * 10\n",
    "    \n",
    "    depends_on = ['sm']\n",
    "    \n",
    "    ipw_view = bu.View(\n",
    "        bu.Item('stiffness', readonly=True)\n",
    "    )"
   ]
  },
  {
   "cell_type": "code",
   "execution_count": 7,
   "metadata": {
    "collapsed": false,
    "jupyter": {
     "outputs_hidden": false
    },
    "pycharm": {
     "name": "#%%\n"
    }
   },
   "outputs": [],
   "source": [
    "im = InterimModel(sm=sm)\n",
    "im.state_change_debug = True"
   ]
  },
  {
   "cell_type": "code",
   "execution_count": 8,
   "metadata": {
    "pycharm": {
     "name": "#%%\n"
    }
   },
   "outputs": [
    {
     "name": "stdout",
     "output_type": "stream",
     "text": [
      "value_changed <__main__.SubModel object at 0x7fc90964fb80> TraitChangeEvent(object=<__main__.SubModel object at 0x7fc90964fb80>, name='length', old=3.0, new=8.0)\n",
      "value_changed <__main__.InterimModel object at 0x7fc909808ae0> Notification from child <__main__.SubModel object at 0x7fc90964fb80>\n"
     ]
    }
   ],
   "source": [
    "im.sm.length = 8"
   ]
  },
  {
   "cell_type": "code",
   "execution_count": 9,
   "metadata": {
    "collapsed": false,
    "jupyter": {
     "outputs_hidden": false
    },
    "pycharm": {
     "name": "#%%\n"
    }
   },
   "outputs": [],
   "source": [
    "class TopLevelModelEagerGraphChange(Model):\n",
    "    name = 'tm'\n",
    "    \n",
    "    sm = bu.Instance(SubModel, ())\n",
    "    def _sm_default(self):\n",
    "        sm = SubModel()\n",
    "        self.set_sm(sm)\n",
    "        return sm\n",
    "    def _sm_changed(self):\n",
    "        self.set_sm(self.sm)\n",
    "    def set_sm(self, sm):\n",
    "        self.im.sm = sm\n",
    "        self.im2.sm = sm\n",
    "        \n",
    "    im = bu.Instance(InterimModel, ())\n",
    "    im2 = bu.Instance(InterimModel, ())\n",
    "\n",
    "    time = bu.Float(400, ALG=True)\n",
    "\n",
    "    tree = ['sm', 'im', 'im2']\n"
   ]
  },
  {
   "cell_type": "code",
   "execution_count": 10,
   "metadata": {
    "collapsed": false,
    "jupyter": {
     "outputs_hidden": false
    },
    "pycharm": {
     "name": "#%%\n"
    }
   },
   "outputs": [],
   "source": [
    "tl = TopLevelModelEagerGraphChange()\n",
    "tl.state_change_debug = True"
   ]
  },
  {
   "cell_type": "code",
   "execution_count": 11,
   "metadata": {
    "pycharm": {
     "name": "#%%\n"
    }
   },
   "outputs": [
    {
     "name": "stdout",
     "output_type": "stream",
     "text": [
      "parent <__main__.InterimModel object at 0x7fc909544ef0> changing child from child <__main__.SubModel object at 0x7fc909dbad60> to <__main__.SubModel object at 0x7fc93c132c20>\n",
      "graph_changed <__main__.InterimModel object at 0x7fc909544ef0> Notification from child <__main__.SubModel object at 0x7fc93c132c20>\n",
      "graph_changed <__main__.TopLevelModelEagerGraphChange object at 0x7fc90985e9f0> Notification from child <__main__.InterimModel object at 0x7fc909544ef0>\n",
      "parent <__main__.InterimModel object at 0x7fc90954e6d0> changing child from child <__main__.SubModel object at 0x7fc909dbad60> to <__main__.SubModel object at 0x7fc93c132c20>\n",
      "graph_changed <__main__.InterimModel object at 0x7fc90954e6d0> Notification from child <__main__.SubModel object at 0x7fc93c132c20>\n",
      "graph_changed <__main__.TopLevelModelEagerGraphChange object at 0x7fc90985e9f0> Notification from child <__main__.InterimModel object at 0x7fc90954e6d0>\n",
      "parent <__main__.TopLevelModelEagerGraphChange object at 0x7fc90985e9f0> changing child from child <__main__.SubModel object at 0x7fc909dbad60> to <__main__.SubModel object at 0x7fc93c132c20>\n",
      "graph_changed <__main__.TopLevelModelEagerGraphChange object at 0x7fc90985e9f0> Notification from child <__main__.SubModel object at 0x7fc93c132c20>\n"
     ]
    },
    {
     "data": {
      "text/plain": [
       "(<__main__.SubModel at 0x7fc93c132c20>,\n",
       " <__main__.SubModel at 0x7fc93c132c20>,\n",
       " <__main__.SubModel at 0x7fc93c132c20>)"
      ]
     },
     "execution_count": 11,
     "metadata": {},
     "output_type": "execute_result"
    }
   ],
   "source": [
    "tl.sm = SubModel()\n",
    "tl.sm, tl.im2.sm, tl.im.sm"
   ]
  },
  {
   "cell_type": "code",
   "execution_count": 12,
   "metadata": {
    "pycharm": {
     "name": "#%%\n"
    }
   },
   "outputs": [
    {
     "data": {
      "text/plain": [
       "({<__main__.TopLevelModelEagerGraphChange at 0x7fc90985e9f0>},\n",
       " {<__main__.TopLevelModelEagerGraphChange at 0x7fc90985e9f0>},\n",
       " {<__main__.InterimModel at 0x7fc909544ef0>,\n",
       "  <__main__.InterimModel at 0x7fc90954e6d0>,\n",
       "  <__main__.TopLevelModelEagerGraphChange at 0x7fc90985e9f0>})"
      ]
     },
     "execution_count": 12,
     "metadata": {},
     "output_type": "execute_result"
    }
   ],
   "source": [
    "tl.im.parents, tl.im2.parents, tl.sm.parents"
   ]
  },
  {
   "cell_type": "code",
   "execution_count": 13,
   "metadata": {
    "collapsed": false,
    "jupyter": {
     "outputs_hidden": false
    },
    "pycharm": {
     "name": "#%%\n"
    }
   },
   "outputs": [
    {
     "name": "stdout",
     "output_type": "stream",
     "text": [
      "value_changed <__main__.SubModel object at 0x7fc93c132c20> TraitChangeEvent(object=<__main__.SubModel object at 0x7fc93c132c20>, name='length', old=2, new=10.0)\n",
      "value_changed <__main__.TopLevelModelEagerGraphChange object at 0x7fc90985e9f0> Notification from child <__main__.SubModel object at 0x7fc93c132c20>\n",
      "value_changed <__main__.InterimModel object at 0x7fc90954e6d0> Notification from child <__main__.SubModel object at 0x7fc93c132c20>\n",
      "value_changed <__main__.TopLevelModelEagerGraphChange object at 0x7fc90985e9f0> Notification from child <__main__.InterimModel object at 0x7fc90954e6d0>\n",
      "value_changed <__main__.InterimModel object at 0x7fc909544ef0> Notification from child <__main__.SubModel object at 0x7fc93c132c20>\n",
      "value_changed <__main__.TopLevelModelEagerGraphChange object at 0x7fc90985e9f0> Notification from child <__main__.InterimModel object at 0x7fc909544ef0>\n"
     ]
    }
   ],
   "source": [
    "tl.im.sm.length = 10"
   ]
  },
  {
   "cell_type": "code",
   "execution_count": 14,
   "metadata": {
    "pycharm": {
     "name": "#%%\n"
    }
   },
   "outputs": [
    {
     "data": {
      "text/plain": [
       "(<__main__.InterimModel at 0x7fc909544ef0>,\n",
       " <__main__.InterimModel at 0x7fc90954e6d0>,\n",
       " {<__main__.InterimModel at 0x7fc909544ef0>,\n",
       "  <__main__.InterimModel at 0x7fc90954e6d0>,\n",
       "  <__main__.TopLevelModelEagerGraphChange at 0x7fc90985e9f0>})"
      ]
     },
     "execution_count": 14,
     "metadata": {},
     "output_type": "execute_result"
    }
   ],
   "source": [
    "tl.im, tl.im2, tl.im.sm.parents"
   ]
  },
  {
   "cell_type": "code",
   "execution_count": 15,
   "metadata": {
    "pycharm": {
     "name": "#%%\n"
    }
   },
   "outputs": [
    {
     "data": {
      "application/vnd.jupyter.widget-view+json": {
       "model_id": "a0a669794ea849a8bc8156386ad82464",
       "version_major": 2,
       "version_minor": 0
      },
      "text/plain": [
       "VBox(children=(HBox(children=(VBox(children=(Tree(layout=Layout(align_items='stretch', border='solid 1px black…"
      ]
     },
     "metadata": {},
     "output_type": "display_data"
    }
   ],
   "source": [
    "tl.interact()"
   ]
  },
  {
   "cell_type": "code",
   "execution_count": 16,
   "metadata": {
    "pycharm": {
     "name": "#%%\n"
    }
   },
   "outputs": [
    {
     "data": {
      "text/plain": [
       "8.0"
      ]
     },
     "execution_count": 16,
     "metadata": {},
     "output_type": "execute_result"
    }
   ],
   "source": [
    "im.sm.length"
   ]
  },
  {
   "cell_type": "code",
   "execution_count": 17,
   "metadata": {
    "pycharm": {
     "name": "#%%\n"
    }
   },
   "outputs": [],
   "source": [
    "class TopLevelModelLazyGraphChange(Model):\n",
    "    name = 'tm'\n",
    "    \n",
    "    sm = bu.Instance(SubModel, ())\n",
    "        \n",
    "    im = tr.Property(bu.Instance(InterimModel), depends_on='sm')\n",
    "    @tr.cached_property\n",
    "    def _get_im(self):\n",
    "        print('im')\n",
    "        return InterimModel(sm=self.sm)\n",
    "\n",
    "    im2 = tr.Property(bu.Instance(InterimModel), depends_on='sm')\n",
    "    @tr.cached_property\n",
    "    def _get_im2(self):\n",
    "        print('im2')\n",
    "        return InterimModel(sm=self.sm)\n",
    "\n",
    "    time = bu.Float(400, ALG=True)\n",
    "\n",
    "    tree = ['sm', 'im', 'im2']"
   ]
  },
  {
   "cell_type": "code",
   "execution_count": 18,
   "metadata": {
    "pycharm": {
     "name": "#%%\n"
    }
   },
   "outputs": [
    {
     "data": {
      "text/plain": [
       "({<__main__.InterimModel at 0x7fc9013f5770>,\n",
       "  <__main__.InterimModel at 0x7fc901491ef0>,\n",
       "  <__main__.TopLevelModelEagerGraphChange at 0x7fc9013df810>},\n",
       " {'sm': <__main__.SubModel at 0x7fc901483c70>,\n",
       "  'im': <__main__.InterimModel at 0x7fc901491ef0>,\n",
       "  'im2': <__main__.InterimModel at 0x7fc9013f5770>},\n",
       " {'sm': <__main__.SubModel at 0x7fc9013edb30>})"
      ]
     },
     "execution_count": 18,
     "metadata": {},
     "output_type": "execute_result"
    }
   ],
   "source": [
    "tl = TopLevelModelEagerGraphChange()\n",
    "tl.sm.parents, tl.children_traits, tl.im.children_traits"
   ]
  },
  {
   "cell_type": "code",
   "execution_count": 19,
   "metadata": {
    "pycharm": {
     "name": "#%%\n"
    }
   },
   "outputs": [
    {
     "data": {
      "application/vnd.jupyter.widget-view+json": {
       "model_id": "8e6bf0ec66f14cd0af9dd9b6c00a2d44",
       "version_major": 2,
       "version_minor": 0
      },
      "text/plain": [
       "VBox(children=(HBox(children=(VBox(children=(Tree(layout=Layout(align_items='stretch', border='solid 1px black…"
      ]
     },
     "metadata": {},
     "output_type": "display_data"
    }
   ],
   "source": [
    "tl.interact()"
   ]
  },
  {
   "cell_type": "markdown",
   "metadata": {
    "pycharm": {
     "name": "#%% md\n"
    }
   },
   "source": [
    "Add change the component and check if the changes of stiffness in InterimModel get updated"
   ]
  },
  {
   "cell_type": "code",
   "execution_count": 21,
   "metadata": {
    "pycharm": {
     "name": "#%%\n"
    }
   },
   "outputs": [
    {
     "data": {
      "text/plain": [
       "300.0"
      ]
     },
     "execution_count": 21,
     "metadata": {},
     "output_type": "execute_result"
    }
   ],
   "source": [
    "tl.sm = SubModel()\n",
    "tl.sm.length = 30\n",
    "tl.im.stiffness"
   ]
  },
  {
   "cell_type": "code",
   "execution_count": null,
   "metadata": {
    "pycharm": {
     "name": "#%%\n"
    }
   },
   "outputs": [],
   "source": []
  }
 ],
 "metadata": {
  "kernelspec": {
   "display_name": "bmcs_env",
   "language": "python",
   "name": "bmcs_env"
  },
  "language_info": {
   "codemirror_mode": {
    "name": "ipython",
    "version": 3
   },
   "file_extension": ".py",
   "mimetype": "text/x-python",
   "name": "python",
   "nbconvert_exporter": "python",
   "pygments_lexer": "ipython3",
   "version": "3.9.0"
  }
 },
 "nbformat": 4,
 "nbformat_minor": 4
}