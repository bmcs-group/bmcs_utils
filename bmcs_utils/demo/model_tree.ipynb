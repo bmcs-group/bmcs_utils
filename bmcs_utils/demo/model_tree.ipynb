{
 "cells": [
  {
   "cell_type": "markdown",
   "metadata": {
    "pycharm": {
     "name": "#%% md\n"
    }
   },
   "source": [
    "# Tree with state propagation"
   ]
  },
  {
   "cell_type": "code",
   "execution_count": 1,
   "metadata": {
    "collapsed": false,
    "jupyter": {
     "outputs_hidden": false
    },
    "pycharm": {
     "name": "#%%\n"
    }
   },
   "outputs": [],
   "source": [
    "%matplotlib widget\n",
    "import bmcs_utils.api as bu\n",
    "import traits.api as tr\n",
    "from bmcs_utils.model import Model"
   ]
  },
  {
   "cell_type": "code",
   "execution_count": 2,
   "metadata": {
    "pycharm": {
     "name": "#%%\n"
    }
   },
   "outputs": [],
   "source": [
    "scd = False"
   ]
  },
  {
   "cell_type": "markdown",
   "metadata": {
    "pycharm": {
     "name": "#%% md\n"
    }
   },
   "source": [
    "Each model can be regarded as a tree of model components.\n",
    "Let us define models `TopModel`, `InterimModel` and `SubModel`."
   ]
  },
  {
   "cell_type": "code",
   "execution_count": 3,
   "metadata": {
    "collapsed": false,
    "jupyter": {
     "outputs_hidden": false
    },
    "pycharm": {
     "name": "#%%\n"
    }
   },
   "outputs": [],
   "source": [
    "class SubModel(Model):\n",
    "    name = 'submodel'\n",
    "    \n",
    "    length = bu.Float(2, GEO=True)\n",
    "\n",
    "    ipw_view = bu.View(\n",
    "        bu.Item('length')\n",
    "    )"
   ]
  },
  {
   "cell_type": "code",
   "execution_count": 4,
   "metadata": {
    "pycharm": {
     "name": "#%%\n"
    }
   },
   "outputs": [],
   "source": [
    "sm = SubModel()\n",
    "sm.state_change_debug = True"
   ]
  },
  {
   "cell_type": "code",
   "execution_count": 5,
   "metadata": {
    "pycharm": {
     "name": "#%%\n"
    }
   },
   "outputs": [
    {
     "name": "stdout",
     "output_type": "stream",
     "text": [
      "value_changed <__main__.SubModel object at 0x7fe455f88a90> TraitChangeEvent(object=<__main__.SubModel object at 0x7fe455f88a90>, name='length', old=2, new=3.0)\n"
     ]
    }
   ],
   "source": [
    "sm.length = 3"
   ]
  },
  {
   "cell_type": "markdown",
   "metadata": {
    "pycharm": {
     "name": "#%% md\n"
    }
   },
   "source": [
    "Let us define a more complex model"
   ]
  },
  {
   "cell_type": "code",
   "execution_count": 6,
   "metadata": {
    "collapsed": false,
    "jupyter": {
     "outputs_hidden": false
    },
    "pycharm": {
     "name": "#%%\n"
    }
   },
   "outputs": [],
   "source": [
    "class InterimModel(Model):\n",
    "    sm = bu.Instance(SubModel,())\n",
    "    \n",
    "    stiffness = tr.Property(bu.Float, depends_on='state_changed')\n",
    "    @tr.cached_property\n",
    "    def _get_stiffness(self):\n",
    "        return self.sm.length * 10\n",
    "    \n",
    "    depends_on = ['sm']\n",
    "    \n",
    "    ipw_view = bu.View(\n",
    "        bu.Item('stiffness', readonly=True)\n",
    "    )"
   ]
  },
  {
   "cell_type": "code",
   "execution_count": 7,
   "metadata": {
    "collapsed": false,
    "jupyter": {
     "outputs_hidden": false
    },
    "pycharm": {
     "name": "#%%\n"
    }
   },
   "outputs": [],
   "source": [
    "im = InterimModel(sm=sm)\n",
    "im.state_change_debug = True"
   ]
  },
  {
   "cell_type": "code",
   "execution_count": 8,
   "metadata": {
    "pycharm": {
     "name": "#%%\n"
    }
   },
   "outputs": [
    {
     "name": "stdout",
     "output_type": "stream",
     "text": [
      "value_changed <__main__.SubModel object at 0x7fe455f88a90> TraitChangeEvent(object=<__main__.SubModel object at 0x7fe455f88a90>, name='length', old=3.0, new=8.0)\n",
      "value_changed <__main__.InterimModel object at 0x7fe4568c7ba0> Notification from child <__main__.SubModel object at 0x7fe455f88a90>\n"
     ]
    }
   ],
   "source": [
    "im.sm.length = 8"
   ]
  },
  {
   "cell_type": "code",
   "execution_count": 9,
   "metadata": {
    "collapsed": false,
    "jupyter": {
     "outputs_hidden": false
    },
    "pycharm": {
     "name": "#%%\n"
    }
   },
   "outputs": [],
   "source": [
    "class TopLevelModelEagerGraphChange(Model):\n",
    "    name = 'tm'\n",
    "    \n",
    "    sm = bu.Instance(SubModel, ())\n",
    "    def _sm_default(self):\n",
    "        sm = SubModel()\n",
    "        self.set_sm(sm)\n",
    "        return sm\n",
    "    def _sm_changed(self):\n",
    "        self.set_sm(self.sm)\n",
    "    def set_sm(self, sm):\n",
    "        self.im.sm = sm\n",
    "        self.im2.sm = sm\n",
    "        \n",
    "    im = bu.Instance(InterimModel, ())\n",
    "    im2 = bu.Instance(InterimModel, ())\n",
    "\n",
    "    time = bu.Float(400, ALG=True)\n",
    "\n",
    "    tree = ['sm', 'im', 'im2']\n"
   ]
  },
  {
   "cell_type": "code",
   "execution_count": 10,
   "metadata": {
    "collapsed": false,
    "jupyter": {
     "outputs_hidden": false
    },
    "pycharm": {
     "name": "#%%\n"
    }
   },
   "outputs": [],
   "source": [
    "tl = TopLevelModelEagerGraphChange()\n",
    "tl.state_change_debug = True"
   ]
  },
  {
   "cell_type": "code",
   "execution_count": 11,
   "metadata": {
    "pycharm": {
     "name": "#%%\n"
    }
   },
   "outputs": [
    {
     "name": "stdout",
     "output_type": "stream",
     "text": [
      "parent <__main__.InterimModel object at 0x7fe456151760> changing child from child <__main__.SubModel object at 0x7fe455e76340> to <__main__.SubModel object at 0x7fe455e9dbc0>\n",
      "graph_changed <__main__.InterimModel object at 0x7fe456151760> Notification from child <__main__.SubModel object at 0x7fe455e9dbc0>\n",
      "graph_changed <__main__.TopLevelModelEagerGraphChange object at 0x7fe455e75350> Notification from child <__main__.InterimModel object at 0x7fe456151760>\n",
      "parent <__main__.InterimModel object at 0x7fe455e8a750> changing child from child <__main__.SubModel object at 0x7fe455e76340> to <__main__.SubModel object at 0x7fe455e9dbc0>\n",
      "graph_changed <__main__.InterimModel object at 0x7fe455e8a750> Notification from child <__main__.SubModel object at 0x7fe455e9dbc0>\n",
      "graph_changed <__main__.TopLevelModelEagerGraphChange object at 0x7fe455e75350> Notification from child <__main__.InterimModel object at 0x7fe455e8a750>\n",
      "parent <__main__.TopLevelModelEagerGraphChange object at 0x7fe455e75350> changing child from child <__main__.SubModel object at 0x7fe455e76340> to <__main__.SubModel object at 0x7fe455e9dbc0>\n",
      "graph_changed <__main__.TopLevelModelEagerGraphChange object at 0x7fe455e75350> Notification from child <__main__.SubModel object at 0x7fe455e9dbc0>\n"
     ]
    },
    {
     "data": {
      "text/plain": [
       "(<__main__.SubModel at 0x7fe455e9dbc0>,\n",
       " <__main__.SubModel at 0x7fe455e9dbc0>,\n",
       " <__main__.SubModel at 0x7fe455e9dbc0>)"
      ]
     },
     "execution_count": 11,
     "metadata": {},
     "output_type": "execute_result"
    }
   ],
   "source": [
    "tl.sm = SubModel()\n",
    "tl.sm, tl.im2.sm, tl.im.sm"
   ]
  },
  {
   "cell_type": "code",
   "execution_count": 12,
   "metadata": {
    "pycharm": {
     "name": "#%%\n"
    }
   },
   "outputs": [
    {
     "data": {
      "text/plain": [
       "({<__main__.TopLevelModelEagerGraphChange at 0x7fe455e75350>},\n",
       " {<__main__.TopLevelModelEagerGraphChange at 0x7fe455e75350>},\n",
       " {<__main__.InterimModel at 0x7fe455e8a750>,\n",
       "  <__main__.InterimModel at 0x7fe456151760>,\n",
       "  <__main__.TopLevelModelEagerGraphChange at 0x7fe455e75350>})"
      ]
     },
     "execution_count": 12,
     "metadata": {},
     "output_type": "execute_result"
    }
   ],
   "source": [
    "tl.im.parents, tl.im2.parents, tl.sm.parents"
   ]
  },
  {
   "cell_type": "code",
   "execution_count": 13,
   "metadata": {
    "collapsed": false,
    "jupyter": {
     "outputs_hidden": false
    },
    "pycharm": {
     "name": "#%%\n"
    }
   },
   "outputs": [
    {
     "name": "stdout",
     "output_type": "stream",
     "text": [
      "value_changed <__main__.SubModel object at 0x7fe455e9dbc0> TraitChangeEvent(object=<__main__.SubModel object at 0x7fe455e9dbc0>, name='length', old=2, new=10.0)\n",
      "value_changed <__main__.TopLevelModelEagerGraphChange object at 0x7fe455e75350> Notification from child <__main__.SubModel object at 0x7fe455e9dbc0>\n",
      "value_changed <__main__.InterimModel object at 0x7fe455e8a750> Notification from child <__main__.SubModel object at 0x7fe455e9dbc0>\n",
      "value_changed <__main__.TopLevelModelEagerGraphChange object at 0x7fe455e75350> Notification from child <__main__.InterimModel object at 0x7fe455e8a750>\n",
      "value_changed <__main__.InterimModel object at 0x7fe456151760> Notification from child <__main__.SubModel object at 0x7fe455e9dbc0>\n",
      "value_changed <__main__.TopLevelModelEagerGraphChange object at 0x7fe455e75350> Notification from child <__main__.InterimModel object at 0x7fe456151760>\n"
     ]
    }
   ],
   "source": [
    "tl.im.sm.length = 10"
   ]
  },
  {
   "cell_type": "code",
   "execution_count": 14,
   "metadata": {
    "pycharm": {
     "name": "#%%\n"
    }
   },
   "outputs": [
    {
     "data": {
      "text/plain": [
       "(<__main__.InterimModel at 0x7fe456151760>,\n",
       " <__main__.InterimModel at 0x7fe455e8a750>,\n",
       " {<__main__.InterimModel at 0x7fe455e8a750>,\n",
       "  <__main__.InterimModel at 0x7fe456151760>,\n",
       "  <__main__.TopLevelModelEagerGraphChange at 0x7fe455e75350>})"
      ]
     },
     "execution_count": 14,
     "metadata": {},
     "output_type": "execute_result"
    }
   ],
   "source": [
    "tl.im, tl.im2, tl.im.sm.parents"
   ]
  },
  {
   "cell_type": "code",
   "execution_count": 15,
   "metadata": {
    "pycharm": {
     "name": "#%%\n"
    }
   },
   "outputs": [
    {
     "data": {
      "application/vnd.jupyter.widget-view+json": {
       "model_id": "e1038d23b3ef4ca8bc688492c2998a84",
       "version_major": 2,
       "version_minor": 0
      },
      "text/plain": [
       "VBox(children=(HBox(children=(VBox(children=(Tree(layout=Layout(align_items='stretch', border='solid 1px black…"
      ]
     },
     "metadata": {},
     "output_type": "display_data"
    }
   ],
   "source": [
    "tl.interact()"
   ]
  },
  {
   "cell_type": "code",
   "execution_count": 18,
   "metadata": {
    "pycharm": {
     "name": "#%%\n"
    }
   },
   "outputs": [
    {
     "data": {
      "text/plain": [
       "8.0"
      ]
     },
     "execution_count": 18,
     "metadata": {},
     "output_type": "execute_result"
    }
   ],
   "source": [
    "im.sm.length"
   ]
  },
  {
   "cell_type": "code",
   "execution_count": 19,
   "metadata": {
    "pycharm": {
     "name": "#%%\n"
    }
   },
   "outputs": [],
   "source": [
    "class TopLevelModelLazyGraphChange(Model):\n",
    "    name = 'tm'\n",
    "    \n",
    "    sm = bu.Instance(SubModel, ())\n",
    "        \n",
    "    im = tr.Property(bu.Instance(InterimModel), depends_on='sm')\n",
    "    @tr.cached_property\n",
    "    def _get_im(self):\n",
    "        print('im')\n",
    "        return InterimModel(sm=self.sm)\n",
    "\n",
    "    im2 = tr.Property(bu.Instance(InterimModel), depends_on='sm')\n",
    "    @tr.cached_property\n",
    "    def _get_im2(self):\n",
    "        print('im2')\n",
    "        return InterimModel(sm=self.sm)\n",
    "\n",
    "    time = bu.Float(400, ALG=True)\n",
    "\n",
    "    tree = ['sm', 'im', 'im2']"
   ]
  },
  {
   "cell_type": "code",
   "execution_count": 20,
   "metadata": {
    "pycharm": {
     "name": "#%%\n"
    }
   },
   "outputs": [
    {
     "data": {
      "text/plain": [
       "({<__main__.InterimModel at 0x7fe44d8a9760>,\n",
       "  <__main__.InterimModel at 0x7fe44ddfad40>,\n",
       "  <__main__.TopLevelModelEagerGraphChange at 0x7fe44ddf80e0>},\n",
       " {'sm': <__main__.SubModel at 0x7fe44d8a8180>,\n",
       "  'im': <__main__.InterimModel at 0x7fe44d8a9760>,\n",
       "  'im2': <__main__.InterimModel at 0x7fe44ddfad40>},\n",
       " {'sm': <__main__.SubModel at 0x7fe44d8aae30>})"
      ]
     },
     "execution_count": 20,
     "metadata": {},
     "output_type": "execute_result"
    }
   ],
   "source": [
    "tl = TopLevelModelEagerGraphChange()\n",
    "tl.sm.parents, tl.children_traits, tl.im.children_traits"
   ]
  },
  {
   "cell_type": "code",
   "execution_count": 21,
   "metadata": {
    "pycharm": {
     "name": "#%%\n"
    }
   },
   "outputs": [
    {
     "data": {
      "application/vnd.jupyter.widget-view+json": {
       "model_id": "74a6db65df6b415482933992333a3cab",
       "version_major": 2,
       "version_minor": 0
      },
      "text/plain": [
       "VBox(children=(HBox(children=(VBox(children=(Tree(layout=Layout(align_items='stretch', border='solid 1px black…"
      ]
     },
     "metadata": {},
     "output_type": "display_data"
    }
   ],
   "source": [
    "tl.interact()"
   ]
  },
  {
   "cell_type": "markdown",
   "metadata": {
    "pycharm": {
     "name": "#%% md\n"
    }
   },
   "source": [
    "Add change the component and check if the changes of stiffness in InterimModel get updated"
   ]
  },
  {
   "cell_type": "code",
   "execution_count": 22,
   "metadata": {
    "pycharm": {
     "name": "#%%\n"
    }
   },
   "outputs": [
    {
     "data": {
      "text/plain": [
       "300.0"
      ]
     },
     "execution_count": 22,
     "metadata": {},
     "output_type": "execute_result"
    }
   ],
   "source": [
    "tl.sm = SubModel()\n",
    "tl.sm.length = 30\n",
    "tl.im.stiffness"
   ]
  },
  {
   "cell_type": "code",
   "execution_count": null,
   "metadata": {
    "pycharm": {
     "name": "#%%\n"
    }
   },
   "outputs": [],
   "source": []
  }
 ],
 "metadata": {
  "kernelspec": {
   "display_name": "Python 3 (ipykernel)",
   "language": "python",
   "name": "python3"
  },
  "language_info": {
   "codemirror_mode": {
    "name": "ipython",
    "version": 3
   },
   "file_extension": ".py",
   "mimetype": "text/x-python",
   "name": "python",
   "nbconvert_exporter": "python",
   "pygments_lexer": "ipython3",
   "version": "3.10.4"
  }
 },
 "nbformat": 4,
 "nbformat_minor": 4
}
