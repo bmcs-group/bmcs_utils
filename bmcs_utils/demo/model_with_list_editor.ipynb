{
 "cells": [
  {
   "cell_type": "markdown",
   "metadata": {
    "pycharm": {
     "name": "#%% md\n"
    }
   },
   "source": [
    "# List editor"
   ]
  },
  {
   "cell_type": "code",
   "execution_count": 1,
   "metadata": {
    "pycharm": {
     "name": "#%%\n"
    }
   },
   "outputs": [],
   "source": [
    "%matplotlib widget\n",
    "\n",
    "import traits.api as tr\n",
    "\n",
    "from bmcs_utils.api import \\\n",
    "    Model, Float, View, Item, Instance, List, ListEditor, ModelList"
   ]
  },
  {
   "cell_type": "code",
   "execution_count": 2,
   "metadata": {
    "pycharm": {
     "name": "#%%\n"
    }
   },
   "outputs": [],
   "source": [
    "class ReinfLayer(Model):\n",
    "    name = 'layer 1'\n",
    "    position = Float(10, CS=True)\n",
    "\n",
    "    ipw_view = View(\n",
    "        Item('position')\n",
    "    )\n",
    "\n",
    "    def update_plot(self, axes):\n",
    "        pass\n",
    "\n",
    "class CrossSection(Model):\n",
    "\n",
    "    name = 'cross section'\n",
    "\n",
    "    inst = Instance(ReinfLayer, ())\n",
    "\n",
    "    layers = Instance(ModelList, ())\n",
    "    \n",
    "    tree = ['layers', 'inst']\n",
    "    \n",
    "    ipw_view = View(\n",
    "        Item('layers')\n",
    "    )\n",
    "    \n",
    "    def update_plot(self, axes):\n",
    "        pass"
   ]
  },
  {
   "cell_type": "code",
   "execution_count": 3,
   "metadata": {
    "pycharm": {
     "name": "#%%\n"
    }
   },
   "outputs": [],
   "source": [
    "cs = CrossSection(\n",
    ")\n",
    "cs.layers.items =[ReinfLayer(name='l1', position=20),\n",
    "             ReinfLayer(name='l2', position=10)]\n"
   ]
  },
  {
   "cell_type": "code",
   "execution_count": 4,
   "metadata": {
    "pycharm": {
     "name": "#%%\n"
    }
   },
   "outputs": [],
   "source": [
    "cs.layers['l1'].position = 80"
   ]
  },
  {
   "cell_type": "code",
   "execution_count": 5,
   "metadata": {
    "pycharm": {
     "name": "#%%\n"
    }
   },
   "outputs": [
    {
     "ename": "AttributeError",
     "evalue": "'NoneType' object has no attribute 'trait_type'",
     "output_type": "error",
     "traceback": [
      "\u001b[0;31m---------------------------------------------------------------------------\u001b[0m",
      "\u001b[0;31mAttributeError\u001b[0m                            Traceback (most recent call last)",
      "Input \u001b[0;32mIn [5]\u001b[0m, in \u001b[0;36m<module>\u001b[0;34m\u001b[0m\n\u001b[0;32m----> 1\u001b[0m \u001b[43mcs\u001b[49m\u001b[38;5;241;43m.\u001b[39;49m\u001b[43mapp\u001b[49m\u001b[43m(\u001b[49m\u001b[43m)\u001b[49m\n",
      "File \u001b[0;32m~/PycharmProjects/bmcs_utils/bmcs_utils/model.py:59\u001b[0m, in \u001b[0;36mModel.app\u001b[0;34m(self, **kw)\u001b[0m\n\u001b[1;32m     58\u001b[0m \u001b[38;5;28;01mdef\u001b[39;00m \u001b[38;5;21mapp\u001b[39m(\u001b[38;5;28mself\u001b[39m,\u001b[38;5;241m*\u001b[39m\u001b[38;5;241m*\u001b[39mkw):\n\u001b[0;32m---> 59\u001b[0m     \u001b[38;5;28;01mreturn\u001b[39;00m \u001b[38;5;28;43mself\u001b[39;49m\u001b[38;5;241;43m.\u001b[39;49m\u001b[43minteract\u001b[49m\u001b[43m(\u001b[49m\u001b[38;5;241;43m*\u001b[39;49m\u001b[38;5;241;43m*\u001b[39;49m\u001b[43mkw\u001b[49m\u001b[43m)\u001b[49m\n",
      "File \u001b[0;32m~/PycharmProjects/bmcs_utils/bmcs_utils/model.py:56\u001b[0m, in \u001b[0;36mModel.interact\u001b[0;34m(self, **kw)\u001b[0m\n\u001b[1;32m     54\u001b[0m \u001b[38;5;28;01mdef\u001b[39;00m \u001b[38;5;21minteract\u001b[39m(\u001b[38;5;28mself\u001b[39m,\u001b[38;5;241m*\u001b[39m\u001b[38;5;241m*\u001b[39mkw):\n\u001b[1;32m     55\u001b[0m     app_window \u001b[38;5;241m=\u001b[39m \u001b[38;5;28mself\u001b[39m\u001b[38;5;241m.\u001b[39mnew_app_window()\n\u001b[0;32m---> 56\u001b[0m     \u001b[38;5;28;01mreturn\u001b[39;00m \u001b[43mapp_window\u001b[49m\u001b[38;5;241;43m.\u001b[39;49m\u001b[43minteract\u001b[49m\u001b[43m(\u001b[49m\u001b[43m)\u001b[49m\n",
      "File \u001b[0;32m~/PycharmProjects/bmcs_utils/bmcs_utils/app_window.py:134\u001b[0m, in \u001b[0;36mAppWindow.interact\u001b[0;34m(self)\u001b[0m\n\u001b[1;32m    133\u001b[0m \u001b[38;5;28;01mdef\u001b[39;00m \u001b[38;5;21minteract\u001b[39m(\u001b[38;5;28mself\u001b[39m):\n\u001b[0;32m--> 134\u001b[0m     left_pane \u001b[38;5;241m=\u001b[39m ipw\u001b[38;5;241m.\u001b[39mVBox([\u001b[38;5;28;43mself\u001b[39;49m\u001b[38;5;241;43m.\u001b[39;49m\u001b[43mtree_pane\u001b[49m, \u001b[38;5;28mself\u001b[39m\u001b[38;5;241m.\u001b[39mmodel_editor_pane],\n\u001b[1;32m    135\u001b[0m                          layout\u001b[38;5;241m=\u001b[39m\u001b[38;5;28mself\u001b[39m\u001b[38;5;241m.\u001b[39mleft_pane_layout)\n\u001b[1;32m    136\u001b[0m     name \u001b[38;5;241m=\u001b[39m \u001b[38;5;28mself\u001b[39m\u001b[38;5;241m.\u001b[39mmodel\u001b[38;5;241m.\u001b[39mname\n\u001b[1;32m    137\u001b[0m     \u001b[38;5;28mself\u001b[39m\u001b[38;5;241m.\u001b[39mmenubar \u001b[38;5;241m=\u001b[39m ipw\u001b[38;5;241m.\u001b[39mLabel(value\u001b[38;5;241m=\u001b[39mname, layout\u001b[38;5;241m=\u001b[39mipw\u001b[38;5;241m.\u001b[39mLayout(width\u001b[38;5;241m=\u001b[39m\u001b[38;5;124m\"\u001b[39m\u001b[38;5;124m100\u001b[39m\u001b[38;5;124m%\u001b[39m\u001b[38;5;124m\"\u001b[39m, height\u001b[38;5;241m=\u001b[39m\u001b[38;5;124m\"\u001b[39m\u001b[38;5;124m150px\u001b[39m\u001b[38;5;124m\"\u001b[39m))\n",
      "File \u001b[0;32m~/miniconda3/envs/bmcs_env/lib/python3.9/site-packages/traits/has_traits.py:960\u001b[0m, in \u001b[0;36mcached_property.<locals>.decorator\u001b[0;34m(self)\u001b[0m\n\u001b[1;32m    958\u001b[0m result \u001b[38;5;241m=\u001b[39m \u001b[38;5;28mself\u001b[39m\u001b[38;5;241m.\u001b[39m\u001b[38;5;18m__dict__\u001b[39m\u001b[38;5;241m.\u001b[39mget(name, Undefined)\n\u001b[1;32m    959\u001b[0m \u001b[38;5;28;01mif\u001b[39;00m result \u001b[38;5;129;01mis\u001b[39;00m Undefined:\n\u001b[0;32m--> 960\u001b[0m     \u001b[38;5;28mself\u001b[39m\u001b[38;5;241m.\u001b[39m\u001b[38;5;18m__dict__\u001b[39m[name] \u001b[38;5;241m=\u001b[39m result \u001b[38;5;241m=\u001b[39m \u001b[43mfunction\u001b[49m\u001b[43m(\u001b[49m\u001b[38;5;28;43mself\u001b[39;49m\u001b[43m)\u001b[49m\n\u001b[1;32m    962\u001b[0m \u001b[38;5;28;01mreturn\u001b[39;00m result\n",
      "File \u001b[0;32m~/PycharmProjects/bmcs_utils/bmcs_utils/app_window.py:198\u001b[0m, in \u001b[0;36mAppWindow._get_tree_pane\u001b[0;34m(self)\u001b[0m\n\u001b[1;32m    185\u001b[0m tree_layout \u001b[38;5;241m=\u001b[39m ipw\u001b[38;5;241m.\u001b[39mLayout(display\u001b[38;5;241m=\u001b[39m\u001b[38;5;124m'\u001b[39m\u001b[38;5;124mflex\u001b[39m\u001b[38;5;124m'\u001b[39m,\n\u001b[1;32m    186\u001b[0m                          overflow_y\u001b[38;5;241m=\u001b[39m\u001b[38;5;124m'\u001b[39m\u001b[38;5;124mscroll\u001b[39m\u001b[38;5;124m'\u001b[39m,\n\u001b[1;32m    187\u001b[0m                          overflow_x\u001b[38;5;241m=\u001b[39m\u001b[38;5;124m'\u001b[39m\u001b[38;5;124mscroll\u001b[39m\u001b[38;5;124m'\u001b[39m,\n\u001b[0;32m   (...)\u001b[0m\n\u001b[1;32m    194\u001b[0m                          height\u001b[38;5;241m=\u001b[39m\u001b[38;5;124m\"\u001b[39m\u001b[38;5;124m30\u001b[39m\u001b[38;5;124m%\u001b[39m\u001b[38;5;124m\"\u001b[39m,\n\u001b[1;32m    195\u001b[0m                          width\u001b[38;5;241m=\u001b[39m\u001b[38;5;124m'\u001b[39m\u001b[38;5;124m100\u001b[39m\u001b[38;5;124m%\u001b[39m\u001b[38;5;124m'\u001b[39m)\n\u001b[1;32m    197\u001b[0m tree_pane \u001b[38;5;241m=\u001b[39m ipt\u001b[38;5;241m.\u001b[39mTree(layout\u001b[38;5;241m=\u001b[39mtree_layout)\n\u001b[0;32m--> 198\u001b[0m root_node \u001b[38;5;241m=\u001b[39m \u001b[38;5;28;43mself\u001b[39;49m\u001b[38;5;241;43m.\u001b[39;49m\u001b[43mmodel_tree\u001b[49m\n\u001b[1;32m    199\u001b[0m tree_pane\u001b[38;5;241m.\u001b[39mnodes \u001b[38;5;241m=\u001b[39m (root_node,)\n\u001b[1;32m    200\u001b[0m \u001b[38;5;28;01mreturn\u001b[39;00m tree_pane\n",
      "File \u001b[0;32m~/miniconda3/envs/bmcs_env/lib/python3.9/site-packages/traits/has_traits.py:960\u001b[0m, in \u001b[0;36mcached_property.<locals>.decorator\u001b[0;34m(self)\u001b[0m\n\u001b[1;32m    958\u001b[0m result \u001b[38;5;241m=\u001b[39m \u001b[38;5;28mself\u001b[39m\u001b[38;5;241m.\u001b[39m\u001b[38;5;18m__dict__\u001b[39m\u001b[38;5;241m.\u001b[39mget(name, Undefined)\n\u001b[1;32m    959\u001b[0m \u001b[38;5;28;01mif\u001b[39;00m result \u001b[38;5;129;01mis\u001b[39;00m Undefined:\n\u001b[0;32m--> 960\u001b[0m     \u001b[38;5;28mself\u001b[39m\u001b[38;5;241m.\u001b[39m\u001b[38;5;18m__dict__\u001b[39m[name] \u001b[38;5;241m=\u001b[39m result \u001b[38;5;241m=\u001b[39m \u001b[43mfunction\u001b[49m\u001b[43m(\u001b[49m\u001b[38;5;28;43mself\u001b[39;49m\u001b[43m)\u001b[49m\n\u001b[1;32m    962\u001b[0m \u001b[38;5;28;01mreturn\u001b[39;00m result\n",
      "File \u001b[0;32m~/PycharmProjects/bmcs_utils/bmcs_utils/app_window.py:157\u001b[0m, in \u001b[0;36mAppWindow._get_model_tree\u001b[0;34m(self)\u001b[0m\n\u001b[1;32m    155\u001b[0m \u001b[38;5;129m@tr\u001b[39m\u001b[38;5;241m.\u001b[39mcached_property\n\u001b[1;32m    156\u001b[0m \u001b[38;5;28;01mdef\u001b[39;00m \u001b[38;5;21m_get_model_tree\u001b[39m(\u001b[38;5;28mself\u001b[39m):\n\u001b[0;32m--> 157\u001b[0m     tree \u001b[38;5;241m=\u001b[39m \u001b[38;5;28;43mself\u001b[39;49m\u001b[38;5;241;43m.\u001b[39;49m\u001b[43mmodel\u001b[49m\u001b[38;5;241;43m.\u001b[39;49m\u001b[43mget_tree_subnode\u001b[49m\u001b[43m(\u001b[49m\u001b[38;5;28;43mself\u001b[39;49m\u001b[38;5;241;43m.\u001b[39;49m\u001b[43mmodel\u001b[49m\u001b[38;5;241;43m.\u001b[39;49m\u001b[43mname\u001b[49m\u001b[43m)\u001b[49m\n\u001b[1;32m    158\u001b[0m     \u001b[38;5;28;01mreturn\u001b[39;00m \u001b[38;5;28mself\u001b[39m\u001b[38;5;241m.\u001b[39mget_tree_entries(tree)\n",
      "File \u001b[0;32m~/PycharmProjects/bmcs_utils/bmcs_utils/model_tree_node_mixin.py:33\u001b[0m, in \u001b[0;36mModelTreeNodeMixin.get_tree_subnode\u001b[0;34m(self, name)\u001b[0m\n\u001b[1;32m     30\u001b[0m \u001b[38;5;28;01mdef\u001b[39;00m \u001b[38;5;21mget_tree_subnode\u001b[39m(\u001b[38;5;28mself\u001b[39m, name):\n\u001b[1;32m     31\u001b[0m     \u001b[38;5;66;03m# Construct a tree structure of instances tagged by `tree`\u001b[39;00m\n\u001b[1;32m     32\u001b[0m     submodels \u001b[38;5;241m=\u001b[39m \u001b[38;5;28mself\u001b[39m\u001b[38;5;241m.\u001b[39mtree_submodels\n\u001b[0;32m---> 33\u001b[0m     tree_subnodes \u001b[38;5;241m=\u001b[39m [\n\u001b[1;32m     34\u001b[0m         submodel\u001b[38;5;241m.\u001b[39mget_tree_subnode(node_name)\n\u001b[1;32m     35\u001b[0m         \u001b[38;5;28;01mfor\u001b[39;00m node_name, submodel \u001b[38;5;129;01min\u001b[39;00m \u001b[38;5;28mzip\u001b[39m(\u001b[38;5;28mself\u001b[39m\u001b[38;5;241m.\u001b[39mtree, submodels)\n\u001b[1;32m     36\u001b[0m     ]\n\u001b[1;32m     37\u001b[0m     \u001b[38;5;28;01mreturn\u001b[39;00m (name, \u001b[38;5;28mself\u001b[39m, tree_subnodes)\n",
      "File \u001b[0;32m~/PycharmProjects/bmcs_utils/bmcs_utils/model_tree_node_mixin.py:34\u001b[0m, in \u001b[0;36m<listcomp>\u001b[0;34m(.0)\u001b[0m\n\u001b[1;32m     30\u001b[0m \u001b[38;5;28;01mdef\u001b[39;00m \u001b[38;5;21mget_tree_subnode\u001b[39m(\u001b[38;5;28mself\u001b[39m, name):\n\u001b[1;32m     31\u001b[0m     \u001b[38;5;66;03m# Construct a tree structure of instances tagged by `tree`\u001b[39;00m\n\u001b[1;32m     32\u001b[0m     submodels \u001b[38;5;241m=\u001b[39m \u001b[38;5;28mself\u001b[39m\u001b[38;5;241m.\u001b[39mtree_submodels\n\u001b[1;32m     33\u001b[0m     tree_subnodes \u001b[38;5;241m=\u001b[39m [\n\u001b[0;32m---> 34\u001b[0m         \u001b[43msubmodel\u001b[49m\u001b[38;5;241;43m.\u001b[39;49m\u001b[43mget_tree_subnode\u001b[49m\u001b[43m(\u001b[49m\u001b[43mnode_name\u001b[49m\u001b[43m)\u001b[49m\n\u001b[1;32m     35\u001b[0m         \u001b[38;5;28;01mfor\u001b[39;00m node_name, submodel \u001b[38;5;129;01min\u001b[39;00m \u001b[38;5;28mzip\u001b[39m(\u001b[38;5;28mself\u001b[39m\u001b[38;5;241m.\u001b[39mtree, submodels)\n\u001b[1;32m     36\u001b[0m     ]\n\u001b[1;32m     37\u001b[0m     \u001b[38;5;28;01mreturn\u001b[39;00m (name, \u001b[38;5;28mself\u001b[39m, tree_subnodes)\n",
      "File \u001b[0;32m~/PycharmProjects/bmcs_utils/bmcs_utils/model_tree_node_mixin.py:32\u001b[0m, in \u001b[0;36mModelTreeNodeMixin.get_tree_subnode\u001b[0;34m(self, name)\u001b[0m\n\u001b[1;32m     30\u001b[0m \u001b[38;5;28;01mdef\u001b[39;00m \u001b[38;5;21mget_tree_subnode\u001b[39m(\u001b[38;5;28mself\u001b[39m, name):\n\u001b[1;32m     31\u001b[0m     \u001b[38;5;66;03m# Construct a tree structure of instances tagged by `tree`\u001b[39;00m\n\u001b[0;32m---> 32\u001b[0m     submodels \u001b[38;5;241m=\u001b[39m \u001b[38;5;28;43mself\u001b[39;49m\u001b[38;5;241;43m.\u001b[39;49m\u001b[43mtree_submodels\u001b[49m\n\u001b[1;32m     33\u001b[0m     tree_subnodes \u001b[38;5;241m=\u001b[39m [\n\u001b[1;32m     34\u001b[0m         submodel\u001b[38;5;241m.\u001b[39mget_tree_subnode(node_name)\n\u001b[1;32m     35\u001b[0m         \u001b[38;5;28;01mfor\u001b[39;00m node_name, submodel \u001b[38;5;129;01min\u001b[39;00m \u001b[38;5;28mzip\u001b[39m(\u001b[38;5;28mself\u001b[39m\u001b[38;5;241m.\u001b[39mtree, submodels)\n\u001b[1;32m     36\u001b[0m     ]\n\u001b[1;32m     37\u001b[0m     \u001b[38;5;28;01mreturn\u001b[39;00m (name, \u001b[38;5;28mself\u001b[39m, tree_subnodes)\n",
      "File \u001b[0;32m~/miniconda3/envs/bmcs_env/lib/python3.9/site-packages/traits/has_traits.py:960\u001b[0m, in \u001b[0;36mcached_property.<locals>.decorator\u001b[0;34m(self)\u001b[0m\n\u001b[1;32m    958\u001b[0m result \u001b[38;5;241m=\u001b[39m \u001b[38;5;28mself\u001b[39m\u001b[38;5;241m.\u001b[39m\u001b[38;5;18m__dict__\u001b[39m\u001b[38;5;241m.\u001b[39mget(name, Undefined)\n\u001b[1;32m    959\u001b[0m \u001b[38;5;28;01mif\u001b[39;00m result \u001b[38;5;129;01mis\u001b[39;00m Undefined:\n\u001b[0;32m--> 960\u001b[0m     \u001b[38;5;28mself\u001b[39m\u001b[38;5;241m.\u001b[39m\u001b[38;5;18m__dict__\u001b[39m[name] \u001b[38;5;241m=\u001b[39m result \u001b[38;5;241m=\u001b[39m \u001b[43mfunction\u001b[49m\u001b[43m(\u001b[49m\u001b[38;5;28;43mself\u001b[39;49m\u001b[43m)\u001b[49m\n\u001b[1;32m    962\u001b[0m \u001b[38;5;28;01mreturn\u001b[39;00m result\n",
      "File \u001b[0;32m~/PycharmProjects/bmcs_utils/bmcs_utils/model_tree_node_mixin.py:23\u001b[0m, in \u001b[0;36mModelTreeNodeMixin._get_tree_submodels\u001b[0;34m(self)\u001b[0m\n\u001b[1;32m     21\u001b[0m \u001b[38;5;28;01mfor\u001b[39;00m name \u001b[38;5;129;01min\u001b[39;00m \u001b[38;5;28mself\u001b[39m\u001b[38;5;241m.\u001b[39mget_tree_items():\n\u001b[1;32m     22\u001b[0m     trait \u001b[38;5;241m=\u001b[39m \u001b[38;5;28mself\u001b[39m\u001b[38;5;241m.\u001b[39mtrait(name)\n\u001b[0;32m---> 23\u001b[0m     name_ \u001b[38;5;241m=\u001b[39m \u001b[43mtrait\u001b[49m\u001b[38;5;241;43m.\u001b[39;49m\u001b[43mtrait_type\u001b[49m\u001b[38;5;241m.\u001b[39mget_name_(name)\n\u001b[1;32m     24\u001b[0m     trait_ \u001b[38;5;241m=\u001b[39m \u001b[38;5;28mgetattr\u001b[39m(\u001b[38;5;28mself\u001b[39m, name_, \u001b[38;5;28;01mNone\u001b[39;00m)\n\u001b[1;32m     25\u001b[0m     \u001b[38;5;28;01mif\u001b[39;00m trait_ \u001b[38;5;241m==\u001b[39m \u001b[38;5;28;01mNone\u001b[39;00m:\n",
      "\u001b[0;31mAttributeError\u001b[0m: 'NoneType' object has no attribute 'trait_type'"
     ]
    }
   ],
   "source": [
    "cs.app()"
   ]
  },
  {
   "cell_type": "code",
   "execution_count": null,
   "metadata": {
    "pycharm": {
     "name": "#%%\n"
    }
   },
   "outputs": [],
   "source": []
  }
 ],
 "metadata": {
  "kernelspec": {
   "display_name": "Python 3 (ipykernel)",
   "language": "python",
   "name": "python3"
  },
  "language_info": {
   "codemirror_mode": {
    "name": "ipython",
    "version": 3
   },
   "file_extension": ".py",
   "mimetype": "text/x-python",
   "name": "python",
   "nbconvert_exporter": "python",
   "pygments_lexer": "ipython3",
   "version": "3.9.0"
  },
  "toc": {
   "base_numbering": 1,
   "nav_menu": {},
   "number_sections": true,
   "sideBar": true,
   "skip_h1_title": false,
   "title_cell": "Table of Contents",
   "title_sidebar": "Contents",
   "toc_cell": false,
   "toc_position": {},
   "toc_section_display": true,
   "toc_window_display": false
  }
 },
 "nbformat": 4,
 "nbformat_minor": 4
}
