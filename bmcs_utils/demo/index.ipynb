{
 "cells": [
  {
   "cell_type": "markdown",
   "metadata": {
    "collapsed": true,
    "pycharm": {
     "name": "#%% md\n"
    }
   },
   "source": [
    "# Interactive Jupyter Models\n",
    "\n",
    "This sheet demonstrates how to streamline\n",
    "the process from a model implementation\n",
    "to an interactive jupyter application that\n",
    "can be accessed by users via their\n",
    "browsers without any further software\n",
    "requirements.\n",
    "\n",
    "## Model view\n",
    "\n",
    "[Elementary structure]()\n",
    "\n",
    "## Progress and history\n",
    "\n",
    "[Model with progress bar](model_with_progress_bar.ipynb)\n",
    "\n",
    "[Model with history slider]()\n",
    "\n",
    "## Editors\n",
    "\n",
    "[List editor](list_editor.ipynb)\n",
    "\n",
    "## Tree structure\n",
    "\n",
    "[Tree structure](model_with_either_type.ipynb)\n",
    "\n",
    "## Notification system"
   ]
  }
 ],
 "metadata": {
  "kernelspec": {
   "display_name": "Python 3",
   "language": "python",
   "name": "python3"
  },
  "language_info": {
   "codemirror_mode": {
    "name": "ipython",
    "version": 2
   },
   "file_extension": ".py",
   "mimetype": "text/x-python",
   "name": "python",
   "nbconvert_exporter": "python",
   "pygments_lexer": "ipython2",
   "version": "2.7.6"
  }
 },
 "nbformat": 4,
 "nbformat_minor": 0
}