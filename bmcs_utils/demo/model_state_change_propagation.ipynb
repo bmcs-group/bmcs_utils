{
 "cells": [
  {
   "cell_type": "markdown",
   "metadata": {
    "pycharm": {
     "name": "#%% md\n"
    }
   },
   "source": [
    "# State change propagation"
   ]
  },
  {
   "cell_type": "code",
   "execution_count": 1,
   "metadata": {
    "collapsed": false,
    "jupyter": {
     "outputs_hidden": false
    },
    "pycharm": {
     "name": "#%%\n"
    }
   },
   "outputs": [],
   "source": [
    "%matplotlib widget\n",
    "import bmcs_utils.api as bu\n",
    "import traits.api as tr\n",
    "from bmcs_utils.model_notification import ModelNotifyMixin"
   ]
  },
  {
   "cell_type": "markdown",
   "metadata": {
    "pycharm": {
     "name": "#%% md\n"
    }
   },
   "source": [
    "Each model can be regarded as a tree of model components.\n",
    "Let us define models `TopModel`, `InterimModel` and `SubModel`."
   ]
  },
  {
   "cell_type": "code",
   "execution_count": 2,
   "metadata": {
    "collapsed": false,
    "jupyter": {
     "outputs_hidden": false
    },
    "pycharm": {
     "name": "#%%\n"
    }
   },
   "outputs": [],
   "source": [
    "class SubModel(ModelNotifyMixin):\n",
    "    name = 'submodel'\n",
    "    length = bu.Float(2, GEO=True)\n",
    "\n",
    "    @tr.observe('state_changed')\n",
    "    def submodel_changed(self, event):\n",
    "        print('submodel changed')\n",
    "\n",
    "    ipw_view = bu.View(\n",
    "        bu.Item('length')\n",
    "    )"
   ]
  },
  {
   "cell_type": "code",
   "execution_count": 3,
   "metadata": {},
   "outputs": [],
   "source": [
    "sm = SubModel(state_change_debug=True)"
   ]
  },
  {
   "cell_type": "code",
   "execution_count": 4,
   "metadata": {},
   "outputs": [
    {
     "name": "stdout",
     "output_type": "stream",
     "text": [
      "state_changed <__main__.SubModel object at 0x7f1546108810> TraitChangeEvent(object=<__main__.SubModel object at 0x7f1546108810>, name='length', old=2, new=3.0)\n",
      "submodel changed\n"
     ]
    }
   ],
   "source": [
    "sm.length = 3"
   ]
  },
  {
   "cell_type": "markdown",
   "metadata": {
    "pycharm": {
     "name": "#%% md\n"
    }
   },
   "source": [
    "The change of a model parameter is observed and notified\n",
    "by an event `sm.state_changed`. Let us observe this event\n",
    "using a function\n"
   ]
  },
  {
   "cell_type": "markdown",
   "metadata": {
    "pycharm": {
     "name": "#%% md\n"
    }
   },
   "source": [
    "After executing the above cell, change the length in the\n",
    "above model window to see the spy in action."
   ]
  },
  {
   "cell_type": "markdown",
   "metadata": {
    "pycharm": {
     "name": "#%% md\n"
    }
   },
   "source": [
    "How did it happen? The `length` parameter of the `SubModel`\n",
    "contains the metadate `GEO=True`. This indicates the type of\n",
    "model input data. Except of `GEO` there are also the following\n",
    "types of input data:\n",
    "\n",
    " - `BC` - boundary condition\n",
    " - `MAT` - material parameter\n",
    " - `DSC` - discretization\n",
    " - `CS` - cross section\n",
    " - `ALG` - algorithm parameter\n",
    " - `GEO` - global geometry\n",
    "\n",
    "Change of any parameter denoted by one of the above tags\n",
    "is observed and propagated along the model tree."
   ]
  },
  {
   "cell_type": "markdown",
   "metadata": {
    "pycharm": {
     "name": "#%% md\n"
    }
   },
   "source": [
    "Let us define a more complex model"
   ]
  },
  {
   "cell_type": "code",
   "execution_count": 5,
   "metadata": {
    "collapsed": false,
    "jupyter": {
     "outputs_hidden": false
    },
    "pycharm": {
     "name": "#%%\n"
    }
   },
   "outputs": [],
   "source": [
    "class InterimModel(ModelNotifyMixin):\n",
    "    sm = bu.Instance(SubModel,(), GEO=True)\n",
    "    stiffness = bu.Float(400, GEO=True)\n",
    "\n",
    "    children = ['sm']\n",
    "    @tr.observe('state_changed')\n",
    "    def submodel_changed(self, event):\n",
    "        print('interim model changed')\n"
   ]
  },
  {
   "cell_type": "code",
   "execution_count": 6,
   "metadata": {
    "collapsed": false,
    "jupyter": {
     "outputs_hidden": false
    },
    "pycharm": {
     "name": "#%%\n"
    }
   },
   "outputs": [
    {
     "name": "stdout",
     "output_type": "stream",
     "text": [
      "interim model changed\n"
     ]
    }
   ],
   "source": [
    "im = InterimModel(sm=sm, state_change_debug=True)"
   ]
  },
  {
   "cell_type": "code",
   "execution_count": 7,
   "metadata": {},
   "outputs": [
    {
     "name": "stdout",
     "output_type": "stream",
     "text": [
      "state_changed <__main__.SubModel object at 0x7f1546108810> TraitChangeEvent(object=<__main__.SubModel object at 0x7f1546108810>, name='length', old=3.0, new=8.0)\n",
      "submodel changed\n",
      "state_changed <__main__.InterimModel object at 0x7f15742d2180> Notification from child <__main__.SubModel object at 0x7f1546108810>\n",
      "interim model changed\n"
     ]
    }
   ],
   "source": [
    "im.sm.length = 8"
   ]
  },
  {
   "cell_type": "code",
   "execution_count": 8,
   "metadata": {
    "collapsed": false,
    "jupyter": {
     "outputs_hidden": false
    },
    "pycharm": {
     "name": "#%%\n"
    }
   },
   "outputs": [],
   "source": [
    "class TopLevelModel(ModelNotifyMixin):\n",
    "    im = bu.Instance(InterimModel,(), DSC=True)\n",
    "    time = bu.Float(400, ALG=True)\n",
    "\n",
    "    children = ['im']\n",
    "    @tr.observe('state_changed')\n",
    "    def toplevel_changed(self, event):\n",
    "        print('toplevel model changed')\n",
    "\n"
   ]
  },
  {
   "cell_type": "code",
   "execution_count": 9,
   "metadata": {
    "collapsed": false,
    "jupyter": {
     "outputs_hidden": false
    },
    "pycharm": {
     "name": "#%%\n"
    }
   },
   "outputs": [
    {
     "name": "stdout",
     "output_type": "stream",
     "text": [
      "toplevel model changed\n"
     ]
    }
   ],
   "source": [
    "tl = TopLevelModel(im=im, state_change_debug=True)\n",
    "tl.im.state_change_debug = True\n",
    "tl.im.sm.state_change_debug = True"
   ]
  },
  {
   "cell_type": "code",
   "execution_count": 10,
   "metadata": {},
   "outputs": [
    {
     "data": {
      "text/plain": [
       "{<__main__.TopLevelModel at 0x7f1545d43ea0>}"
      ]
     },
     "execution_count": 10,
     "metadata": {},
     "output_type": "execute_result"
    }
   ],
   "source": [
    "tl.im.parents"
   ]
  },
  {
   "cell_type": "code",
   "execution_count": 11,
   "metadata": {
    "collapsed": false,
    "jupyter": {
     "outputs_hidden": false
    },
    "pycharm": {
     "name": "#%%\n"
    }
   },
   "outputs": [
    {
     "name": "stdout",
     "output_type": "stream",
     "text": [
      "state_changed <__main__.SubModel object at 0x7f1546108810> TraitChangeEvent(object=<__main__.SubModel object at 0x7f1546108810>, name='length', old=8.0, new=10.0)\n",
      "submodel changed\n",
      "state_changed <__main__.InterimModel object at 0x7f15742d2180> Notification from child <__main__.SubModel object at 0x7f1546108810>\n",
      "interim model changed\n",
      "state_changed <__main__.TopLevelModel object at 0x7f1545d43ea0> Notification from child <__main__.InterimModel object at 0x7f15742d2180>\n",
      "toplevel model changed\n"
     ]
    }
   ],
   "source": [
    "tl.im.sm.length = 10"
   ]
  },
  {
   "cell_type": "code",
   "execution_count": 12,
   "metadata": {},
   "outputs": [
    {
     "name": "stdout",
     "output_type": "stream",
     "text": [
      "state_changed <__main__.TopLevelModel object at 0x7f1545d43ea0> TraitChangeEvent(object=<__main__.TopLevelModel object at 0x7f1545d43ea0>, name='im', old=<__main__.InterimModel object at 0x7f15742d2180>, new=<__main__.InterimModel object at 0x7f1545f8c9a0>)\n",
      "toplevel model changed\n",
      "parent <__main__.TopLevelModel object at 0x7f1545d43ea0> changing child from child <__main__.InterimModel object at 0x7f15742d2180> to <__main__.InterimModel object at 0x7f1545f8c9a0>\n",
      "im\n"
     ]
    }
   ],
   "source": [
    "tl.im = InterimModel(state_change_debug=True)"
   ]
  },
  {
   "cell_type": "code",
   "execution_count": 13,
   "metadata": {},
   "outputs": [
    {
     "name": "stdout",
     "output_type": "stream",
     "text": [
      "submodel changed\n",
      "state_changed <__main__.InterimModel object at 0x7f1545f8c9a0> Notification from child <__main__.SubModel object at 0x7f15742d4180>\n",
      "interim model changed\n",
      "state_changed <__main__.TopLevelModel object at 0x7f1545d43ea0> Notification from child <__main__.InterimModel object at 0x7f1545f8c9a0>\n",
      "toplevel model changed\n"
     ]
    }
   ],
   "source": [
    "tl.im.sm.length = 11"
   ]
  },
  {
   "cell_type": "code",
   "execution_count": 14,
   "metadata": {},
   "outputs": [
    {
     "name": "stdout",
     "output_type": "stream",
     "text": [
      "state_changed <__main__.SubModel object at 0x7f1546108810> TraitChangeEvent(object=<__main__.SubModel object at 0x7f1546108810>, name='length', old=10.0, new=11.0)\n",
      "submodel changed\n",
      "state_changed <__main__.InterimModel object at 0x7f15742d2180> Notification from child <__main__.SubModel object at 0x7f1546108810>\n",
      "interim model changed\n"
     ]
    }
   ],
   "source": [
    "im.sm.length = 11"
   ]
  },
  {
   "cell_type": "code",
   "execution_count": 15,
   "metadata": {},
   "outputs": [
    {
     "name": "stdout",
     "output_type": "stream",
     "text": [
      "state_changed <__main__.SubModel object at 0x7f1546108810> TraitChangeEvent(object=<__main__.SubModel object at 0x7f1546108810>, name='length', old=11.0, new=12.0)\n",
      "submodel changed\n",
      "state_changed <__main__.InterimModel object at 0x7f15742d2180> Notification from child <__main__.SubModel object at 0x7f1546108810>\n",
      "interim model changed\n"
     ]
    }
   ],
   "source": [
    "sm.length =12"
   ]
  },
  {
   "cell_type": "markdown",
   "metadata": {
    "jupyter": {
     "outputs_hidden": false
    },
    "pycharm": {
     "name": "#%%\n"
    }
   },
   "source": [
    "# Test a list"
   ]
  },
  {
   "cell_type": "code",
   "execution_count": 16,
   "metadata": {},
   "outputs": [],
   "source": [
    "class CrossSectionLayout(bu.ModelList):\n",
    "    name = 'Cross Section Layout'\n",
    "\n",
    "    items = bu.List(SubModel, [])\n",
    "\n",
    "    def add_layer(self, rl):\n",
    "        self.items.append(rl)"
   ]
  },
  {
   "cell_type": "code",
   "execution_count": 17,
   "metadata": {},
   "outputs": [],
   "source": [
    "csl = CrossSectionLayout(state_change_debug=True)"
   ]
  },
  {
   "cell_type": "code",
   "execution_count": 18,
   "metadata": {},
   "outputs": [
    {
     "name": "stdout",
     "output_type": "stream",
     "text": [
      "LIST STATE CHANGED TraitChangeEvent(object=<__main__.CrossSectionLayout object at 0x7f0620c86450>, name='items_items', old=<undefined>, new=TraitListEvent(index=0, removed=[], added=[<__main__.SubModel object at 0x7f0620d0dc20>]))\n"
     ]
    }
   ],
   "source": [
    "csl.add_layer(SubModel(state_change_debug=True))"
   ]
  },
  {
   "cell_type": "code",
   "execution_count": 19,
   "metadata": {},
   "outputs": [
    {
     "data": {
      "text/plain": [
       "'submodel'"
      ]
     },
     "execution_count": 19,
     "metadata": {},
     "output_type": "execute_result"
    }
   ],
   "source": [
    "csl.items[0].name"
   ]
  },
  {
   "cell_type": "code",
   "execution_count": 20,
   "metadata": {},
   "outputs": [
    {
     "ename": "AttributeError",
     "evalue": "'SubModel' object has no attribute 'get_tree_subnode'",
     "output_type": "error",
     "traceback": [
      "\u001b[0;31m---------------------------------------------------------------------------\u001b[0m",
      "\u001b[0;31mAttributeError\u001b[0m                            Traceback (most recent call last)",
      "Input \u001b[0;32mIn [20]\u001b[0m, in \u001b[0;36m<module>\u001b[0;34m\u001b[0m\n\u001b[0;32m----> 1\u001b[0m \u001b[43mcsl\u001b[49m\u001b[38;5;241;43m.\u001b[39;49m\u001b[43mupdate_observers\u001b[49m\u001b[43m(\u001b[49m\u001b[43m)\u001b[49m\n",
      "File \u001b[0;32m~/PycharmProjects/bmcs_utils/bmcs_utils/model.py:101\u001b[0m, in \u001b[0;36mModel.update_observers\u001b[0;34m(self)\u001b[0m\n\u001b[1;32m    100\u001b[0m     \u001b[38;5;28;01mdef\u001b[39;00m \u001b[38;5;21mupdate_observers\u001b[39m(\u001b[38;5;28mself\u001b[39m):\n\u001b[0;32m--> 101\u001b[0m         name, model, nodes \u001b[38;5;241m=\u001b[39m \u001b[38;5;28;43mself\u001b[39;49m\u001b[38;5;241;43m.\u001b[39;49m\u001b[43mas_tree_node\u001b[49m\u001b[43m(\u001b[49m\u001b[38;5;124;43m'\u001b[39;49m\u001b[38;5;124;43mroot\u001b[39;49m\u001b[38;5;124;43m'\u001b[39;49m\u001b[43m)\u001b[49m\n\u001b[1;32m    102\u001b[0m         \u001b[38;5;28;01mfor\u001b[39;00m sub_name, submodel, subnodes \u001b[38;5;129;01min\u001b[39;00m nodes:\n\u001b[1;32m    103\u001b[0m \u001b[38;5;66;03m#            model.observe(self._notify_tree_change,'state_changed')\u001b[39;00m\n\u001b[1;32m    104\u001b[0m \u001b[38;5;66;03m#            model.observe(self._notify_tree_change,sub_name)\u001b[39;00m\n\u001b[1;32m    105\u001b[0m             submodel\u001b[38;5;241m.\u001b[39mobserve(model\u001b[38;5;241m.\u001b[39mnotify_state_change,\u001b[38;5;124m'\u001b[39m\u001b[38;5;124mstate_changed\u001b[39m\u001b[38;5;124m'\u001b[39m)\n",
      "File \u001b[0;32m~/PycharmProjects/bmcs_utils/bmcs_utils/model.py:72\u001b[0m, in \u001b[0;36mModel.get_tree_subnode\u001b[0;34m(self, name)\u001b[0m\n\u001b[1;32m     69\u001b[0m \u001b[38;5;28;01mdef\u001b[39;00m \u001b[38;5;21mget_tree_subnode\u001b[39m(\u001b[38;5;28mself\u001b[39m, name):\n\u001b[1;32m     70\u001b[0m     \u001b[38;5;66;03m# Construct a tree structure of instances tagged by `tree`\u001b[39;00m\n\u001b[1;32m     71\u001b[0m     submodels \u001b[38;5;241m=\u001b[39m \u001b[38;5;28mself\u001b[39m\u001b[38;5;241m.\u001b[39mget_tree_submodels()\n\u001b[0;32m---> 72\u001b[0m     tree_subnodes \u001b[38;5;241m=\u001b[39m [\n\u001b[1;32m     73\u001b[0m         submodel\u001b[38;5;241m.\u001b[39mget_tree_subnode(node_name)\n\u001b[1;32m     74\u001b[0m         \u001b[38;5;28;01mfor\u001b[39;00m node_name, submodel \u001b[38;5;129;01min\u001b[39;00m \u001b[38;5;28mzip\u001b[39m(\u001b[38;5;28mself\u001b[39m\u001b[38;5;241m.\u001b[39mtree, submodels)\n\u001b[1;32m     75\u001b[0m     ]\n\u001b[1;32m     76\u001b[0m     \u001b[38;5;28;01mreturn\u001b[39;00m (name, \u001b[38;5;28mself\u001b[39m, tree_subnodes)\n",
      "File \u001b[0;32m~/PycharmProjects/bmcs_utils/bmcs_utils/model.py:73\u001b[0m, in \u001b[0;36m<listcomp>\u001b[0;34m(.0)\u001b[0m\n\u001b[1;32m     69\u001b[0m \u001b[38;5;28;01mdef\u001b[39;00m \u001b[38;5;21mget_tree_subnode\u001b[39m(\u001b[38;5;28mself\u001b[39m, name):\n\u001b[1;32m     70\u001b[0m     \u001b[38;5;66;03m# Construct a tree structure of instances tagged by `tree`\u001b[39;00m\n\u001b[1;32m     71\u001b[0m     submodels \u001b[38;5;241m=\u001b[39m \u001b[38;5;28mself\u001b[39m\u001b[38;5;241m.\u001b[39mget_tree_submodels()\n\u001b[1;32m     72\u001b[0m     tree_subnodes \u001b[38;5;241m=\u001b[39m [\n\u001b[0;32m---> 73\u001b[0m         \u001b[43msubmodel\u001b[49m\u001b[38;5;241;43m.\u001b[39;49m\u001b[43mget_tree_subnode\u001b[49m(node_name)\n\u001b[1;32m     74\u001b[0m         \u001b[38;5;28;01mfor\u001b[39;00m node_name, submodel \u001b[38;5;129;01min\u001b[39;00m \u001b[38;5;28mzip\u001b[39m(\u001b[38;5;28mself\u001b[39m\u001b[38;5;241m.\u001b[39mtree, submodels)\n\u001b[1;32m     75\u001b[0m     ]\n\u001b[1;32m     76\u001b[0m     \u001b[38;5;28;01mreturn\u001b[39;00m (name, \u001b[38;5;28mself\u001b[39m, tree_subnodes)\n",
      "\u001b[0;31mAttributeError\u001b[0m: 'SubModel' object has no attribute 'get_tree_subnode'"
     ]
    }
   ],
   "source": [
    "csl.update_observers()"
   ]
  },
  {
   "cell_type": "code",
   "execution_count": 21,
   "metadata": {},
   "outputs": [
    {
     "name": "stdout",
     "output_type": "stream",
     "text": [
      "state_changed <__main__.SubModel object at 0x7f0620d0dc20> TraitChangeEvent(object=<__main__.SubModel object at 0x7f0620d0dc20>, name='length', old=2, new=3.0)\n",
      "submodel changed\n"
     ]
    }
   ],
   "source": [
    "csl.items[0].length = 3"
   ]
  },
  {
   "cell_type": "code",
   "execution_count": null,
   "metadata": {},
   "outputs": [],
   "source": []
  },
  {
   "cell_type": "code",
   "execution_count": null,
   "metadata": {},
   "outputs": [],
   "source": []
  }
 ],
 "metadata": {
  "kernelspec": {
   "display_name": "bmcs_env",
   "language": "python",
   "name": "bmcs_env"
  },
  "language_info": {
   "codemirror_mode": {
    "name": "ipython",
    "version": 3
   },
   "file_extension": ".py",
   "mimetype": "text/x-python",
   "name": "python",
   "nbconvert_exporter": "python",
   "pygments_lexer": "ipython3",
   "version": "3.9.0"
  }
 },
 "nbformat": 4,
 "nbformat_minor": 4
}
