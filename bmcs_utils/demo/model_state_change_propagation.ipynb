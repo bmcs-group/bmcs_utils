{
 "cells": [
  {
   "cell_type": "markdown",
   "metadata": {
    "pycharm": {
     "name": "#%% md\n"
    }
   },
   "source": [
    "# State change propagation"
   ]
  },
  {
   "cell_type": "code",
   "execution_count": 1,
   "metadata": {
    "collapsed": false,
    "jupyter": {
     "outputs_hidden": false
    },
    "pycharm": {
     "name": "#%%\n"
    }
   },
   "outputs": [],
   "source": [
    "%matplotlib widget\n",
    "import bmcs_utils.api as bu\n",
    "import traits.api as tr"
   ]
  },
  {
   "cell_type": "markdown",
   "metadata": {
    "pycharm": {
     "name": "#%% md\n"
    }
   },
   "source": [
    "Each model can be regarded as a tree of model components.\n",
    "Let us define models `TopModel`, `InterimModel` and `SubModel`."
   ]
  },
  {
   "cell_type": "code",
   "execution_count": 2,
   "metadata": {
    "collapsed": false,
    "jupyter": {
     "outputs_hidden": false
    },
    "pycharm": {
     "name": "#%%\n"
    }
   },
   "outputs": [],
   "source": [
    "class SubModel(bu.Model):\n",
    "    name = 'submodel'\n",
    "    length = bu.Float(2, GEO=True)\n",
    "\n",
    "    @tr.observe('state_changed')\n",
    "    def submodel_changed(self, event):\n",
    "        print('submodel changed')\n",
    "\n",
    "    ipw_view = bu.View(\n",
    "        bu.Item('length')\n",
    "    )"
   ]
  },
  {
   "cell_type": "code",
   "execution_count": 3,
   "metadata": {},
   "outputs": [],
   "source": [
    "sm = SubModel(state_change_debug=True)"
   ]
  },
  {
   "cell_type": "code",
   "execution_count": 4,
   "metadata": {},
   "outputs": [
    {
     "name": "stdout",
     "output_type": "stream",
     "text": [
      "state_changed <__main__.SubModel object at 0x7f632fc66f90> TraitChangeEvent(object=<__main__.SubModel object at 0x7f632fc66f90>, name='length', old=2, new=3.0)\n",
      "submodel changed\n"
     ]
    }
   ],
   "source": [
    "sm.length = 3"
   ]
  },
  {
   "cell_type": "markdown",
   "metadata": {
    "pycharm": {
     "name": "#%% md\n"
    }
   },
   "source": [
    "The change of a model parameter is observed and notified\n",
    "by an event `sm.state_changed`. Let us observe this event\n",
    "using a function\n"
   ]
  },
  {
   "cell_type": "markdown",
   "metadata": {
    "pycharm": {
     "name": "#%% md\n"
    }
   },
   "source": [
    "After executing the above cell, change the length in the\n",
    "above model window to see the spy in action."
   ]
  },
  {
   "cell_type": "markdown",
   "metadata": {
    "pycharm": {
     "name": "#%% md\n"
    }
   },
   "source": [
    "How did it happen? The `length` parameter of the `SubModel`\n",
    "contains the metadate `GEO=True`. This indicates the type of\n",
    "model input data. Except of `GEO` there are also the following\n",
    "types of input data:\n",
    "\n",
    " - `BC` - boundary condition\n",
    " - `MAT` - material parameter\n",
    " - `DSC` - discretization\n",
    " - `CS` - cross section\n",
    " - `ALG` - algorithm parameter\n",
    " - `GEO` - global geometry\n",
    "\n",
    "Change of any parameter denoted by one of the above tags\n",
    "is observed and propagated along the model tree."
   ]
  },
  {
   "cell_type": "markdown",
   "metadata": {
    "pycharm": {
     "name": "#%% md\n"
    }
   },
   "source": [
    "Let us define a more complex model"
   ]
  },
  {
   "cell_type": "code",
   "execution_count": 5,
   "metadata": {
    "collapsed": false,
    "jupyter": {
     "outputs_hidden": false
    },
    "pycharm": {
     "name": "#%%\n"
    }
   },
   "outputs": [],
   "source": [
    "class InterimModel(bu.Model):\n",
    "    sm = bu.Instance(SubModel,(), GEO=True)\n",
    "    stiffness = bu.Float(400, GEO=True)\n",
    "\n",
    "    tree = ['sm']\n",
    "    @tr.observe('state_changed')\n",
    "    def submodel_changed(self, event):\n",
    "        print('interim model changed')\n"
   ]
  },
  {
   "cell_type": "code",
   "execution_count": 6,
   "metadata": {
    "collapsed": false,
    "jupyter": {
     "outputs_hidden": false
    },
    "pycharm": {
     "name": "#%%\n"
    }
   },
   "outputs": [
    {
     "name": "stdout",
     "output_type": "stream",
     "text": [
      "sub_name sm <__main__.InterimModel object at 0x7f632f079090>\n"
     ]
    }
   ],
   "source": [
    "im = InterimModel(state_change_debug=True)"
   ]
  },
  {
   "cell_type": "code",
   "execution_count": 7,
   "metadata": {},
   "outputs": [
    {
     "name": "stdout",
     "output_type": "stream",
     "text": [
      "submodel changed\n",
      "state_changed <__main__.InterimModel object at 0x7f632f079090> TraitChangeEvent(object=<__main__.SubModel object at 0x7f632f962590>, name='state_changed', old=<undefined>, new=True)\n",
      "interim model changed\n",
      "sub_name sm <__main__.InterimModel object at 0x7f632f079090>\n"
     ]
    }
   ],
   "source": [
    "im.sm.length = 7"
   ]
  },
  {
   "cell_type": "code",
   "execution_count": 8,
   "metadata": {
    "collapsed": false,
    "jupyter": {
     "outputs_hidden": false
    },
    "pycharm": {
     "name": "#%%\n"
    }
   },
   "outputs": [],
   "source": [
    "class TopLevelModel(bu.Model):\n",
    "    im = bu.Instance(InterimModel,(), DSC=True)\n",
    "    time = bu.Float(400, ALG=True)\n",
    "\n",
    "    tree = ['im']\n",
    "    @tr.observe('state_changed')\n",
    "    def toplevel_changed(self, event):\n",
    "        print('toplevel model changed')\n",
    "\n"
   ]
  },
  {
   "cell_type": "code",
   "execution_count": 9,
   "metadata": {
    "collapsed": false,
    "jupyter": {
     "outputs_hidden": false
    },
    "pycharm": {
     "name": "#%%\n"
    }
   },
   "outputs": [
    {
     "name": "stdout",
     "output_type": "stream",
     "text": [
      "sub_name sm <__main__.InterimModel object at 0x7f632f028590>\n",
      "sub_name im <__main__.TopLevelModel object at 0x7f632fce91d0>\n"
     ]
    }
   ],
   "source": [
    "tl = TopLevelModel(state_change_debug=True)\n",
    "tl.im.state_change_debug = True\n",
    "tl.im.sm.state_change_debug = True"
   ]
  },
  {
   "cell_type": "code",
   "execution_count": 10,
   "metadata": {
    "collapsed": false,
    "jupyter": {
     "outputs_hidden": false
    },
    "pycharm": {
     "name": "#%%\n"
    }
   },
   "outputs": [
    {
     "name": "stdout",
     "output_type": "stream",
     "text": [
      "state_changed <__main__.SubModel object at 0x7f632f79ca40> TraitChangeEvent(object=<__main__.SubModel object at 0x7f632f79ca40>, name='length', old=2, new=10.0)\n",
      "submodel changed\n",
      "state_changed <__main__.InterimModel object at 0x7f632f028590> TraitChangeEvent(object=<__main__.SubModel object at 0x7f632f79ca40>, name='state_changed', old=<undefined>, new=True)\n",
      "interim model changed\n",
      "sub_name sm <__main__.InterimModel object at 0x7f632f028590>\n",
      "state_changed <__main__.TopLevelModel object at 0x7f632fce91d0> TraitChangeEvent(object=<__main__.InterimModel object at 0x7f632f028590>, name='state_changed', old=<undefined>, new=True)\n",
      "toplevel model changed\n",
      "sub_name im <__main__.TopLevelModel object at 0x7f632fce91d0>\n"
     ]
    }
   ],
   "source": [
    "tl.im.sm.length = 10"
   ]
  },
  {
   "cell_type": "markdown",
   "metadata": {
    "jupyter": {
     "outputs_hidden": false
    },
    "pycharm": {
     "name": "#%%\n"
    }
   },
   "source": [
    "# Test a list"
   ]
  },
  {
   "cell_type": "code",
   "execution_count": 11,
   "metadata": {},
   "outputs": [],
   "source": [
    "class CrossSectionLayout(bu.ModelList):\n",
    "    name = 'Cross Section Layout'\n",
    "\n",
    "    items = bu.List(SubModel, [])\n",
    "\n",
    "    def add_layer(self, rl):\n",
    "        self.items.append(rl)"
   ]
  },
  {
   "cell_type": "code",
   "execution_count": 12,
   "metadata": {},
   "outputs": [],
   "source": [
    "csl = CrossSectionLayout(state_change_debug=True)"
   ]
  },
  {
   "cell_type": "code",
   "execution_count": 13,
   "metadata": {},
   "outputs": [],
   "source": [
    "csl.add_layer(SubModel(state_change_debug=True))"
   ]
  },
  {
   "cell_type": "code",
   "execution_count": 14,
   "metadata": {},
   "outputs": [
    {
     "name": "stdout",
     "output_type": "stream",
     "text": [
      "sub_name submodel <__main__.CrossSectionLayout object at 0x7f632f167180>\n"
     ]
    }
   ],
   "source": [
    "csl.update_observers()"
   ]
  },
  {
   "cell_type": "code",
   "execution_count": 18,
   "metadata": {},
   "outputs": [
    {
     "name": "stdout",
     "output_type": "stream",
     "text": [
      "state_changed <__main__.SubModel object at 0x7f632f6fe130> TraitChangeEvent(object=<__main__.SubModel object at 0x7f632f6fe130>, name='length', old=4.0, new=3.0)\n",
      "submodel changed\n",
      "state_changed <__main__.CrossSectionLayout object at 0x7f632f167180> TraitChangeEvent(object=<__main__.SubModel object at 0x7f632f6fe130>, name='state_changed', old=<undefined>, new=True)\n",
      "sub_name submodel <__main__.CrossSectionLayout object at 0x7f632f167180>\n"
     ]
    }
   ],
   "source": [
    "csl.items[0].length = 3"
   ]
  },
  {
   "cell_type": "code",
   "execution_count": 19,
   "metadata": {},
   "outputs": [
    {
     "data": {
      "text/plain": [
       "('root',\n",
       " <__main__.CrossSectionLayout at 0x7f632f167180>,\n",
       " [('submodel', <__main__.SubModel at 0x7f632f6fe130>, [])])"
      ]
     },
     "execution_count": 19,
     "metadata": {},
     "output_type": "execute_result"
    }
   ],
   "source": [
    "csl.as_node('root')"
   ]
  },
  {
   "cell_type": "code",
   "execution_count": null,
   "metadata": {},
   "outputs": [],
   "source": []
  },
  {
   "cell_type": "code",
   "execution_count": null,
   "metadata": {},
   "outputs": [],
   "source": []
  }
 ],
 "metadata": {
  "kernelspec": {
   "display_name": "bmcs_env",
   "language": "python",
   "name": "bmcs_env"
  },
  "language_info": {
   "codemirror_mode": {
    "name": "ipython",
    "version": 3
   },
   "file_extension": ".py",
   "mimetype": "text/x-python",
   "name": "python",
   "nbconvert_exporter": "python",
   "pygments_lexer": "ipython3",
   "version": "3.9.1"
  }
 },
 "nbformat": 4,
 "nbformat_minor": 4
}
