{
 "cells": [
  {
   "cell_type": "markdown",
   "metadata": {
    "pycharm": {
     "name": "#%% md\n"
    }
   },
   "source": [
    "# State change propagation"
   ]
  },
  {
   "cell_type": "code",
   "execution_count": 1,
   "metadata": {
    "collapsed": false,
    "jupyter": {
     "outputs_hidden": false
    },
    "pycharm": {
     "name": "#%%\n"
    }
   },
   "outputs": [],
   "source": [
    "%matplotlib widget\n",
    "import bmcs_utils.api as bu\n",
    "import traits.api as tr\n",
    "from bmcs_utils.model_notify_mixin import ModelNotifyMixin"
   ]
  },
  {
   "cell_type": "markdown",
   "metadata": {
    "pycharm": {
     "name": "#%% md\n"
    }
   },
   "source": [
    "Each model can be regarded as a tree of model components.\n",
    "Let us define models `TopModel`, `InterimModel` and `SubModel`."
   ]
  },
  {
   "cell_type": "code",
   "execution_count": 2,
   "metadata": {
    "collapsed": false,
    "jupyter": {
     "outputs_hidden": false
    },
    "pycharm": {
     "name": "#%%\n"
    }
   },
   "outputs": [],
   "source": [
    "class SubModel(ModelNotifyMixin):\n",
    "    name = 'submodel'\n",
    "    length = bu.Float(2, GEO=True)\n",
    "\n",
    "    ipw_view = bu.View(\n",
    "        bu.Item('length')\n",
    "    )"
   ]
  },
  {
   "cell_type": "code",
   "execution_count": 3,
   "metadata": {
    "pycharm": {
     "name": "#%%\n"
    }
   },
   "outputs": [],
   "source": [
    "sm = SubModel()\n",
    "sm.state_change_debug = True"
   ]
  },
  {
   "cell_type": "code",
   "execution_count": 4,
   "metadata": {
    "pycharm": {
     "name": "#%%\n"
    }
   },
   "outputs": [
    {
     "name": "stdout",
     "output_type": "stream",
     "text": [
      "value_changed <__main__.SubModel object at 0x7f6494269770> TraitChangeEvent(object=<__main__.SubModel object at 0x7f6494269770>, name='length', old=2, new=5.0)\n"
     ]
    }
   ],
   "source": [
    "sm.length = 5"
   ]
  },
  {
   "cell_type": "code",
   "execution_count": 5,
   "metadata": {
    "collapsed": false,
    "jupyter": {
     "outputs_hidden": false
    },
    "pycharm": {
     "name": "#%%\n"
    }
   },
   "outputs": [],
   "source": [
    "class InterimModel(ModelNotifyMixin):\n",
    "    sm = bu.Instance(SubModel,())\n",
    "    stiffness = bu.Float(400, GEO=True)\n",
    "\n",
    "    depends_on = ['sm']"
   ]
  },
  {
   "cell_type": "code",
   "execution_count": 6,
   "metadata": {
    "collapsed": false,
    "jupyter": {
     "outputs_hidden": false
    },
    "pycharm": {
     "name": "#%%\n"
    }
   },
   "outputs": [],
   "source": [
    "im = InterimModel(sm=sm)\n",
    "im.state_change_debug = True"
   ]
  },
  {
   "cell_type": "code",
   "execution_count": 7,
   "metadata": {
    "pycharm": {
     "name": "#%%\n"
    }
   },
   "outputs": [
    {
     "name": "stdout",
     "output_type": "stream",
     "text": [
      "value_changed <__main__.SubModel object at 0x7f6494269770> TraitChangeEvent(object=<__main__.SubModel object at 0x7f6494269770>, name='length', old=5.0, new=8.0)\n",
      "value_changed <__main__.InterimModel object at 0x7f64bc235630> Notification from child <__main__.SubModel object at 0x7f6494269770>\n"
     ]
    }
   ],
   "source": [
    "im.sm.length = 8"
   ]
  },
  {
   "cell_type": "code",
   "execution_count": 8,
   "metadata": {
    "collapsed": false,
    "jupyter": {
     "outputs_hidden": false
    },
    "pycharm": {
     "name": "#%%\n"
    }
   },
   "outputs": [],
   "source": [
    "class TopLevelModel(ModelNotifyMixin):\n",
    "    im = bu.Instance(InterimModel,())\n",
    "    time = bu.Float(400, ALG=True)\n",
    "    depends_on = ['im']"
   ]
  },
  {
   "cell_type": "code",
   "execution_count": 9,
   "metadata": {
    "collapsed": false,
    "jupyter": {
     "outputs_hidden": false
    },
    "pycharm": {
     "name": "#%%\n"
    }
   },
   "outputs": [],
   "source": [
    "tl = TopLevelModel(im=im)\n",
    "tl.state_change_debug=True"
   ]
  },
  {
   "cell_type": "code",
   "execution_count": 10,
   "metadata": {
    "pycharm": {
     "name": "#%%\n"
    }
   },
   "outputs": [
    {
     "data": {
      "text/plain": [
       "5"
      ]
     },
     "execution_count": 10,
     "metadata": {},
     "output_type": "execute_result"
    }
   ],
   "source": [
    "tl.state_change_counter"
   ]
  },
  {
   "cell_type": "code",
   "execution_count": 11,
   "metadata": {
    "collapsed": false,
    "jupyter": {
     "outputs_hidden": false
    },
    "pycharm": {
     "name": "#%%\n"
    }
   },
   "outputs": [
    {
     "name": "stdout",
     "output_type": "stream",
     "text": [
      "value_changed <__main__.SubModel object at 0x7f6494269770> TraitChangeEvent(object=<__main__.SubModel object at 0x7f6494269770>, name='length', old=8.0, new=10.0)\n",
      "value_changed <__main__.InterimModel object at 0x7f64bc235630> Notification from child <__main__.SubModel object at 0x7f6494269770>\n",
      "value_changed <__main__.TopLevelModel object at 0x7f6466cb3590> Notification from child <__main__.InterimModel object at 0x7f64bc235630>\n"
     ]
    }
   ],
   "source": [
    "tl.im.sm.length = 10"
   ]
  },
  {
   "cell_type": "code",
   "execution_count": 12,
   "metadata": {
    "pycharm": {
     "name": "#%%\n"
    }
   },
   "outputs": [
    {
     "name": "stdout",
     "output_type": "stream",
     "text": [
      "graph_changed <__main__.TopLevelModel object at 0x7f6466cb3590> Notification from child <__main__.InterimModel object at 0x7f6465e86f40>\n"
     ]
    }
   ],
   "source": [
    "tl.im = InterimModel()"
   ]
  },
  {
   "cell_type": "code",
   "execution_count": 13,
   "metadata": {
    "pycharm": {
     "name": "#%%\n"
    }
   },
   "outputs": [
    {
     "name": "stdout",
     "output_type": "stream",
     "text": [
      "value_changed <__main__.SubModel object at 0x7f6465e54b80> TraitChangeEvent(object=<__main__.SubModel object at 0x7f6465e54b80>, name='length', old=2, new=11.0)\n",
      "value_changed <__main__.InterimModel object at 0x7f6465e86f40> Notification from child <__main__.SubModel object at 0x7f6465e54b80>\n",
      "value_changed <__main__.TopLevelModel object at 0x7f6466cb3590> Notification from child <__main__.InterimModel object at 0x7f6465e86f40>\n"
     ]
    }
   ],
   "source": [
    "tl.im.sm.length = 11"
   ]
  },
  {
   "cell_type": "code",
   "execution_count": 14,
   "metadata": {
    "pycharm": {
     "name": "#%%\n"
    }
   },
   "outputs": [
    {
     "name": "stdout",
     "output_type": "stream",
     "text": [
      "value_changed <__main__.SubModel object at 0x7f6494269770> TraitChangeEvent(object=<__main__.SubModel object at 0x7f6494269770>, name='length', old=10.0, new=11.0)\n",
      "value_changed <__main__.InterimModel object at 0x7f64bc235630> Notification from child <__main__.SubModel object at 0x7f6494269770>\n",
      "value_changed <__main__.TopLevelModel object at 0x7f6466cb3590> Notification from child <__main__.InterimModel object at 0x7f64bc235630>\n"
     ]
    }
   ],
   "source": [
    "im.sm.length = 11"
   ]
  },
  {
   "cell_type": "code",
   "execution_count": 15,
   "metadata": {
    "pycharm": {
     "name": "#%%\n"
    }
   },
   "outputs": [
    {
     "name": "stdout",
     "output_type": "stream",
     "text": [
      "value_changed <__main__.SubModel object at 0x7f6494269770> TraitChangeEvent(object=<__main__.SubModel object at 0x7f6494269770>, name='length', old=11.0, new=12.0)\n",
      "value_changed <__main__.InterimModel object at 0x7f64bc235630> Notification from child <__main__.SubModel object at 0x7f6494269770>\n",
      "value_changed <__main__.TopLevelModel object at 0x7f6466cb3590> Notification from child <__main__.InterimModel object at 0x7f64bc235630>\n"
     ]
    }
   ],
   "source": [
    "sm.length = 12"
   ]
  },
  {
   "cell_type": "code",
   "execution_count": null,
   "metadata": {
    "pycharm": {
     "name": "#%%\n"
    }
   },
   "outputs": [],
   "source": []
  },
  {
   "cell_type": "code",
   "execution_count": null,
   "metadata": {
    "pycharm": {
     "name": "#%%\n"
    }
   },
   "outputs": [],
   "source": []
  },
  {
   "cell_type": "code",
   "execution_count": null,
   "metadata": {
    "pycharm": {
     "name": "#%%\n"
    }
   },
   "outputs": [],
   "source": []
  }
 ],
 "metadata": {
  "kernelspec": {
   "display_name": "Python 3 (ipykernel)",
   "language": "python",
   "name": "python3"
  },
  "language_info": {
   "codemirror_mode": {
    "name": "ipython",
    "version": 3
   },
   "file_extension": ".py",
   "mimetype": "text/x-python",
   "name": "python",
   "nbconvert_exporter": "python",
   "pygments_lexer": "ipython3",
   "version": "3.9.0"
  }
 },
 "nbformat": 4,
 "nbformat_minor": 4
}
