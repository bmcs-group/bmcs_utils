{
 "cells": [
  {
   "cell_type": "markdown",
   "metadata": {
    "collapsed": true,
    "pycharm": {
     "name": "#%% md\n"
    }
   },
   "source": [
    "# List editor"
   ]
  },
  {
   "cell_type": "code",
   "execution_count": 6,
   "metadata": {
    "pycharm": {
     "name": "#%%\n"
    }
   },
   "outputs": [],
   "source": [
    "%matplotlib widget\n",
    "\n",
    "import traits.api as tr\n",
    "\n",
    "from bmcs_utils.api import \\\n",
    "    Model, Float, View, Item, Instance, List, ListEditor, ModelList"
   ]
  },
  {
   "cell_type": "code",
   "execution_count": 11,
   "metadata": {
    "pycharm": {
     "name": "#%%\n"
    }
   },
   "outputs": [],
   "source": [
    "class ReinfLayer(Model):\n",
    "    name = 'layer 1'\n",
    "    position = Float(10, CS=True)\n",
    "\n",
    "    ipw_view = View(\n",
    "        Item('position')\n",
    "    )\n",
    "\n",
    "    def update_plot(self, axes):\n",
    "        pass\n",
    "\n",
    "class CrossSection(Model):\n",
    "\n",
    "    name = 'cross section'\n",
    "\n",
    "    inst = Instance(ReinfLayer, ())\n",
    "\n",
    "    layers = Instance(ModelList, ())\n",
    "    \n",
    "    tree = ['layers', 'inst']\n",
    "    \n",
    "    ipw_view = View(\n",
    "        Item('layers')\n",
    "    )\n",
    "    \n",
    "    def update_plot(self, axes):\n",
    "        pass"
   ]
  },
  {
   "cell_type": "code",
   "execution_count": 12,
   "metadata": {
    "pycharm": {
     "name": "#%%\n"
    }
   },
   "outputs": [
    {
     "name": "stdout",
     "output_type": "stream",
     "text": [
      "updating observer <__main__.CrossSection object at 0x7fdca97c6e00> layers <bmcs_utils.model_list.ModelList object at 0x7fdca98464f0>\n",
      "updating observer <__main__.CrossSection object at 0x7fdca97c6e00> inst <__main__.ReinfLayer object at 0x7fdca97bfcc0>\n",
      "state_change <__main__.ReinfLayer object at 0x7fdca97bf450>\n"
     ]
    }
   ],
   "source": [
    "cs = CrossSection(\n",
    ")\n",
    "cs.layers.items =[ReinfLayer(name='l1', position=20),\n",
    "             ReinfLayer(name='l2', position=10)]\n"
   ]
  },
  {
   "cell_type": "code",
   "execution_count": 13,
   "metadata": {
    "pycharm": {
     "name": "#%%\n"
    }
   },
   "outputs": [
    {
     "name": "stdout",
     "output_type": "stream",
     "text": [
      "state_change <__main__.ReinfLayer object at 0x7fdca97bf450>\n"
     ]
    }
   ],
   "source": [
    "cs.layers['l1'].position = 80"
   ]
  },
  {
   "cell_type": "code",
   "execution_count": 14,
   "metadata": {
    "pycharm": {
     "name": "#%%\n"
    }
   },
   "outputs": [
    {
     "data": {
      "application/vnd.jupyter.widget-view+json": {
       "model_id": "24d551b1205745a7a5e1faa0813e2f08",
       "version_major": 2,
       "version_minor": 0
      },
      "text/plain": [
       "HBox(children=(VBox(children=(Tree(layout=Layout(align_items='stretch', border='solid 1px black', display='fle…"
      ]
     },
     "metadata": {},
     "output_type": "display_data"
    },
    {
     "name": "stdout",
     "output_type": "stream",
     "text": [
      "state_change <__main__.ReinfLayer object at 0x7fdca97c37c0>\n"
     ]
    }
   ],
   "source": [
    "cs.app()"
   ]
  },
  {
   "cell_type": "code",
   "execution_count": null,
   "metadata": {
    "pycharm": {
     "name": "#%%\n"
    }
   },
   "outputs": [],
   "source": []
  }
 ],
 "metadata": {
  "kernelspec": {
   "display_name": "Python 3",
   "language": "python",
   "name": "python3"
  },
  "language_info": {
   "codemirror_mode": {
    "name": "ipython",
    "version": 3
   },
   "file_extension": ".py",
   "mimetype": "text/x-python",
   "name": "python",
   "nbconvert_exporter": "python",
   "pygments_lexer": "ipython3",
   "version": "3.9.1"
  },
  "toc": {
   "base_numbering": 1,
   "nav_menu": {},
   "number_sections": true,
   "sideBar": true,
   "skip_h1_title": false,
   "title_cell": "Table of Contents",
   "title_sidebar": "Contents",
   "toc_cell": false,
   "toc_position": {},
   "toc_section_display": true,
   "toc_window_display": false
  }
 },
 "nbformat": 4,
 "nbformat_minor": 1
}
