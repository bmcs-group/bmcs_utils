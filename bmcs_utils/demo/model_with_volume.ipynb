{
 "cells": [
  {
   "cell_type": "markdown",
   "id": "prescription-utility",
   "metadata": {},
   "source": [
    "# Interoperability between model tree and plot pane"
   ]
  },
  {
   "cell_type": "code",
   "execution_count": 1,
   "id": "hindu-tragedy",
   "metadata": {},
   "outputs": [],
   "source": [
    "%matplotlib widget\n",
    "from bmcs_utils.demo.model_with_volume import ModelWithVolume\n",
    "import bmcs_utils.api as bu"
   ]
  },
  {
   "cell_type": "code",
   "execution_count": 2,
   "id": "boolean-carol",
   "metadata": {},
   "outputs": [],
   "source": [
    "class ComplexModel(bu.Model):\n",
    "    name = 'complex model'\n",
    "    a = bu.Float(8)\n",
    "    volume = bu.Instance(ModelWithVolume, ())\n",
    "    \n",
    "    tree = ['volume']\n",
    "    \n",
    "    ipw_view = bu.View(\n",
    "        bu.Item('a')\n",
    "    )\n",
    "    \n",
    "    def update_plot(self,ax):\n",
    "        pass"
   ]
  },
  {
   "cell_type": "code",
   "execution_count": 3,
   "id": "assigned-ghost",
   "metadata": {},
   "outputs": [],
   "source": [
    "cm = ComplexModel()"
   ]
  },
  {
   "cell_type": "code",
   "execution_count": 4,
   "id": "rising-example",
   "metadata": {},
   "outputs": [
    {
     "data": {
      "application/vnd.jupyter.widget-view+json": {
       "model_id": "d1a1d8a19e5748a1b3c680c4fa82936a",
       "version_major": 2,
       "version_minor": 0
      },
      "text/plain": [
       "HBox(children=(VBox(children=(Tree(layout=Layout(align_items='stretch', border='solid 1px black', display='fle…"
      ]
     },
     "metadata": {},
     "output_type": "display_data"
    }
   ],
   "source": [
    "cm.app()"
   ]
  },
  {
   "cell_type": "code",
   "execution_count": 5,
   "id": "norman-snake",
   "metadata": {},
   "outputs": [],
   "source": [
    "%matplotlib widget\n",
    "from bmcs_utils.demo.model_with_volume import ModelWithVolume"
   ]
  },
  {
   "cell_type": "code",
   "execution_count": 6,
   "id": "charitable-costs",
   "metadata": {},
   "outputs": [],
   "source": [
    "vol = ModelWithVolume()"
   ]
  },
  {
   "cell_type": "code",
   "execution_count": 7,
   "id": "large-magic",
   "metadata": {},
   "outputs": [
    {
     "data": {
      "application/vnd.jupyter.widget-view+json": {
       "model_id": "3392b5a81e8a411d85a8a0c31f02adb3",
       "version_major": 2,
       "version_minor": 0
      },
      "text/plain": [
       "HBox(children=(VBox(children=(Tree(layout=Layout(align_items='stretch', border='solid 1px black', display='fle…"
      ]
     },
     "metadata": {},
     "output_type": "display_data"
    }
   ],
   "source": [
    "vol.app()"
   ]
  },
  {
   "cell_type": "markdown",
   "id": "preceding-account",
   "metadata": {},
   "source": [
    "cm.app"
   ]
  },
  {
   "cell_type": "markdown",
   "id": "annual-sugar",
   "metadata": {},
   "source": [
    "# Example code snippet showing working switch between plot panes"
   ]
  },
  {
   "cell_type": "code",
   "execution_count": 8,
   "id": "qualified-parker",
   "metadata": {
    "pycharm": {
     "name": "#%%\n"
    }
   },
   "outputs": [],
   "source": [
    "import ipywidgets as ipw\n",
    "import matplotlib.pylab as plt\n",
    "import k3d\n",
    "import ipytree"
   ]
  },
  {
   "cell_type": "code",
   "execution_count": 9,
   "id": "informative-victim",
   "metadata": {
    "pycharm": {
     "name": "#%%\n"
    }
   },
   "outputs": [],
   "source": [
    "la = ipw.Label(value='Label 1', layout=ipw.Layout(width=\"300px\"))\n"
   ]
  },
  {
   "cell_type": "code",
   "execution_count": 10,
   "id": "outside-english",
   "metadata": {
    "pycharm": {
     "name": "#%%\n"
    }
   },
   "outputs": [
    {
     "data": {
      "application/vnd.jupyter.widget-view+json": {
       "model_id": "874bf584069d4bdfb95d9b54d0db3a53",
       "version_major": 2,
       "version_minor": 0
      },
      "text/plain": [
       "HBox(children=(Label(value='Label 1', layout=Layout(width='300px')), Box(layout=Layout(align_items='stretch', …"
      ]
     },
     "metadata": {},
     "output_type": "display_data"
    }
   ],
   "source": [
    "plot_pane = ipw.Box(layout=ipw.Layout(align_items=\"stretch\",\n",
    "                                  border='solid 1px black',\n",
    "                                  width=\"100%\"))\n",
    "app = ipw.HBox([la,plot_pane],\n",
    "                layout=ipw.Layout(align_items=\"stretch\",\n",
    "                                  border='solid 1px black',\n",
    "                                  width=\"100%\"))\n",
    "display(app)"
   ]
  },
  {
   "cell_type": "code",
   "execution_count": 12,
   "id": "restricted-pasta",
   "metadata": {
    "pycharm": {
     "name": "#%%\n"
    }
   },
   "outputs": [],
   "source": [
    "%matplotlib widget\n",
    "from bmcs_utils.demo.app_window import AppWindow as AW"
   ]
  },
  {
   "cell_type": "code",
   "execution_count": 13,
   "id": "historical-north",
   "metadata": {},
   "outputs": [],
   "source": [
    "aw = AW()"
   ]
  },
  {
   "cell_type": "code",
   "execution_count": 14,
   "id": "latin-joshua",
   "metadata": {},
   "outputs": [
    {
     "data": {
      "text/plain": [
       "{'mpl': <bmcs_utils.demo.app_window.MPLBackend at 0x7ff054a58220>,\n",
       " 'k3d': <bmcs_utils.demo.app_window.K3DBackend at 0x7ff06af44590>}"
      ]
     },
     "execution_count": 14,
     "metadata": {},
     "output_type": "execute_result"
    }
   ],
   "source": [
    "aw.plot_backend_table"
   ]
  },
  {
   "cell_type": "code",
   "execution_count": 15,
   "id": "previous-foundation",
   "metadata": {},
   "outputs": [
    {
     "data": {
      "application/vnd.jupyter.widget-view+json": {
       "model_id": "327501bd48fe49a78411d5a325931f5a",
       "version_major": 2,
       "version_minor": 0
      },
      "text/plain": [
       "VBox(children=(HBox(children=(Tree(layout=Layout(width='300px'), nodes=(MPLNode(name='one'), MPLNode(name='two…"
      ]
     },
     "metadata": {},
     "output_type": "display_data"
    }
   ],
   "source": [
    "aw.render()"
   ]
  },
  {
   "cell_type": "code",
   "execution_count": null,
   "id": "detailed-synthesis",
   "metadata": {},
   "outputs": [],
   "source": []
  },
  {
   "cell_type": "code",
   "execution_count": null,
   "id": "favorite-north",
   "metadata": {},
   "outputs": [],
   "source": []
  }
 ],
 "metadata": {
  "kernelspec": {
   "display_name": "bmcs_env",
   "language": "python",
   "name": "bmcs_env"
  },
  "language_info": {
   "codemirror_mode": {
    "name": "ipython",
    "version": 3
   },
   "file_extension": ".py",
   "mimetype": "text/x-python",
   "name": "python",
   "nbconvert_exporter": "python",
   "pygments_lexer": "ipython3",
   "version": "3.9.1"
  },
  "toc": {
   "base_numbering": 1,
   "nav_menu": {},
   "number_sections": true,
   "sideBar": true,
   "skip_h1_title": false,
   "title_cell": "Table of Contents",
   "title_sidebar": "Contents",
   "toc_cell": false,
   "toc_position": {},
   "toc_section_display": true,
   "toc_window_display": false
  }
 },
 "nbformat": 4,
 "nbformat_minor": 5
}
