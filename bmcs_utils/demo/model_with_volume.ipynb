{
 "cells": [
  {
   "cell_type": "markdown",
   "id": "annual-sugar",
   "metadata": {},
   "source": [
    "# Example code snippet showing working switch between plot panes"
   ]
  },
  {
   "cell_type": "markdown",
   "id": "large-combat",
   "metadata": {},
   "source": [
    "First show the minimalistic implementation of the `AppWindow` class."
   ]
  },
  {
   "cell_type": "code",
   "execution_count": 20,
   "id": "restricted-pasta",
   "metadata": {
    "pycharm": {
     "name": "#%%\n"
    }
   },
   "outputs": [],
   "source": [
    "%matplotlib widget\n",
    "from bmcs_utils.demo.app_window import AppWindow as AW"
   ]
  },
  {
   "cell_type": "code",
   "execution_count": 21,
   "id": "historical-north",
   "metadata": {},
   "outputs": [],
   "source": [
    "aw = AW()"
   ]
  },
  {
   "cell_type": "code",
   "execution_count": 22,
   "id": "latin-joshua",
   "metadata": {},
   "outputs": [
    {
     "data": {
      "text/plain": [
       "{'mpl': <bmcs_utils.demo.app_window.MPLBackend at 0x7f308db3f9a0>,\n",
       " 'k3d': <bmcs_utils.demo.app_window.K3DBackend at 0x7f308db3f5e0>}"
      ]
     },
     "execution_count": 22,
     "metadata": {},
     "output_type": "execute_result"
    }
   ],
   "source": [
    "aw.plot_backend_table"
   ]
  },
  {
   "cell_type": "code",
   "execution_count": 23,
   "id": "previous-foundation",
   "metadata": {
    "scrolled": true
   },
   "outputs": [
    {
     "data": {
      "application/vnd.jupyter.widget-view+json": {
       "model_id": "6f3c47a0daaa4b83bf157956c3385311",
       "version_major": 2,
       "version_minor": 0
      },
      "text/plain": [
       "VBox(children=(HBox(children=(Tree(layout=Layout(width='300px'), nodes=(MPLNode(name='one'), MPLNode(name='two…"
      ]
     },
     "metadata": {},
     "output_type": "display_data"
    }
   ],
   "source": [
    "aw.render()"
   ]
  },
  {
   "cell_type": "markdown",
   "id": "prescription-utility",
   "metadata": {},
   "source": [
    "# Interoperability between model tree and plot pane\n",
    "\n",
    "Demonstrate the `AppWindow` in combination with a model. The model delivers\n",
    "the tree to navigate through the model components, edit it and display via \n",
    "print and plot adapters (markdown, matplotlib, k3d)"
   ]
  },
  {
   "cell_type": "code",
   "execution_count": 24,
   "id": "hindu-tragedy",
   "metadata": {},
   "outputs": [],
   "source": [
    "%matplotlib widget\n",
    "from bmcs_utils.demo.model_with_volume import ModelWithVolume\n",
    "import bmcs_utils.api as bu"
   ]
  },
  {
   "cell_type": "code",
   "execution_count": 26,
   "id": "boolean-carol",
   "metadata": {},
   "outputs": [],
   "source": [
    "class TopLevelModel(bu.Model):\n",
    "    name = 'example of a top-level model'\n",
    "    a = bu.Float(8)\n",
    "    volume = bu.Instance(ModelWithVolume, ())\n",
    "    \n",
    "    tree = ['volume']\n",
    "    \n",
    "    ipw_view = bu.View(\n",
    "        bu.Item('a')\n",
    "    )\n",
    "    \n",
    "    def update_plot(self,ax):\n",
    "        pass"
   ]
  },
  {
   "cell_type": "markdown",
   "id": "interstate-embassy",
   "metadata": {},
   "source": [
    "Instantiate the model and render it for interaction. Subcomponents\n",
    "have different plot adapters which are immediately rendered to the plot pane.\n",
    "The `AppWindow` can be launched from any model by issuing the `interact` or `app` method."
   ]
  },
  {
   "cell_type": "code",
   "execution_count": 27,
   "id": "assigned-ghost",
   "metadata": {},
   "outputs": [
    {
     "data": {
      "application/vnd.jupyter.widget-view+json": {
       "model_id": "a8e8c92fa3e84409bd15daf80878b66a",
       "version_major": 2,
       "version_minor": 0
      },
      "text/plain": [
       "HBox(children=(VBox(children=(Tree(layout=Layout(align_items='stretch', border='solid 1px black', display='fle…"
      ]
     },
     "metadata": {},
     "output_type": "display_data"
    }
   ],
   "source": [
    "ComplexModel().interact()"
   ]
  },
  {
   "cell_type": "markdown",
   "id": "artistic-representative",
   "metadata": {},
   "source": [
    "The subcomponent used in the previous example can be used as a top level component as well."
   ]
  },
  {
   "cell_type": "code",
   "execution_count": 30,
   "id": "charitable-costs",
   "metadata": {},
   "outputs": [
    {
     "data": {
      "application/vnd.jupyter.widget-view+json": {
       "model_id": "5b63ff88a3884fa6b0b65d3accf95113",
       "version_major": 2,
       "version_minor": 0
      },
      "text/plain": [
       "HBox(children=(VBox(children=(Tree(layout=Layout(align_items='stretch', border='solid 1px black', display='fle…"
      ]
     },
     "metadata": {},
     "output_type": "display_data"
    }
   ],
   "source": [
    "ModelWithVolume().app()"
   ]
  },
  {
   "cell_type": "code",
   "execution_count": null,
   "id": "thermal-chuck",
   "metadata": {},
   "outputs": [],
   "source": []
  }
 ],
 "metadata": {
  "kernelspec": {
   "display_name": "bmcs_env",
   "language": "python",
   "name": "bmcs_env"
  },
  "language_info": {
   "codemirror_mode": {
    "name": "ipython",
    "version": 3
   },
   "file_extension": ".py",
   "mimetype": "text/x-python",
   "name": "python",
   "nbconvert_exporter": "python",
   "pygments_lexer": "ipython3",
   "version": "3.9.1"
  },
  "toc": {
   "base_numbering": 1,
   "nav_menu": {},
   "number_sections": true,
   "sideBar": true,
   "skip_h1_title": true,
   "title_cell": "Table of Contents",
   "title_sidebar": "Contents",
   "toc_cell": false,
   "toc_position": {},
   "toc_section_display": true,
   "toc_window_display": false
  }
 },
 "nbformat": 4,
 "nbformat_minor": 5
}
