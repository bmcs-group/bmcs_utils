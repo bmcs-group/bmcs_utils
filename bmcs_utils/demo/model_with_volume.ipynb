{
 "cells": [
  {
   "cell_type": "markdown",
   "id": "infectious-rogers",
   "metadata": {},
   "source": [
    "# Example code snippet showing working switch between plot panes"
   ]
  },
  {
   "cell_type": "markdown",
   "id": "utility-firewall",
   "metadata": {},
   "source": [
    "First show the minimalistic implementation of the `AppWindow` class."
   ]
  },
  {
   "cell_type": "code",
   "execution_count": 1,
   "id": "solved-happiness",
   "metadata": {
    "pycharm": {
     "name": "#%%\n"
    }
   },
   "outputs": [],
   "source": [
    "%matplotlib widget\n",
    "from bmcs_utils.demo.app_window import AppWindow as AW"
   ]
  },
  {
   "cell_type": "code",
   "execution_count": 2,
   "id": "compact-japan",
   "metadata": {},
   "outputs": [],
   "source": [
    "aw = AW()"
   ]
  },
  {
   "cell_type": "code",
   "execution_count": 3,
   "id": "toxic-shaft",
   "metadata": {},
   "outputs": [
    {
     "data": {
      "text/plain": [
       "{'mpl': <bmcs_utils.demo.app_window.MPLBackend at 0x7f9c9f6a8db0>,\n",
       " 'k3d': <bmcs_utils.demo.app_window.K3DBackend at 0x7f9c91e72270>}"
      ]
     },
     "execution_count": 3,
     "metadata": {},
     "output_type": "execute_result"
    }
   ],
   "source": [
    "aw.plot_backend_table"
   ]
  },
  {
   "cell_type": "code",
   "execution_count": 4,
   "id": "sexual-injury",
   "metadata": {
    "scrolled": true
   },
   "outputs": [
    {
     "data": {
      "application/vnd.jupyter.widget-view+json": {
       "model_id": "e0568e22c33f497babcf25b48b59a51d",
       "version_major": 2,
       "version_minor": 0
      },
      "text/plain": [
       "VBox(children=(HBox(children=(Tree(layout=Layout(width='300px'), nodes=(MPLNode(name='one'), MPLNode(name='two…"
      ]
     },
     "metadata": {},
     "output_type": "display_data"
    }
   ],
   "source": [
    "aw.render()"
   ]
  },
  {
   "cell_type": "markdown",
   "id": "virgin-fundamental",
   "metadata": {},
   "source": [
    "# Interoperability between model tree and plot pane\n",
    "\n",
    "Demonstrate the `AppWindow` in combination with a model. The model delivers\n",
    "the tree to navigate through the model components, edit it and display via \n",
    "print and plot adapters (markdown, matplotlib, k3d)"
   ]
  },
  {
   "cell_type": "code",
   "execution_count": 5,
   "id": "creative-disabled",
   "metadata": {},
   "outputs": [],
   "source": [
    "%matplotlib widget\n",
    "from bmcs_utils.demo.model_with_volume import ModelWithVolume\n",
    "import bmcs_utils.api as bu"
   ]
  },
  {
   "cell_type": "code",
   "execution_count": 6,
   "id": "orange-zimbabwe",
   "metadata": {},
   "outputs": [],
   "source": [
    "class TopLevelModel(bu.Model):\n",
    "    name = 'example of a top-level model'\n",
    "    a = bu.Float(8)\n",
    "    volume = bu.Instance(ModelWithVolume, ())\n",
    "    \n",
    "    tree = ['volume']\n",
    "    \n",
    "    ipw_view = bu.View(\n",
    "        bu.Item('a')\n",
    "    )\n",
    "    \n",
    "    def update_plot(self,ax):\n",
    "        pass"
   ]
  },
  {
   "cell_type": "markdown",
   "id": "baking-generator",
   "metadata": {},
   "source": [
    "Instantiate the model and render it for interaction. Subcomponents\n",
    "have different plot adapters which are immediately rendered to the plot pane.\n",
    "The `AppWindow` can be launched from any model by issuing the `interact` or `app` method."
   ]
  },
  {
   "cell_type": "code",
   "execution_count": 7,
   "id": "furnished-conservation",
   "metadata": {},
   "outputs": [
    {
     "data": {
      "application/vnd.jupyter.widget-view+json": {
       "model_id": "7d7e354e9cd54ed89eb9dcb80e598dae",
       "version_major": 2,
       "version_minor": 0
      },
      "text/plain": [
       "VBox(children=(HBox(children=(VBox(children=(Tree(layout=Layout(align_items='stretch', border='solid 1px black…"
      ]
     },
     "metadata": {},
     "output_type": "display_data"
    }
   ],
   "source": [
    "TopLevelModel().interact()"
   ]
  },
  {
   "cell_type": "markdown",
   "id": "authentic-spanking",
   "metadata": {},
   "source": [
    "The subcomponent used in the previous example can be used as a top level component as well."
   ]
  },
  {
   "cell_type": "code",
   "execution_count": 8,
   "id": "engaging-ticket",
   "metadata": {},
   "outputs": [
    {
     "data": {
      "application/vnd.jupyter.widget-view+json": {
       "model_id": "24a042a1b434461b92b6ac63fed0fbfb",
       "version_major": 2,
       "version_minor": 0
      },
      "text/plain": [
       "VBox(children=(HBox(children=(VBox(children=(Tree(layout=Layout(align_items='stretch', border='solid 1px black…"
      ]
     },
     "metadata": {},
     "output_type": "display_data"
    }
   ],
   "source": [
    "ModelWithVolume().app()"
   ]
  },
  {
   "cell_type": "code",
   "execution_count": null,
   "id": "complicated-latvia",
   "metadata": {},
   "outputs": [],
   "source": []
  }
 ],
 "metadata": {
  "kernelspec": {
   "display_name": "Python 3 (ipykernel)",
   "language": "python",
   "name": "python3"
  },
  "language_info": {
   "codemirror_mode": {
    "name": "ipython",
    "version": 3
   },
   "file_extension": ".py",
   "mimetype": "text/x-python",
   "name": "python",
   "nbconvert_exporter": "python",
   "pygments_lexer": "ipython3",
   "version": "3.10.4"
  },
  "toc": {
   "base_numbering": 1,
   "nav_menu": {},
   "number_sections": true,
   "sideBar": true,
   "skip_h1_title": true,
   "title_cell": "Table of Contents",
   "title_sidebar": "Contents",
   "toc_cell": false,
   "toc_position": {},
   "toc_section_display": true,
   "toc_window_display": false
  }
 },
 "nbformat": 4,
 "nbformat_minor": 5
}
