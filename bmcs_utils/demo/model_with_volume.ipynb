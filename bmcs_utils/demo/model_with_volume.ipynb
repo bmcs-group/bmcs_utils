{
 "cells": [
  {
   "cell_type": "markdown",
   "id": "infectious-rogers",
   "metadata": {},
   "source": [
    "# Example code snippet showing working switch between plot panes"
   ]
  },
  {
   "cell_type": "markdown",
   "id": "utility-firewall",
   "metadata": {},
   "source": [
    "First show the minimalistic implementation of the `AppWindow` class."
   ]
  },
  {
   "cell_type": "code",
   "execution_count": 1,
   "id": "solved-happiness",
   "metadata": {
    "pycharm": {
     "name": "#%%\n"
    }
   },
   "outputs": [],
   "source": [
    "%matplotlib widget\n",
    "from bmcs_utils.demo.app_window import AppWindow as AW"
   ]
  },
  {
   "cell_type": "code",
   "execution_count": 2,
   "id": "compact-japan",
   "metadata": {},
   "outputs": [],
   "source": [
    "aw = AW()"
   ]
  },
  {
   "cell_type": "code",
   "execution_count": 3,
   "id": "toxic-shaft",
   "metadata": {},
   "outputs": [
    {
     "data": {
      "text/plain": [
       "{'mpl': <bmcs_utils.demo.app_window.MPLBackend at 0x7f01d9123680>,\n",
       " 'k3d': <bmcs_utils.demo.app_window.K3DBackend at 0x7f01c95d9270>}"
      ]
     },
     "execution_count": 3,
     "metadata": {},
     "output_type": "execute_result"
    },
    {
     "data": {
      "application/vnd.jupyter.widget-view+json": {
       "model_id": "6506e980280943769c89d1d2b7faa0d1",
       "version_major": 2,
       "version_minor": 0
      },
      "image/png": "[encoded data removed]",
      "text/html": [
       "\n",
       "            <div style=\"display: inline-block;\">\n",
       "                <div class=\"jupyter-widgets widget-label\" style=\"text-align: center;\">\n",
       "                    Figure\n",
       "                </div>\n",
       "                <img src='data:image/png;base64,iVBORw0KGgoAAAANSUhEUgAAAfQAAADICAYAAAAeGRPoAAAAOXRFWHRTb2Z0d2FyZQBNYXRwbG90bGliIHZlcnNpb24zLjMuMywgaHR0cHM6Ly9tYXRwbG90bGliLm9yZy/Il7ecAAAACXBIWXMAAA9hAAAPYQGoP6dpAAADQElEQVR4nO3VwQ3AIBDAsNL9dz6G4IGI7Anyy5qZ+QCAp/23AwCAc4YOAAGGDgABhg4AAYYOAAGGDgABhg4AAYYOAAGGDgABhg4AAYYOAAGGDgABhg4AAYYOAAGGDgABhg4AAYYOAAGGDgABhg4AAYYOAAGGDgABhg4AAYYOAAGGDgABhg4AAYYOAAGGDgABhg4AAYYOAAGGDgABhg4AAYYOAAGGDgABhg4AAYYOAAGGDgABhg4AAYYOAAGGDgABhg4AAYYOAAGGDgABhg4AAYYOAAGGDgABhg4AAYYOAAGGDgABhg4AAYYOAAGGDgABhg4AAYYOAAGGDgABhg4AAYYOAAGGDgABhg4AAYYOAAGGDgABhg4AAYYOAAGGDgABhg4AAYYOAAGGDgABhg4AAYYOAAGGDgABhg4AAYYOAAGGDgABhg4AAYYOAAGGDgABhg4AAYYOAAGGDgABhg4AAYYOAAGGDgABhg4AAYYOAAGGDgABhg4AAYYOAAGGDgABhg4AAYYOAAGGDgABhg4AAYYOAAGGDgABhg4AAYYOAAGGDgABhg4AAYYOAAGGDgABhg4AAYYOAAGGDgABhg4AAYYOAAGGDgABhg4AAYYOAAGGDgABhg4AAYYOAAGGDgABhg4AAYYOAAGGDgABhg4AAYYOAAGGDgABhg4AAYYOAAGGDgABhg4AAYYOAAGGDgABhg4AAYYOAAGGDgABhg4AAYYOAAGGDgABhg4AAYYOAAGGDgABhg4AAYYOAAGGDgABhg4AAYYOAAGGDgABhg4AAYYOAAGGDgABhg4AAYYOAAGGDgABhg4AAYYOAAGGDgABhg4AAYYOAAGGDgABhg4AAYYOAAGGDgABhg4AAYYOAAGGDgABhg4AAYYOAAGGDgABhg4AAYYOAAGGDgABhg4AAYYOAAGGDgABhg4AAYYOAAGGDgABhg4AAYYOAAGGDgABhg4AAYYOAAGGDgABhg4AAYYOAAGGDgABhg4AAYYOAAGGDgABhg4AAYYOAAGGDgABhg4AAYYOAAGGDgABhg4AAYYOAAGGDgABhg4AAYYOAAGGDgABhg4AAYYOAAGGDgABhg4AAYYOAAGGDgABhg4AARvJYQWMGb3QVwAAAABJRU5ErkJggg==' width=500.0/>\n",
       "            </div>\n",
       "        "
      ],
      "text/plain": [
       "Canvas(toolbar=Toolbar(toolitems=[('Home', 'Reset original view', 'home', 'home'), ('Back', 'Back to previous …"
      ]
     },
     "metadata": {},
     "output_type": "display_data"
    }
   ],
   "source": [
    "aw.plot_backend_table"
   ]
  },
  {
   "cell_type": "code",
   "execution_count": 4,
   "id": "sexual-injury",
   "metadata": {
    "scrolled": true
   },
   "outputs": [
    {
     "data": {
      "application/vnd.jupyter.widget-view+json": {
       "model_id": "2eec39842f1f44c1853ac151d954019e",
       "version_major": 2,
       "version_minor": 0
      },
      "text/plain": [
       "VBox(children=(HBox(children=(Tree(layout=Layout(width='300px'), nodes=(MPLNode(name='one'), MPLNode(name='two…"
      ]
     },
     "metadata": {},
     "output_type": "display_data"
    }
   ],
   "source": [
    "aw.render()"
   ]
  },
  {
   "cell_type": "markdown",
   "id": "virgin-fundamental",
   "metadata": {},
   "source": [
    "# Interoperability between model tree and plot pane\n",
    "\n",
    "Demonstrate the `AppWindow` in combination with a model. The model delivers\n",
    "the tree to navigate through the model components, edit it and display via \n",
    "print and plot adapters (markdown, matplotlib, k3d)"
   ]
  },
  {
   "cell_type": "code",
   "execution_count": 5,
   "id": "creative-disabled",
   "metadata": {},
   "outputs": [],
   "source": [
    "%matplotlib widget\n",
    "from bmcs_utils.demo.model_with_volume import ModelWithVolume\n",
    "import bmcs_utils.api as bu"
   ]
  },
  {
   "cell_type": "code",
   "execution_count": 6,
   "id": "orange-zimbabwe",
   "metadata": {},
   "outputs": [],
   "source": [
    "class TopLevelModel(bu.Model):\n",
    "    name = 'example of a top-level model'\n",
    "    a = bu.Float(8)\n",
    "    volume = bu.Instance(ModelWithVolume, ())\n",
    "    \n",
    "    tree = ['volume']\n",
    "    \n",
    "    ipw_view = bu.View(\n",
    "        bu.Item('a')\n",
    "    )\n",
    "    \n",
    "    def update_plot(self,ax):\n",
    "        pass"
   ]
  },
  {
   "cell_type": "markdown",
   "id": "baking-generator",
   "metadata": {},
   "source": [
    "Instantiate the model and render it for interaction. Subcomponents\n",
    "have different plot adapters which are immediately rendered to the plot pane.\n",
    "The `AppWindow` can be launched from any model by issuing the `interact` or `app` method."
   ]
  },
  {
   "cell_type": "code",
   "execution_count": 7,
   "id": "furnished-conservation",
   "metadata": {},
   "outputs": [],
   "source": [
    "tl = TopLevelModel()"
   ]
  },
  {
   "cell_type": "code",
   "execution_count": 8,
   "id": "3f00e63d-38c4-4109-9a91-782297c6fc52",
   "metadata": {},
   "outputs": [
    {
     "data": {
      "application/vnd.jupyter.widget-view+json": {
       "model_id": "4afd34406b884e3c8174dfeca1366312",
       "version_major": 2,
       "version_minor": 0
      },
      "text/plain": [
       "VBox(children=(HBox(children=(VBox(children=(Tree(layout=Layout(align_items='stretch', border='solid 1px black…"
      ]
     },
     "metadata": {},
     "output_type": "display_data"
    }
   ],
   "source": [
    "tl.interact()"
   ]
  },
  {
   "cell_type": "markdown",
   "id": "authentic-spanking",
   "metadata": {},
   "source": [
    "The subcomponent used in the previous example can be used as a top level component as well."
   ]
  },
  {
   "cell_type": "code",
   "execution_count": 9,
   "id": "engaging-ticket",
   "metadata": {},
   "outputs": [
    {
     "data": {
      "application/vnd.jupyter.widget-view+json": {
       "model_id": "ec52cbc0f2f146489a6edda665014d36",
       "version_major": 2,
       "version_minor": 0
      },
      "text/plain": [
       "VBox(children=(HBox(children=(VBox(children=(Tree(layout=Layout(align_items='stretch', border='solid 1px black…"
      ]
     },
     "metadata": {},
     "output_type": "display_data"
    }
   ],
   "source": [
    "ModelWithVolume().app()"
   ]
  },
  {
   "cell_type": "code",
   "execution_count": null,
   "id": "complicated-latvia",
   "metadata": {},
   "outputs": [],
   "source": []
  }
 ],
 "metadata": {
  "kernelspec": {
   "display_name": "bmcs_env",
   "language": "python",
   "name": "bmcs_env"
  },
  "language_info": {
   "codemirror_mode": {
    "name": "ipython",
    "version": 3
   },
   "file_extension": ".py",
   "mimetype": "text/x-python",
   "name": "python",
   "nbconvert_exporter": "python",
   "pygments_lexer": "ipython3",
   "version": "3.9.0"
  },
  "toc": {
   "base_numbering": 1,
   "nav_menu": {},
   "number_sections": true,
   "sideBar": true,
   "skip_h1_title": true,
   "title_cell": "Table of Contents",
   "title_sidebar": "Contents",
   "toc_cell": false,
   "toc_position": {},
   "toc_section_display": true,
   "toc_window_display": false
  }
 },
 "nbformat": 4,
 "nbformat_minor": 5
}
