{
 "cells": [
  {
   "cell_type": "markdown",
   "metadata": {
    "pycharm": {
     "name": "#%% md\n"
    }
   },
   "source": [
    "# Tree with state propagation"
   ]
  },
  {
   "cell_type": "code",
   "execution_count": 1,
   "metadata": {
    "collapsed": false,
    "jupyter": {
     "outputs_hidden": false
    },
    "pycharm": {
     "name": "#%%\n"
    }
   },
   "outputs": [],
   "source": [
    "%matplotlib widget\n",
    "import bmcs_utils.api as bu\n",
    "import traits.api as tr\n",
    "import numpy as np"
   ]
  },
  {
   "cell_type": "code",
   "execution_count": 2,
   "metadata": {},
   "outputs": [],
   "source": [
    "scd = True"
   ]
  },
  {
   "cell_type": "markdown",
   "metadata": {},
   "source": [
    "# Define a submodel"
   ]
  },
  {
   "cell_type": "code",
   "execution_count": 3,
   "metadata": {},
   "outputs": [],
   "source": [
    "class Rectangle(bu.Model):\n",
    "    name = 'rectangle'\n",
    "    \n",
    "    length = bu.Float(2, GEO=True)\n",
    "    width = bu.Float(2, GEO=True)\n",
    "\n",
    "    A = tr.Property\n",
    "    def _get_A(self):\n",
    "        return self.length * self.width\n",
    "    \n",
    "    ipw_view = bu.View(\n",
    "        bu.Item('length'),\n",
    "        bu.Item('width')\n",
    "    )\n",
    "    \n",
    "class Circle(bu.Model):\n",
    "    name = 'circle'\n",
    "    \n",
    "    radius = bu.Float(2, GEO=True)\n",
    "\n",
    "    A = tr.Property\n",
    "    def _get_A(self):\n",
    "        return self.radius**2 * np.pi\n",
    "\n",
    "    ipw_view = bu.View(\n",
    "        bu.Item('radius')\n",
    "    )"
   ]
  },
  {
   "cell_type": "code",
   "execution_count": 4,
   "metadata": {},
   "outputs": [],
   "source": [
    "class ReinfLayer(bu.Model):\n",
    "    name = 'layer'\n",
    "    css = bu.EitherType(options=[('rectangle', Rectangle),\n",
    "                                 ('circle', Circle)])\n",
    "    \n",
    "    A = tr.Property(bu.Float, depends_on='state_changed')\n",
    "    @tr.cached_property\n",
    "    def _get_A(self):\n",
    "        return self.css_.A\n",
    "\n",
    "    depends_on = ['css_']\n",
    "    ipw_view = bu.View(\n",
    "        bu.Item('css'),\n",
    "        bu.Item('A')\n",
    "    )"
   ]
  },
  {
   "cell_type": "code",
   "execution_count": 5,
   "metadata": {},
   "outputs": [
    {
     "data": {
      "application/vnd.jupyter.widget-view+json": {
       "model_id": "a097af36245949ee9600e5a40077df50",
       "version_major": 2,
       "version_minor": 0
      },
      "text/plain": [
       "VBox(children=(HBox(children=(VBox(children=(Tree(layout=Layout(align_items='stretch', border='solid 1px black…"
      ]
     },
     "metadata": {},
     "output_type": "display_data"
    }
   ],
   "source": [
    "rl = ReinfLayer()\n",
    "rl.state_change_debug = True\n",
    "rl.interact()"
   ]
  },
  {
   "cell_type": "code",
   "execution_count": 6,
   "metadata": {},
   "outputs": [
    {
     "name": "stdout",
     "output_type": "stream",
     "text": [
      "-----------------------\n",
      "rectangle length 3\n",
      "value_changed <__main__.Rectangle object at 0x7f27fc501bc0> TraitChangeEvent(object=<__main__.Rectangle object at 0x7f27fc501bc0>, name='length', old=2, new=3.0)\n",
      "value_changed <__main__.ReinfLayer object at 0x7f27fce9fd80> Notification from child <__main__.Rectangle object at 0x7f27fc501bc0>\n",
      "A 6.0\n",
      "state_changes 2\n",
      "-----------------------\n",
      "circle radius 3\n",
      "parent <__main__.ReinfLayer object at 0x7f27fce9fd80> changing child from child <__main__.Rectangle object at 0x7f27fc501bc0> to <__main__.Circle object at 0x7f27fc501300>\n",
      "graph_changed <__main__.ReinfLayer object at 0x7f27fce9fd80> Notification from child <__main__.Circle object at 0x7f27fc501300>\n",
      "value_changed <__main__.Circle object at 0x7f27fc501300> TraitChangeEvent(object=<__main__.Circle object at 0x7f27fc501300>, name='radius', old=2, new=3.0)\n",
      "value_changed <__main__.ReinfLayer object at 0x7f27fce9fd80> Notification from child <__main__.Circle object at 0x7f27fc501300>\n",
      "A 28.274333882308138\n",
      "state_changes 3\n",
      "-----------------------\n",
      "rectangle length 5\n",
      "parent <__main__.ReinfLayer object at 0x7f27fce9fd80> changing child from child <__main__.Circle object at 0x7f27fc501300> to <__main__.Rectangle object at 0x7f27fc85aa70>\n",
      "graph_changed <__main__.ReinfLayer object at 0x7f27fce9fd80> Notification from child <__main__.Rectangle object at 0x7f27fc85aa70>\n",
      "value_changed <__main__.Rectangle object at 0x7f27fc85aa70> TraitChangeEvent(object=<__main__.Rectangle object at 0x7f27fc85aa70>, name='length', old=2, new=5.0)\n",
      "value_changed <__main__.ReinfLayer object at 0x7f27fce9fd80> Notification from child <__main__.Rectangle object at 0x7f27fc85aa70>\n",
      "A 10.0\n",
      "state_changes 3\n",
      "-----------------------\n",
      "circle radius 3\n",
      "parent <__main__.ReinfLayer object at 0x7f27fce9fd80> changing child from child <__main__.Rectangle object at 0x7f27fc85aa70> to <__main__.Circle object at 0x7f27fc4671a0>\n",
      "graph_changed <__main__.ReinfLayer object at 0x7f27fce9fd80> Notification from child <__main__.Circle object at 0x7f27fc4671a0>\n",
      "value_changed <__main__.Circle object at 0x7f27fc4671a0> TraitChangeEvent(object=<__main__.Circle object at 0x7f27fc4671a0>, name='radius', old=2, new=3.0)\n",
      "value_changed <__main__.ReinfLayer object at 0x7f27fce9fd80> Notification from child <__main__.Circle object at 0x7f27fc4671a0>\n",
      "A 28.274333882308138\n",
      "state_changes 3\n",
      "-----------------------\n",
      "rectangle length 5\n",
      "parent <__main__.ReinfLayer object at 0x7f27fce9fd80> changing child from child <__main__.Circle object at 0x7f27fc4671a0> to <__main__.Rectangle object at 0x7f27fc7731f0>\n",
      "graph_changed <__main__.ReinfLayer object at 0x7f27fce9fd80> Notification from child <__main__.Rectangle object at 0x7f27fc7731f0>\n",
      "value_changed <__main__.Rectangle object at 0x7f27fc7731f0> TraitChangeEvent(object=<__main__.Rectangle object at 0x7f27fc7731f0>, name='length', old=2, new=5.0)\n",
      "value_changed <__main__.ReinfLayer object at 0x7f27fce9fd80> Notification from child <__main__.Rectangle object at 0x7f27fc7731f0>\n",
      "A 10.0\n",
      "state_changes 3\n"
     ]
    }
   ],
   "source": [
    "changes = [('rectangle', 'length', 3),\n",
    "           ('circle', 'radius', 3),\n",
    "           ('rectangle', 'length', 5),\n",
    "           ('circle', 'radius', 3),\n",
    "           ('rectangle', 'length', 5),\n",
    "           ]\n",
    "for css_type, attr, value in changes:\n",
    "    print('-----------------------')\n",
    "    rl.reset_state_change()\n",
    "    print(css_type, attr, value)\n",
    "    rl.css = css_type\n",
    "    setattr(rl.css_, attr, value)\n",
    "    print('A', rl.A)\n",
    "    print('state_changes', rl.state_change_counter)"
   ]
  },
  {
   "cell_type": "markdown",
   "metadata": {
    "jupyter": {
     "outputs_hidden": false
    },
    "pycharm": {
     "name": "#%%\n"
    }
   },
   "source": [
    "# Test a dictionary"
   ]
  },
  {
   "cell_type": "code",
   "execution_count": 13,
   "metadata": {},
   "outputs": [],
   "source": [
    "class CrossSectionLayout(bu.ModelDict):\n",
    "    name = 'Cross Section Layout'\n",
    "    "
   ]
  },
  {
   "cell_type": "code",
   "execution_count": 23,
   "metadata": {},
   "outputs": [],
   "source": [
    "csl = CrossSectionLayout()\n",
    "csl.state_change_debug = False\n",
    "csl['one'] = ReinfLayer(css='rectangle')\n",
    "csl['two'] = ReinfLayer(css='circle')"
   ]
  },
  {
   "cell_type": "code",
   "execution_count": 24,
   "metadata": {},
   "outputs": [],
   "source": [
    "class Beam(bu.Model):\n",
    "    name = 'Beam'\n",
    "    csl = bu.Instance(CrossSectionLayout, ())\n",
    "    tree = ['csl']\n",
    "    \n",
    "    sum_A = tr.Property(bu.Float, depends_on='state_changed')\n",
    "    @tr.cached_property\n",
    "    def _get_sum_A(self):\n",
    "        return sum( rl.A for rl in self.csl.items.values() ) \n",
    "\n",
    "    ipw_view = bu.View(\n",
    "        bu.Item('sum_A', readonly=True)\n",
    "    )"
   ]
  },
  {
   "cell_type": "code",
   "execution_count": 25,
   "metadata": {},
   "outputs": [],
   "source": [
    "b = Beam(csl=csl)\n",
    "# b.interact()"
   ]
  },
  {
   "cell_type": "code",
   "execution_count": 26,
   "metadata": {},
   "outputs": [
    {
     "name": "stdout",
     "output_type": "stream",
     "text": [
      "-----------------------\n",
      "rectangle length 3\n",
      "A 6.0\n",
      "state_changes 4\n",
      "-----------------------\n",
      "circle radius 3\n",
      "A 28.274333882308138\n",
      "state_changes 7\n",
      "-----------------------\n",
      "rectangle length 5\n",
      "A 10.0\n",
      "state_changes 7\n",
      "-----------------------\n",
      "circle radius 5\n",
      "A 78.53981633974483\n",
      "state_changes 7\n",
      "-----------------------\n",
      "rectangle length 5\n",
      "A 10.0\n",
      "state_changes 7\n"
     ]
    }
   ],
   "source": [
    "changes = [('rectangle', 'length', 3),\n",
    "           ('circle', 'radius', 3),\n",
    "           ('rectangle', 'length', 5),\n",
    "           ('circle', 'radius', 5),\n",
    "           ('rectangle', 'length', 5),\n",
    "           ]\n",
    "for css_type, attr, value in changes:\n",
    "    rl.reset_state_change()\n",
    "    print('-----------------------')\n",
    "    rl = b.csl['one']\n",
    "    print(css_type, attr, value)\n",
    "    rl.css = css_type\n",
    "    setattr(rl.css_, attr, value)\n",
    "    print('A', rl.A)\n",
    "    print('state_changes', rl.state_change_counter)"
   ]
  },
  {
   "cell_type": "code",
   "execution_count": 27,
   "metadata": {},
   "outputs": [
    {
     "data": {
      "application/vnd.jupyter.widget-view+json": {
       "model_id": "588233a24eb2436dbc6884ed5d9082a5",
       "version_major": 2,
       "version_minor": 0
      },
      "text/plain": [
       "VBox(children=(HBox(children=(VBox(children=(Tree(layout=Layout(align_items='stretch', border='solid 1px black…"
      ]
     },
     "metadata": {},
     "output_type": "display_data"
    }
   ],
   "source": [
    "b.interact()"
   ]
  },
  {
   "cell_type": "code",
   "execution_count": null,
   "metadata": {},
   "outputs": [],
   "source": []
  }
 ],
 "metadata": {
  "kernelspec": {
   "display_name": "Python 3 (ipykernel)",
   "language": "python",
   "name": "python3"
  },
  "language_info": {
   "codemirror_mode": {
    "name": "ipython",
    "version": 3
   },
   "file_extension": ".py",
   "mimetype": "text/x-python",
   "name": "python",
   "nbconvert_exporter": "python",
   "pygments_lexer": "ipython3",
   "version": "3.10.4"
  }
 },
 "nbformat": 4,
 "nbformat_minor": 4
}
