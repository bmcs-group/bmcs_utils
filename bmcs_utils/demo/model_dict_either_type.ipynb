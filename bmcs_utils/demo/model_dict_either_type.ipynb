{
 "cells": [
  {
   "cell_type": "markdown",
   "metadata": {
    "pycharm": {
     "name": "#%% md\n"
    }
   },
   "source": [
    "# Tree with state propagation"
   ]
  },
  {
   "cell_type": "code",
   "execution_count": 1,
   "metadata": {
    "collapsed": false,
    "jupyter": {
     "outputs_hidden": false
    },
    "pycharm": {
     "name": "#%%\n"
    }
   },
   "outputs": [],
   "source": [
    "%matplotlib widget\n",
    "import bmcs_utils.api as bu\n",
    "import traits.api as tr\n",
    "import numpy as np"
   ]
  },
  {
   "cell_type": "code",
   "execution_count": 2,
   "metadata": {},
   "outputs": [],
   "source": [
    "scd = True"
   ]
  },
  {
   "cell_type": "markdown",
   "metadata": {},
   "source": [
    "# Define a submodel"
   ]
  },
  {
   "cell_type": "code",
   "execution_count": 3,
   "metadata": {},
   "outputs": [],
   "source": [
    "class Rectangle(bu.Model):\n",
    "    name = 'rectangle'\n",
    "    \n",
    "    length = bu.Float(2, GEO=True)\n",
    "    width = bu.Float(2, GEO=True)\n",
    "\n",
    "    A = tr.Property\n",
    "    def _get_A(self):\n",
    "        return self.length * self.width\n",
    "    \n",
    "    ipw_view = bu.View(\n",
    "        bu.Item('length'),\n",
    "        bu.Item('width')\n",
    "    )\n",
    "    \n",
    "class Circle(bu.Model):\n",
    "    name = 'circle'\n",
    "    \n",
    "    radius = bu.Float(2, GEO=True)\n",
    "\n",
    "    A = tr.Property\n",
    "    def _get_A(self):\n",
    "        return self.radius**2 * np.pi\n",
    "\n",
    "    ipw_view = bu.View(\n",
    "        bu.Item('radius')\n",
    "    )"
   ]
  },
  {
   "cell_type": "code",
   "execution_count": 4,
   "metadata": {},
   "outputs": [],
   "source": [
    "class ReinfLayer(bu.Model):\n",
    "    name = 'layer'\n",
    "    css = bu.EitherType(options=[('rectangle', Rectangle),\n",
    "                                 ('circle', Circle)])\n",
    "    \n",
    "    A = tr.Property(bu.Float, depends_on='state_changed')\n",
    "    @tr.cached_property\n",
    "    def _get_A(self):\n",
    "        return self.css_.A\n",
    "\n",
    "    depends_on = ['css']\n",
    "    ipw_view = bu.View(\n",
    "        bu.Item('css'),\n",
    "        bu.Item('A')\n",
    "    )"
   ]
  },
  {
   "cell_type": "code",
   "execution_count": 5,
   "metadata": {},
   "outputs": [
    {
     "name": "stdout",
     "output_type": "stream",
     "text": [
      "name css <traits.ctrait.CTrait object at 0x7efd7549e200>\n"
     ]
    },
    {
     "ename": "TypeError",
     "evalue": "'NoneType' object is not callable",
     "output_type": "error",
     "traceback": [
      "\u001b[0;31m---------------------------------------------------------------------------\u001b[0m",
      "\u001b[0;31mTypeError\u001b[0m                                 Traceback (most recent call last)",
      "Input \u001b[0;32mIn [5]\u001b[0m, in \u001b[0;36m<cell line: 1>\u001b[0;34m()\u001b[0m\n\u001b[0;32m----> 1\u001b[0m rl \u001b[38;5;241m=\u001b[39m \u001b[43mReinfLayer\u001b[49m\u001b[43m(\u001b[49m\u001b[43m)\u001b[49m\n\u001b[1;32m      2\u001b[0m rl\u001b[38;5;241m.\u001b[39mstate_change_debug \u001b[38;5;241m=\u001b[39m \u001b[38;5;28;01mTrue\u001b[39;00m\n\u001b[1;32m      3\u001b[0m rl\u001b[38;5;241m.\u001b[39minteract()\n",
      "File \u001b[0;32m~/PycharmProjects/bmcs_utils/bmcs_utils/model.py:28\u001b[0m, in \u001b[0;36mModel.__init__\u001b[0;34m(self, *args, **kw)\u001b[0m\n\u001b[1;32m     27\u001b[0m \u001b[38;5;28;01mdef\u001b[39;00m \u001b[38;5;21m__init__\u001b[39m(\u001b[38;5;28mself\u001b[39m,\u001b[38;5;241m*\u001b[39margs,\u001b[38;5;241m*\u001b[39m\u001b[38;5;241m*\u001b[39mkw):\n\u001b[0;32m---> 28\u001b[0m     \u001b[38;5;28;43msuper\u001b[39;49m\u001b[43m(\u001b[49m\u001b[43m)\u001b[49m\u001b[38;5;241;43m.\u001b[39;49m\u001b[38;5;21;43m__init__\u001b[39;49m\u001b[43m(\u001b[49m\u001b[38;5;241;43m*\u001b[39;49m\u001b[43margs\u001b[49m\u001b[43m,\u001b[49m\u001b[43m \u001b[49m\u001b[38;5;241;43m*\u001b[39;49m\u001b[38;5;241;43m*\u001b[39;49m\u001b[43mkw\u001b[49m\u001b[43m)\u001b[49m\n",
      "File \u001b[0;32m~/PycharmProjects/bmcs_utils/bmcs_utils/model_notify_mixin.py:24\u001b[0m, in \u001b[0;36mModelNotifyMixin.traits_init\u001b[0;34m(self)\u001b[0m\n\u001b[1;32m     22\u001b[0m \u001b[38;5;28;01mif\u001b[39;00m trait_ \u001b[38;5;129;01mis\u001b[39;00m \u001b[38;5;28;01mNone\u001b[39;00m:\n\u001b[1;32m     23\u001b[0m     \u001b[38;5;28mprint\u001b[39m(\u001b[38;5;124m'\u001b[39m\u001b[38;5;124mname\u001b[39m\u001b[38;5;124m'\u001b[39m, name, trait)\n\u001b[0;32m---> 24\u001b[0m     \u001b[43mtrait_type\u001b[49m\u001b[38;5;241;43m.\u001b[39;49m\u001b[43mpost_setattr\u001b[49m\u001b[43m(\u001b[49m\u001b[38;5;28;43mself\u001b[39;49m\u001b[43m,\u001b[49m\u001b[43m \u001b[49m\u001b[43mname\u001b[49m\u001b[43m,\u001b[49m\u001b[43m \u001b[49m\u001b[43mtrait\u001b[49m\u001b[43m)\u001b[49m\n\u001b[1;32m     25\u001b[0m trait_ \u001b[38;5;241m=\u001b[39m \u001b[38;5;28mgetattr\u001b[39m(\u001b[38;5;28mself\u001b[39m, name_, \u001b[38;5;28;01mNone\u001b[39;00m)\n\u001b[1;32m     26\u001b[0m trait_\u001b[38;5;241m.\u001b[39mparents\u001b[38;5;241m.\u001b[39madd(\u001b[38;5;28mself\u001b[39m)\n",
      "File \u001b[0;32m~/PycharmProjects/bmcs_utils/bmcs_utils/trait_types/either_type2.py:55\u001b[0m, in \u001b[0;36mEitherType2.post_setattr\u001b[0;34m(self, object, name, value)\u001b[0m\n\u001b[1;32m     51\u001b[0m \u001b[38;5;28;01mdef\u001b[39;00m \u001b[38;5;21mpost_setattr\u001b[39m(\u001b[38;5;28mself\u001b[39m, \u001b[38;5;28mobject\u001b[39m, name, value):\n\u001b[1;32m     52\u001b[0m     \u001b[38;5;66;03m# check if the last instance of the klass has been\u001b[39;00m\n\u001b[1;32m     53\u001b[0m     \u001b[38;5;66;03m# registered earlier in the trait history\u001b[39;00m\n\u001b[1;32m     54\u001b[0m     klass \u001b[38;5;241m=\u001b[39m \u001b[38;5;28mself\u001b[39m\u001b[38;5;241m.\u001b[39moptions_dict\u001b[38;5;241m.\u001b[39mget(value, \u001b[38;5;28;01mNone\u001b[39;00m)\n\u001b[0;32m---> 55\u001b[0m     new_value \u001b[38;5;241m=\u001b[39m \u001b[43mklass\u001b[49m\u001b[43m(\u001b[49m\u001b[43m)\u001b[49m\n\u001b[1;32m     56\u001b[0m     \u001b[38;5;66;03m# set the shadow attribute\u001b[39;00m\n\u001b[1;32m     57\u001b[0m     \u001b[38;5;66;03m# editor uses it to associate the value with the option.\u001b[39;00m\n\u001b[1;32m     58\u001b[0m     \u001b[38;5;28msetattr\u001b[39m(\u001b[38;5;28mobject\u001b[39m, name \u001b[38;5;241m+\u001b[39m \u001b[38;5;124m\"\u001b[39m\u001b[38;5;124m_\u001b[39m\u001b[38;5;124m\"\u001b[39m, new_value)\n",
      "\u001b[0;31mTypeError\u001b[0m: 'NoneType' object is not callable"
     ]
    }
   ],
   "source": [
    "rl = ReinfLayer()\n",
    "rl.state_change_debug = True\n",
    "rl.interact()"
   ]
  },
  {
   "cell_type": "code",
   "execution_count": 6,
   "metadata": {},
   "outputs": [
    {
     "name": "stdout",
     "output_type": "stream",
     "text": [
      "-----------------------\n"
     ]
    },
    {
     "ename": "NameError",
     "evalue": "name 'rl' is not defined",
     "output_type": "error",
     "traceback": [
      "\u001b[0;31m---------------------------------------------------------------------------\u001b[0m",
      "\u001b[0;31mNameError\u001b[0m                                 Traceback (most recent call last)",
      "Input \u001b[0;32mIn [6]\u001b[0m, in \u001b[0;36m<cell line: 7>\u001b[0;34m()\u001b[0m\n\u001b[1;32m      7\u001b[0m \u001b[38;5;28;01mfor\u001b[39;00m css_type, attr, value \u001b[38;5;129;01min\u001b[39;00m changes:\n\u001b[1;32m      8\u001b[0m     \u001b[38;5;28mprint\u001b[39m(\u001b[38;5;124m'\u001b[39m\u001b[38;5;124m-----------------------\u001b[39m\u001b[38;5;124m'\u001b[39m)\n\u001b[0;32m----> 9\u001b[0m     \u001b[43mrl\u001b[49m\u001b[38;5;241m.\u001b[39mreset_state_change()\n\u001b[1;32m     10\u001b[0m     \u001b[38;5;28mprint\u001b[39m(css_type, attr, value)\n\u001b[1;32m     11\u001b[0m     rl\u001b[38;5;241m.\u001b[39mcss \u001b[38;5;241m=\u001b[39m css_type\n",
      "\u001b[0;31mNameError\u001b[0m: name 'rl' is not defined"
     ]
    }
   ],
   "source": [
    "changes = [('rectangle', 'length', 3),\n",
    "           ('circle', 'radius', 3),\n",
    "           ('rectangle', 'length', 5),\n",
    "           ('circle', 'radius', 3),\n",
    "           ('rectangle', 'length', 5),\n",
    "           ]\n",
    "for css_type, attr, value in changes:\n",
    "    print('-----------------------')\n",
    "    rl.reset_state_change()\n",
    "    print(css_type, attr, value)\n",
    "    rl.css = css_type\n",
    "    setattr(rl.css_, attr, value)\n",
    "    print('A', rl.A)\n",
    "    print('state_changes', rl.state_change_counter)"
   ]
  },
  {
   "cell_type": "markdown",
   "metadata": {
    "jupyter": {
     "outputs_hidden": false
    },
    "pycharm": {
     "name": "#%%\n"
    }
   },
   "source": [
    "# Test a dictionary"
   ]
  },
  {
   "cell_type": "code",
   "execution_count": 7,
   "metadata": {},
   "outputs": [],
   "source": [
    "class CrossSectionLayout(bu.ModelDict):\n",
    "    name = 'Cross Section Layout'\n",
    "    "
   ]
  },
  {
   "cell_type": "code",
   "execution_count": 8,
   "metadata": {},
   "outputs": [],
   "source": [
    "csl = CrossSectionLayout()\n",
    "csl.state_change_debug = False\n",
    "csl['one'] = ReinfLayer(css='rectangle')\n",
    "csl['two'] = ReinfLayer(css='circle')"
   ]
  },
  {
   "cell_type": "code",
   "execution_count": 9,
   "metadata": {},
   "outputs": [],
   "source": [
    "class Beam(bu.Model):\n",
    "    name = 'Beam'\n",
    "    csl = bu.Instance(CrossSectionLayout, ())\n",
    "    tree = ['csl']\n",
    "    \n",
    "    sum_A = tr.Property(bu.Float, depends_on='state_changed')\n",
    "    @tr.cached_property\n",
    "    def _get_sum_A(self):\n",
    "        return sum( rl.A for rl in self.csl.items.values() ) \n",
    "\n",
    "    ipw_view = bu.View(\n",
    "        bu.Item('sum_A', readonly=True)\n",
    "    )"
   ]
  },
  {
   "cell_type": "code",
   "execution_count": 10,
   "metadata": {},
   "outputs": [],
   "source": [
    "b = Beam(csl=csl)\n",
    "# b.interact()"
   ]
  },
  {
   "cell_type": "code",
   "execution_count": 11,
   "metadata": {},
   "outputs": [
    {
     "name": "stdout",
     "output_type": "stream",
     "text": [
      "-----------------------\n",
      "rectangle length 3\n",
      "A 6.0\n",
      "state_changes 4\n",
      "-----------------------\n",
      "circle radius 3\n",
      "A 28.274333882308138\n",
      "state_changes 7\n",
      "-----------------------\n",
      "rectangle length 5\n",
      "A 10.0\n",
      "state_changes 7\n",
      "-----------------------\n",
      "circle radius 5\n",
      "A 78.53981633974483\n",
      "state_changes 7\n",
      "-----------------------\n",
      "rectangle length 5\n",
      "A 10.0\n",
      "state_changes 7\n"
     ]
    }
   ],
   "source": [
    "changes = [('rectangle', 'length', 3),\n",
    "           ('circle', 'radius', 3),\n",
    "           ('rectangle', 'length', 5),\n",
    "           ('circle', 'radius', 5),\n",
    "           ('rectangle', 'length', 5),\n",
    "           ]\n",
    "for css_type, attr, value in changes:\n",
    "    rl.reset_state_change()\n",
    "    print('-----------------------')\n",
    "    rl = b.csl['one']\n",
    "    print(css_type, attr, value)\n",
    "    rl.css = css_type\n",
    "    setattr(rl.css_, attr, value)\n",
    "    print('A', rl.A)\n",
    "    print('state_changes', rl.state_change_counter)"
   ]
  },
  {
   "cell_type": "code",
   "execution_count": 12,
   "metadata": {},
   "outputs": [
    {
     "data": {
      "application/vnd.jupyter.widget-view+json": {
       "model_id": "a15e4751e8b444439a223d0cfb19759f",
       "version_major": 2,
       "version_minor": 0
      },
      "text/plain": [
       "VBox(children=(HBox(children=(VBox(children=(Tree(layout=Layout(align_items='stretch', border='solid 1px black…"
      ]
     },
     "metadata": {},
     "output_type": "display_data"
    }
   ],
   "source": [
    "b.interact()"
   ]
  },
  {
   "cell_type": "code",
   "execution_count": null,
   "metadata": {},
   "outputs": [],
   "source": []
  }
 ],
 "metadata": {
  "kernelspec": {
   "display_name": "Python 3 (ipykernel)",
   "language": "python",
   "name": "python3"
  },
  "language_info": {
   "codemirror_mode": {
    "name": "ipython",
    "version": 3
   },
   "file_extension": ".py",
   "mimetype": "text/x-python",
   "name": "python",
   "nbconvert_exporter": "python",
   "pygments_lexer": "ipython3",
   "version": "3.10.4"
  }
 },
 "nbformat": 4,
 "nbformat_minor": 4
}
