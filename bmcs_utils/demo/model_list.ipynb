{
 "cells": [
  {
   "cell_type": "markdown",
   "metadata": {
    "pycharm": {
     "name": "#%% md\n"
    }
   },
   "source": [
    "# Tree with state propagation"
   ]
  },
  {
   "cell_type": "code",
   "execution_count": 1,
   "metadata": {
    "collapsed": false,
    "jupyter": {
     "outputs_hidden": false
    },
    "pycharm": {
     "name": "#%%\n"
    }
   },
   "outputs": [],
   "source": [
    "%matplotlib widget\n",
    "import bmcs_utils.api as bu\n",
    "import traits.api as tr"
   ]
  },
  {
   "cell_type": "code",
   "execution_count": 2,
   "metadata": {},
   "outputs": [],
   "source": [
    "scd = True"
   ]
  },
  {
   "cell_type": "markdown",
   "metadata": {},
   "source": [
    "# Define a submodel"
   ]
  },
  {
   "cell_type": "code",
   "execution_count": 3,
   "metadata": {},
   "outputs": [],
   "source": [
    "class SubModel(bu.Model):\n",
    "    name = 'submodel'\n",
    "    \n",
    "    length = bu.Float(2, GEO=True)\n",
    "\n",
    "    ipw_view = bu.View(\n",
    "        bu.Item('length')\n",
    "    )"
   ]
  },
  {
   "cell_type": "markdown",
   "metadata": {
    "jupyter": {
     "outputs_hidden": false
    },
    "pycharm": {
     "name": "#%%\n"
    }
   },
   "source": [
    "# Test a list"
   ]
  },
  {
   "cell_type": "code",
   "execution_count": 32,
   "metadata": {},
   "outputs": [],
   "source": [
    "class CrossSectionLayout(bu.ModelDict):\n",
    "    name = 'Cross Section Layout'\n",
    "    item_type = SubModel\n",
    "    \n",
    "    sum_length = tr.Property(bu.Float, depends_on='state_changed')\n",
    "    @tr.cached_property\n",
    "    def _get_sum_length(self):\n",
    "        print('updating sum')\n",
    "        return sum( sm.length for sm in self.items.values() ) \n",
    "\n",
    "    ipw_view = bu.View(\n",
    "        bu.Item('sum_length', readonly=True)\n",
    "    )"
   ]
  },
  {
   "cell_type": "code",
   "execution_count": 36,
   "metadata": {},
   "outputs": [],
   "source": [
    "class Beam(bu.Model):\n",
    "    layout = bu.Instance(CrossSectionLayout, ())\n",
    "    tree = ['layout']"
   ]
  },
  {
   "cell_type": "code",
   "execution_count": 39,
   "metadata": {},
   "outputs": [
    {
     "ename": "TraitError",
     "evalue": "The 'layout' trait of a Beam instance must be a CrossSectionLayout or None, but a value of {'one': <__main__.SubModel object at 0x7fa12cf0c4f0>} <class 'dict'> was specified.",
     "output_type": "error",
     "traceback": [
      "\u001b[0;31m---------------------------------------------------------------------------\u001b[0m",
      "\u001b[0;31mTraitError\u001b[0m                                Traceback (most recent call last)",
      "Input \u001b[0;32mIn [39]\u001b[0m, in \u001b[0;36m<module>\u001b[0;34m\u001b[0m\n\u001b[1;32m      1\u001b[0m b \u001b[38;5;241m=\u001b[39m Beam()\n\u001b[0;32m----> 2\u001b[0m b\u001b[38;5;241m.\u001b[39mlayout \u001b[38;5;241m=\u001b[39m {\u001b[38;5;124m'\u001b[39m\u001b[38;5;124mone\u001b[39m\u001b[38;5;124m'\u001b[39m: SubModel()}\n\u001b[1;32m      3\u001b[0m b\u001b[38;5;241m.\u001b[39minteract()\n",
      "File \u001b[0;32m~/miniconda3/envs/bmcs_env/lib/python3.9/site-packages/traits/base_trait_handler.py:74\u001b[0m, in \u001b[0;36mBaseTraitHandler.error\u001b[0;34m(self, object, name, value)\u001b[0m\n\u001b[1;32m     57\u001b[0m \u001b[38;5;28;01mdef\u001b[39;00m \u001b[38;5;21merror\u001b[39m(\u001b[38;5;28mself\u001b[39m, \u001b[38;5;28mobject\u001b[39m, name, value):\n\u001b[1;32m     58\u001b[0m     \u001b[38;5;124;03m\"\"\"Raises a TraitError exception.\u001b[39;00m\n\u001b[1;32m     59\u001b[0m \n\u001b[1;32m     60\u001b[0m \u001b[38;5;124;03m    This method is called by the validate() method when an assigned value\u001b[39;00m\n\u001b[0;32m   (...)\u001b[0m\n\u001b[1;32m     72\u001b[0m \u001b[38;5;124;03m        The proposed new value for the attribute.\u001b[39;00m\n\u001b[1;32m     73\u001b[0m \u001b[38;5;124;03m    \"\"\"\u001b[39;00m\n\u001b[0;32m---> 74\u001b[0m     \u001b[38;5;28;01mraise\u001b[39;00m TraitError(\n\u001b[1;32m     75\u001b[0m         \u001b[38;5;28mobject\u001b[39m, name, \u001b[38;5;28mself\u001b[39m\u001b[38;5;241m.\u001b[39mfull_info(\u001b[38;5;28mobject\u001b[39m, name, value), value\n\u001b[1;32m     76\u001b[0m     )\n",
      "\u001b[0;31mTraitError\u001b[0m: The 'layout' trait of a Beam instance must be a CrossSectionLayout or None, but a value of {'one': <__main__.SubModel object at 0x7fa12cf0c4f0>} <class 'dict'> was specified."
     ]
    }
   ],
   "source": [
    "b = Beam()\n",
    "b.layout = {'one': SubModel()}\n",
    "b.interact()"
   ]
  },
  {
   "cell_type": "code",
   "execution_count": 18,
   "metadata": {},
   "outputs": [
    {
     "name": "stdout",
     "output_type": "stream",
     "text": [
      "updating sum\n"
     ]
    },
    {
     "data": {
      "text/plain": [
       "0"
      ]
     },
     "execution_count": 18,
     "metadata": {},
     "output_type": "execute_result"
    }
   ],
   "source": [
    "csl = CrossSectionLayout(state_change_debug=scd)\n",
    "csl.sum_length"
   ]
  },
  {
   "cell_type": "code",
   "execution_count": 19,
   "metadata": {},
   "outputs": [
    {
     "name": "stdout",
     "output_type": "stream",
     "text": [
      "graph_changed <__main__.CrossSectionLayout object at 0x7fa1365c7d10> Notification from child item\n",
      "graph_changed <__main__.CrossSectionLayout object at 0x7fa1365c7d10> Notification from child item\n"
     ]
    }
   ],
   "source": [
    "one1 = SubModel(state_change_debug=scd)\n",
    "csl['one'] = one1\n",
    "csl['two'] = SubModel(state_change_debug=scd)"
   ]
  },
  {
   "cell_type": "code",
   "execution_count": 20,
   "metadata": {},
   "outputs": [
    {
     "data": {
      "text/plain": [
       "'one'"
      ]
     },
     "execution_count": 20,
     "metadata": {},
     "output_type": "execute_result"
    }
   ],
   "source": [
    "csl['one'].name"
   ]
  },
  {
   "cell_type": "code",
   "execution_count": 21,
   "metadata": {},
   "outputs": [
    {
     "name": "stdout",
     "output_type": "stream",
     "text": [
      "value_changed <__main__.SubModel object at 0x7fa12dbbd4f0> TraitChangeEvent(object=<__main__.SubModel object at 0x7fa12dbbd4f0>, name='length', old=2, new=4.0)\n",
      "value_changed <__main__.CrossSectionLayout object at 0x7fa1365c7d10> Notification from child <__main__.SubModel object at 0x7fa12dbbd4f0>\n"
     ]
    }
   ],
   "source": [
    "csl['one'].length = 4"
   ]
  },
  {
   "cell_type": "code",
   "execution_count": 22,
   "metadata": {},
   "outputs": [
    {
     "name": "stdout",
     "output_type": "stream",
     "text": [
      "updating sum\n"
     ]
    },
    {
     "data": {
      "text/plain": [
       "6.0"
      ]
     },
     "execution_count": 22,
     "metadata": {},
     "output_type": "execute_result"
    }
   ],
   "source": [
    "csl.sum_length"
   ]
  },
  {
   "cell_type": "code",
   "execution_count": 23,
   "metadata": {},
   "outputs": [
    {
     "data": {
      "text/plain": [
       "['one', 'two']"
      ]
     },
     "execution_count": 23,
     "metadata": {},
     "output_type": "execute_result"
    }
   ],
   "source": [
    "csl.tree"
   ]
  },
  {
   "cell_type": "code",
   "execution_count": 24,
   "metadata": {},
   "outputs": [
    {
     "name": "stdout",
     "output_type": "stream",
     "text": [
      "rebuild tree\n",
      "ModelDict: get_tree_submodels {'one': <__main__.SubModel object at 0x7fa12dbbd4f0>, 'two': <__main__.SubModel object at 0x7fa12dbd6ef0>}\n"
     ]
    },
    {
     "data": {
      "application/vnd.jupyter.widget-view+json": {
       "model_id": "5b83d647df4948ab9f7e6497ebeec9dd",
       "version_major": 2,
       "version_minor": 0
      },
      "text/plain": [
       "VBox(children=(HBox(children=(VBox(children=(Tree(layout=Layout(align_items='stretch', border='solid 1px black…"
      ]
     },
     "metadata": {},
     "output_type": "display_data"
    }
   ],
   "source": [
    "csl.interact()"
   ]
  },
  {
   "cell_type": "code",
   "execution_count": 25,
   "metadata": {},
   "outputs": [
    {
     "name": "stdout",
     "output_type": "stream",
     "text": [
      "graph_changed <__main__.CrossSectionLayout object at 0x7fa1365c7d10> Notification from child item\n",
      "ModelDict: get_tree_submodels {'one': <__main__.SubModel object at 0x7fa12dbe8130>, 'two': <__main__.SubModel object at 0x7fa12dbd6ef0>}\n",
      "updating sum\n"
     ]
    }
   ],
   "source": [
    "csl['one'] = SubModel()"
   ]
  },
  {
   "cell_type": "code",
   "execution_count": 26,
   "metadata": {},
   "outputs": [
    {
     "name": "stdout",
     "output_type": "stream",
     "text": [
      "graph_changed <__main__.CrossSectionLayout object at 0x7fa1365c7d10> Notification from child item\n",
      "ModelDict: get_tree_submodels {'two': <__main__.SubModel object at 0x7fa12dbd6ef0>}\n",
      "updating sum\n"
     ]
    }
   ],
   "source": [
    "del csl['one']"
   ]
  },
  {
   "cell_type": "code",
   "execution_count": 27,
   "metadata": {},
   "outputs": [
    {
     "data": {
      "text/plain": [
       "{<__main__.CrossSectionLayout at 0x7fa1365c7d10>}"
      ]
     },
     "execution_count": 27,
     "metadata": {},
     "output_type": "execute_result"
    }
   ],
   "source": [
    "csl['two'].parents"
   ]
  },
  {
   "cell_type": "code",
   "execution_count": 30,
   "metadata": {},
   "outputs": [],
   "source": [
    "del one1"
   ]
  },
  {
   "cell_type": "code",
   "execution_count": null,
   "metadata": {},
   "outputs": [],
   "source": []
  }
 ],
 "metadata": {
  "kernelspec": {
   "display_name": "bmcs_env",
   "language": "python",
   "name": "bmcs_env"
  },
  "language_info": {
   "codemirror_mode": {
    "name": "ipython",
    "version": 3
   },
   "file_extension": ".py",
   "mimetype": "text/x-python",
   "name": "python",
   "nbconvert_exporter": "python",
   "pygments_lexer": "ipython3",
   "version": "3.9.0"
  }
 },
 "nbformat": 4,
 "nbformat_minor": 4
}
