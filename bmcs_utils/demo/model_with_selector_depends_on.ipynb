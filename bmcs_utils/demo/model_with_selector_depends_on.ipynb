{
 "cells": [
  {
   "cell_type": "code",
   "execution_count": 1,
   "metadata": {
    "pycharm": {
     "name": "#%%\n"
    }
   },
   "outputs": [],
   "source": [
    "%matplotlib widget"
   ]
  },
  {
   "cell_type": "code",
   "execution_count": 2,
   "metadata": {
    "pycharm": {
     "name": "#%%\n"
    }
   },
   "outputs": [],
   "source": [
    "import bmcs_utils.api as bu\n",
    "import traits.api as tr"
   ]
  },
  {
   "cell_type": "code",
   "execution_count": 3,
   "metadata": {
    "collapsed": false,
    "jupyter": {
     "outputs_hidden": false
    },
    "pycharm": {
     "name": "#%%\n"
    }
   },
   "outputs": [],
   "source": [
    "class A(bu.Model):\n",
    "    value = bu.Int(4, MAT=True)\n",
    "\n",
    "class B(bu.Model):\n",
    "    value = bu.Int(6, CS=True)"
   ]
  },
  {
   "cell_type": "code",
   "execution_count": 4,
   "metadata": {
    "collapsed": false,
    "jupyter": {
     "outputs_hidden": false
    },
    "pycharm": {
     "name": "#%%\n"
    }
   },
   "outputs": [],
   "source": [
    "class X(bu.Model):\n",
    "    name = 'X'\n",
    "    a = bu.Instance(A)\n",
    "    a_or_b = bu.Selector(options=[('a', A), ('b', B)], MAT=True)\n",
    "    depends_on = ['a_or_b', 'a']\n",
    "    c = tr.Property(depends_on='state_changed')\n",
    "    @tr.cached_property\n",
    "    def _get_c(self):\n",
    "        return self.a_or_b_.value * 10"
   ]
  },
  {
   "cell_type": "code",
   "execution_count": 6,
   "metadata": {
    "collapsed": false,
    "jupyter": {
     "outputs_hidden": false
    },
    "pycharm": {
     "name": "#%%\n"
    }
   },
   "outputs": [
    {
     "name": "stdout",
     "output_type": "stream",
     "text": [
      "trait <traits.ctrait.CTrait object at 0x7f3b95e1a860>\n",
      "<__main__.X object at 0x7f3b95d63f40> a_or_b <bmcs_utils.trait_types.selector_type.Selector object at 0x7f3b969260a0>\n"
     ]
    },
    {
     "ename": "AttributeError",
     "evalue": "'str' object has no attribute 'parents'",
     "output_type": "error",
     "traceback": [
      "\u001B[0;31m---------------------------------------------------------------------------\u001B[0m",
      "\u001B[0;31mAttributeError\u001B[0m                            Traceback (most recent call last)",
      "Input \u001B[0;32mIn [6]\u001B[0m, in \u001B[0;36m<module>\u001B[0;34m\u001B[0m\n\u001B[0;32m----> 1\u001B[0m z \u001B[38;5;241m=\u001B[39m \u001B[43mX\u001B[49m\u001B[43m(\u001B[49m\u001B[43ma_or_b\u001B[49m\u001B[38;5;241;43m=\u001B[39;49m\u001B[38;5;124;43m'\u001B[39;49m\u001B[38;5;124;43ma\u001B[39;49m\u001B[38;5;124;43m'\u001B[39;49m\u001B[43m)\u001B[49m\n",
      "File \u001B[0;32m~/PycharmProjects/bmcs_utils/bmcs_utils/model.py:28\u001B[0m, in \u001B[0;36mModel.__init__\u001B[0;34m(self, *args, **kw)\u001B[0m\n\u001B[1;32m     27\u001B[0m \u001B[38;5;28;01mdef\u001B[39;00m \u001B[38;5;21m__init__\u001B[39m(\u001B[38;5;28mself\u001B[39m,\u001B[38;5;241m*\u001B[39margs,\u001B[38;5;241m*\u001B[39m\u001B[38;5;241m*\u001B[39mkw):\n\u001B[0;32m---> 28\u001B[0m     \u001B[38;5;28;43msuper\u001B[39;49m\u001B[43m(\u001B[49m\u001B[43m)\u001B[49m\u001B[38;5;241;43m.\u001B[39;49m\u001B[38;5;21;43m__init__\u001B[39;49m\u001B[43m(\u001B[49m\u001B[38;5;241;43m*\u001B[39;49m\u001B[43margs\u001B[49m\u001B[43m,\u001B[49m\u001B[43m \u001B[49m\u001B[38;5;241;43m*\u001B[39;49m\u001B[38;5;241;43m*\u001B[39;49m\u001B[43mkw\u001B[49m\u001B[43m)\u001B[49m\n",
      "File \u001B[0;32m~/PycharmProjects/bmcs_utils/bmcs_utils/model_notify_mixin.py:33\u001B[0m, in \u001B[0;36mModelNotifyMixin.traits_init\u001B[0;34m(self)\u001B[0m\n\u001B[1;32m     31\u001B[0m trait_ \u001B[38;5;241m=\u001B[39m \u001B[38;5;28mgetattr\u001B[39m(\u001B[38;5;28mself\u001B[39m, name_, \u001B[38;5;28;01mNone\u001B[39;00m)\n\u001B[1;32m     32\u001B[0m \u001B[38;5;28;01mif\u001B[39;00m trait_:\n\u001B[0;32m---> 33\u001B[0m     \u001B[43mtrait_\u001B[49m\u001B[38;5;241;43m.\u001B[39;49m\u001B[43mparents\u001B[49m\u001B[38;5;241m.\u001B[39madd(\u001B[38;5;28mself\u001B[39m)\n",
      "\u001B[0;31mAttributeError\u001B[0m: 'str' object has no attribute 'parents'"
     ]
    }
   ],
   "source": [
    "z = X(a_or_b='a')"
   ]
  },
  {
   "cell_type": "code",
   "execution_count": 6,
   "metadata": {
    "collapsed": false,
    "jupyter": {
     "outputs_hidden": false
    },
    "pycharm": {
     "name": "#%%\n"
    }
   },
   "outputs": [],
   "source": [
    "z.a"
   ]
  },
  {
   "cell_type": "code",
   "execution_count": 7,
   "metadata": {
    "collapsed": false,
    "jupyter": {
     "outputs_hidden": false
    },
    "pycharm": {
     "name": "#%%\n"
    }
   },
   "outputs": [
    {
     "name": "stdout",
     "output_type": "stream",
     "text": [
      "<__main__.X object at 0x7f4c62867860> a_or_b <bmcs_utils.trait_types.either_type2.EitherType2 object at 0x7f4c6273d1f0>\n",
      "<__main__.X object at 0x7f4c62867860> a <bmcs_utils.trait_types.instance_type.Instance object at 0x7f4c6273d220>\n"
     ]
    },
    {
     "data": {
      "text/plain": [
       "('a', 4, 40, {<__main__.X at 0x7f4c62867860>})"
      ]
     },
     "execution_count": 7,
     "metadata": {},
     "output_type": "execute_result"
    }
   ],
   "source": [
    "x = X(a_or_b='a', a=A())\n",
    "x.a_or_b, x.a_or_b_.value, x.c, x.a_or_b_.parents"
   ]
  },
  {
   "cell_type": "code",
   "execution_count": 8,
   "metadata": {
    "pycharm": {
     "name": "#%%\n"
    }
   },
   "outputs": [
    {
     "data": {
      "text/plain": [
       "('a', 8, 80, {<__main__.X at 0x7f4c62867860>})"
      ]
     },
     "execution_count": 8,
     "metadata": {},
     "output_type": "execute_result"
    }
   ],
   "source": [
    "x.a_or_b_.value = 8\n",
    "x.a_or_b, x.a_or_b_.value, x.c, x.a_or_b_.parents"
   ]
  },
  {
   "cell_type": "code",
   "execution_count": 9,
   "metadata": {
    "collapsed": false,
    "jupyter": {
     "outputs_hidden": false
    },
    "pycharm": {
     "name": "#%%\n"
    }
   },
   "outputs": [
    {
     "data": {
      "text/plain": [
       "('b', 6, 60, {<__main__.X at 0x7f4c62867860>})"
      ]
     },
     "execution_count": 9,
     "metadata": {},
     "output_type": "execute_result"
    }
   ],
   "source": [
    "x.a_or_b = 'b'\n",
    "x.a_or_b, x.a_or_b_.value, x.c, x.a_or_b_.parents"
   ]
  },
  {
   "cell_type": "code",
   "execution_count": 10,
   "metadata": {
    "collapsed": false,
    "jupyter": {
     "outputs_hidden": false
    },
    "pycharm": {
     "name": "#%%\n"
    }
   },
   "outputs": [
    {
     "data": {
      "text/plain": [
       "('a', 4, 40, {<__main__.X at 0x7f4c62867860>})"
      ]
     },
     "execution_count": 10,
     "metadata": {},
     "output_type": "execute_result"
    }
   ],
   "source": [
    "x.a_or_b = 'a'\n",
    "x.a_or_b, x.a_or_b_.value, x.c, x.a_or_b_.parents"
   ]
  },
  {
   "cell_type": "markdown",
   "metadata": {
    "pycharm": {
     "name": "#%% md\n"
    }
   },
   "source": [
    "# Test the state propagation through a loop"
   ]
  },
  {
   "cell_type": "code",
   "execution_count": 11,
   "metadata": {
    "collapsed": false,
    "jupyter": {
     "outputs_hidden": false
    },
    "pycharm": {
     "name": "#%%\n"
    }
   },
   "outputs": [
    {
     "name": "stdout",
     "output_type": "stream",
     "text": [
      "graph_changed <__main__.X object at 0x7f4c62867860> Notification from child <__main__.A object at 0x7f4c629c8ef0>\n",
      "value_changed <__main__.A object at 0x7f4c629c8ef0> TraitChangeEvent(object=<__main__.A object at 0x7f4c629c8ef0>, name='value', old=4, new=1)\n",
      "value_changed <__main__.X object at 0x7f4c62867860> Notification from child <__main__.A object at 0x7f4c629c8ef0>\n",
      "graph_changed <__main__.X object at 0x7f4c62867860> Notification from child <__main__.A object at 0x7f4c637ff0e0>\n",
      "value_changed <__main__.A object at 0x7f4c637ff0e0> TraitChangeEvent(object=<__main__.A object at 0x7f4c637ff0e0>, name='value', old=4, new=3)\n",
      "value_changed <__main__.X object at 0x7f4c62867860> Notification from child <__main__.A object at 0x7f4c637ff0e0>\n",
      "value_changed <__main__.X object at 0x7f4c62867860> TraitChangeEvent(object=<__main__.X object at 0x7f4c62867860>, name='a_or_b', old='a', new='b')\n",
      "graph_changed <__main__.X object at 0x7f4c62867860> Notification from child <__main__.B object at 0x7f4c6368c270>\n",
      "value_changed <__main__.B object at 0x7f4c6368c270> TraitChangeEvent(object=<__main__.B object at 0x7f4c6368c270>, name='value', old=6, new=5)\n",
      "value_changed <__main__.X object at 0x7f4c62867860> Notification from child <__main__.B object at 0x7f4c6368c270>\n",
      "graph_changed <__main__.X object at 0x7f4c62867860> Notification from child <__main__.B object at 0x7f4c629959f0>\n",
      "value_changed <__main__.B object at 0x7f4c629959f0> TraitChangeEvent(object=<__main__.B object at 0x7f4c629959f0>, name='value', old=6, new=7)\n",
      "value_changed <__main__.X object at 0x7f4c62867860> Notification from child <__main__.B object at 0x7f4c629959f0>\n"
     ]
    }
   ],
   "source": [
    "change_list = [('a', 1),\n",
    "               ('a', 3),\n",
    "               ('b', 5),\n",
    "               ('b', 7)]\n",
    "c_list = []\n",
    "x.state_change_debug = True\n",
    "for option, value in change_list:\n",
    "    x.a_or_b = option\n",
    "    x.a_or_b_.value = value\n",
    "    c_list.append(x.c)"
   ]
  },
  {
   "cell_type": "code",
   "execution_count": 12,
   "metadata": {
    "collapsed": false,
    "jupyter": {
     "outputs_hidden": false
    },
    "pycharm": {
     "name": "#%%\n"
    }
   },
   "outputs": [
    {
     "data": {
      "text/plain": [
       "[10, 30, 50, 70]"
      ]
     },
     "execution_count": 12,
     "metadata": {},
     "output_type": "execute_result"
    }
   ],
   "source": [
    "c_list"
   ]
  },
  {
   "cell_type": "code",
   "execution_count": 13,
   "metadata": {
    "collapsed": false,
    "jupyter": {
     "outputs_hidden": false
    },
    "pycharm": {
     "name": "#%%\n"
    }
   },
   "outputs": [
    {
     "data": {
      "text/plain": [
       "{<__main__.X at 0x7f4c62867860>}"
      ]
     },
     "execution_count": 13,
     "metadata": {},
     "output_type": "execute_result"
    }
   ],
   "source": [
    "x.a.parents"
   ]
  },
  {
   "cell_type": "code",
   "execution_count": 14,
   "metadata": {
    "collapsed": false,
    "jupyter": {
     "outputs_hidden": false
    },
    "pycharm": {
     "name": "#%%\n"
    }
   },
   "outputs": [
    {
     "name": "stdout",
     "output_type": "stream",
     "text": [
      "value_changed <__main__.A object at 0x7f4c62f274f0> TraitChangeEvent(object=<__main__.A object at 0x7f4c62f274f0>, name='value', old=4, new=3)\n",
      "value_changed <__main__.X object at 0x7f4c62867860> Notification from child <__main__.A object at 0x7f4c62f274f0>\n"
     ]
    }
   ],
   "source": [
    "x.a.value = 3"
   ]
  },
  {
   "cell_type": "code",
   "execution_count": 15,
   "metadata": {
    "collapsed": false,
    "jupyter": {
     "outputs_hidden": false
    },
    "pycharm": {
     "name": "#%%\n"
    }
   },
   "outputs": [
    {
     "name": "stdout",
     "output_type": "stream",
     "text": [
      "<__main__.X object at 0x7f4c626fb770> a_or_b <bmcs_utils.trait_types.either_type2.EitherType2 object at 0x7f4c6273d1f0>\n",
      "<__main__.X object at 0x7f4c626fb770> a <bmcs_utils.trait_types.instance_type.Instance object at 0x7f4c6273d220>\n"
     ]
    }
   ],
   "source": [
    "y = X(a=A())"
   ]
  },
  {
   "cell_type": "code",
   "execution_count": 16,
   "metadata": {
    "collapsed": false,
    "jupyter": {
     "outputs_hidden": false
    },
    "pycharm": {
     "name": "#%%\n"
    }
   },
   "outputs": [
    {
     "data": {
      "text/plain": [
       "{<__main__.X at 0x7f4c626fb770>}"
      ]
     },
     "execution_count": 16,
     "metadata": {},
     "output_type": "execute_result"
    }
   ],
   "source": [
    "y.a.parents"
   ]
  },
  {
   "cell_type": "code",
   "execution_count": null,
   "metadata": {
    "collapsed": false,
    "jupyter": {
     "outputs_hidden": false
    },
    "pycharm": {
     "name": "#%%\n"
    }
   },
   "outputs": [],
   "source": []
  }
 ],
 "metadata": {
  "kernelspec": {
   "display_name": "Python 3 (ipykernel)",
   "language": "python",
   "name": "python3"
  },
  "language_info": {
   "codemirror_mode": {
    "name": "ipython",
    "version": 3
   },
   "file_extension": ".py",
   "mimetype": "text/x-python",
   "name": "python",
   "nbconvert_exporter": "python",
   "pygments_lexer": "ipython3",
   "version": "3.9.0"
  },
  "toc": {
   "base_numbering": 1,
   "nav_menu": {},
   "number_sections": true,
   "sideBar": true,
   "skip_h1_title": false,
   "title_cell": "Table of Contents",
   "title_sidebar": "Contents",
   "toc_cell": false,
   "toc_position": {},
   "toc_section_display": true,
   "toc_window_display": false
  }
 },
 "nbformat": 4,
 "nbformat_minor": 4
}