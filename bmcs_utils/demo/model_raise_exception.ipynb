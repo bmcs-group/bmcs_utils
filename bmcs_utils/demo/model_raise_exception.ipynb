{
 "cells": [
  {
   "cell_type": "markdown",
   "id": "infectious-rogers",
   "metadata": {},
   "source": [
    "# Example code snippet showing working switch between plot panes"
   ]
  },
  {
   "cell_type": "markdown",
   "id": "utility-firewall",
   "metadata": {},
   "source": [
    "First show the minimalistic implementation of the `AppWindow` class."
   ]
  },
  {
   "cell_type": "code",
   "execution_count": 1,
   "id": "solved-happiness",
   "metadata": {
    "pycharm": {
     "name": "#%%\n"
    }
   },
   "outputs": [],
   "source": [
    "%matplotlib widget\n",
    "import bmcs_utils.api as bu"
   ]
  },
  {
   "cell_type": "code",
   "execution_count": 3,
   "id": "orange-zimbabwe",
   "metadata": {},
   "outputs": [],
   "source": [
    "class TopLevelModel(bu.Model):\n",
    "    name = 'example of a top-level model'\n",
    "    a = bu.Float(8)\n",
    "    \n",
    "    ipw_view = bu.View(\n",
    "        bu.Item('a')\n",
    "    )\n",
    "    \n",
    "    def update_plot(self,ax):\n",
    "        print('plotting')"
   ]
  },
  {
   "cell_type": "markdown",
   "id": "baking-generator",
   "metadata": {},
   "source": [
    "Instantiate the model and render it for interaction. Subcomponents\n",
    "have different plot adapters which are immediately rendered to the plot pane.\n",
    "The `AppWindow` can be launched from any model by issuing the `interact` or `app` method."
   ]
  },
  {
   "cell_type": "code",
   "execution_count": 4,
   "id": "furnished-conservation",
   "metadata": {},
   "outputs": [
    {
     "name": "stdout",
     "output_type": "stream",
     "text": [
      "plotting\n"
     ]
    },
    {
     "data": {
      "application/vnd.jupyter.widget-view+json": {
       "model_id": "94ca700e398d41e79a021552c20a27f9",
       "version_major": 2,
       "version_minor": 0
      },
      "text/plain": [
       "VBox(children=(HBox(children=(VBox(children=(Tree(layout=Layout(align_items='stretch', border='solid 1px black…"
      ]
     },
     "metadata": {},
     "output_type": "display_data"
    }
   ],
   "source": [
    "TopLevelModel().interact()"
   ]
  },
  {
   "cell_type": "markdown",
   "id": "authentic-spanking",
   "metadata": {},
   "source": [
    "The subcomponent used in the previous example can be used as a top level component as well."
   ]
  }
 ],
 "metadata": {
  "kernelspec": {
   "display_name": "bmcs_env",
   "language": "python",
   "name": "bmcs_env"
  },
  "language_info": {
   "codemirror_mode": {
    "name": "ipython",
    "version": 3
   },
   "file_extension": ".py",
   "mimetype": "text/x-python",
   "name": "python",
   "nbconvert_exporter": "python",
   "pygments_lexer": "ipython3",
   "version": "3.9.0"
  },
  "toc": {
   "base_numbering": 1,
   "nav_menu": {},
   "number_sections": true,
   "sideBar": true,
   "skip_h1_title": true,
   "title_cell": "Table of Contents",
   "title_sidebar": "Contents",
   "toc_cell": false,
   "toc_position": {},
   "toc_section_display": true,
   "toc_window_display": false
  }
 },
 "nbformat": 4,
 "nbformat_minor": 5
}
