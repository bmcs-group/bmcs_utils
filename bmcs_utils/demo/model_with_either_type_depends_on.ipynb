{
 "cells": [
  {
   "cell_type": "code",
   "execution_count": 1,
   "metadata": {
    "pycharm": {
     "name": "#%%\n"
    }
   },
   "outputs": [],
   "source": [
    "%matplotlib widget"
   ]
  },
  {
   "cell_type": "code",
   "execution_count": 2,
   "metadata": {
    "pycharm": {
     "name": "#%%\n"
    }
   },
   "outputs": [],
   "source": [
    "import bmcs_utils.api as bu\n",
    "import traits.api as tr"
   ]
  },
  {
   "cell_type": "code",
   "execution_count": 3,
   "outputs": [],
   "source": [
    "class A(bu.Model):\n",
    "    value = bu.Int(4, MAT=True)\n",
    "\n",
    "class B(bu.Model):\n",
    "    value = bu.Int(6, CS=True)"
   ],
   "metadata": {
    "collapsed": false,
    "pycharm": {
     "name": "#%%\n"
    }
   }
  },
  {
   "cell_type": "code",
   "execution_count": 4,
   "metadata": {
    "collapsed": false,
    "jupyter": {
     "outputs_hidden": false
    },
    "pycharm": {
     "name": "#%%\n"
    }
   },
   "outputs": [],
   "source": [
    "class X(bu.Model):\n",
    "    name = 'X'\n",
    "    a = bu.Instance(A)\n",
    "    a_or_b = bu.EitherType(options=[('a', A), ('b', B)], MAT=True)\n",
    "    depends_on = ['a_or_b', 'a']\n",
    "    c = tr.Property(depends_on='state_changed')\n",
    "    @tr.cached_property\n",
    "    def _get_c(self):\n",
    "        return self.a_or_b_.value * 10"
   ]
  },
  {
   "cell_type": "code",
   "execution_count": 5,
   "outputs": [
    {
     "ename": "AttributeError",
     "evalue": "'NoneType' object has no attribute 'parents'",
     "output_type": "error",
     "traceback": [
      "\u001B[0;31m---------------------------------------------------------------------------\u001B[0m",
      "\u001B[0;31mAttributeError\u001B[0m                            Traceback (most recent call last)",
      "Input \u001B[0;32mIn [5]\u001B[0m, in \u001B[0;36m<cell line: 1>\u001B[0;34m()\u001B[0m\n\u001B[0;32m----> 1\u001B[0m z \u001B[38;5;241m=\u001B[39m \u001B[43mX\u001B[49m\u001B[43m(\u001B[49m\u001B[43m)\u001B[49m\n",
      "File \u001B[0;32m~/PycharmProjects/bmcs_utils/bmcs_utils/model.py:28\u001B[0m, in \u001B[0;36mModel.__init__\u001B[0;34m(self, *args, **kw)\u001B[0m\n\u001B[1;32m     27\u001B[0m \u001B[38;5;28;01mdef\u001B[39;00m \u001B[38;5;21m__init__\u001B[39m(\u001B[38;5;28mself\u001B[39m,\u001B[38;5;241m*\u001B[39margs,\u001B[38;5;241m*\u001B[39m\u001B[38;5;241m*\u001B[39mkw):\n\u001B[0;32m---> 28\u001B[0m     \u001B[38;5;28;43msuper\u001B[39;49m\u001B[43m(\u001B[49m\u001B[43m)\u001B[49m\u001B[38;5;241;43m.\u001B[39;49m\u001B[38;5;21;43m__init__\u001B[39;49m\u001B[43m(\u001B[49m\u001B[38;5;241;43m*\u001B[39;49m\u001B[43margs\u001B[49m\u001B[43m,\u001B[49m\u001B[43m \u001B[49m\u001B[38;5;241;43m*\u001B[39;49m\u001B[38;5;241;43m*\u001B[39;49m\u001B[43mkw\u001B[49m\u001B[43m)\u001B[49m\n",
      "File \u001B[0;32m~/PycharmProjects/bmcs_utils/bmcs_utils/model_notify_mixin.py:27\u001B[0m, in \u001B[0;36mModelNotifyMixin.traits_init\u001B[0;34m(self)\u001B[0m\n\u001B[1;32m     25\u001B[0m         trait_type\u001B[38;5;241m.\u001B[39mpost_setattr(\u001B[38;5;28mself\u001B[39m, name, value)\n\u001B[1;32m     26\u001B[0m trait_ \u001B[38;5;241m=\u001B[39m \u001B[38;5;28mgetattr\u001B[39m(\u001B[38;5;28mself\u001B[39m, name_, \u001B[38;5;28;01mNone\u001B[39;00m)\n\u001B[0;32m---> 27\u001B[0m \u001B[43mtrait_\u001B[49m\u001B[38;5;241;43m.\u001B[39;49m\u001B[43mparents\u001B[49m\u001B[38;5;241m.\u001B[39madd(\u001B[38;5;28mself\u001B[39m)\n",
      "\u001B[0;31mAttributeError\u001B[0m: 'NoneType' object has no attribute 'parents'"
     ]
    }
   ],
   "source": [
    "z = X()"
   ],
   "metadata": {
    "collapsed": false,
    "pycharm": {
     "name": "#%%\n"
    }
   }
  },
  {
   "cell_type": "code",
   "execution_count": 11,
   "outputs": [
    {
     "data": {
      "text/plain": "<__main__.A at 0x7f4405354db0>"
     },
     "execution_count": 11,
     "metadata": {},
     "output_type": "execute_result"
    }
   ],
   "source": [
    "z.a"
   ],
   "metadata": {
    "collapsed": false,
    "pycharm": {
     "name": "#%%\n"
    }
   }
  },
  {
   "cell_type": "code",
   "execution_count": 5,
   "metadata": {
    "collapsed": false,
    "jupyter": {
     "outputs_hidden": false
    },
    "pycharm": {
     "name": "#%%\n"
    }
   },
   "outputs": [
    {
     "name": "stdout",
     "output_type": "stream",
     "text": [
      "setting <__main__.X object at 0x7f7b468ba5c0> a <__main__.A object at 0x7f7b476f4a90>\n",
      "getting <__main__.X object at 0x7f7b468ba5c0> a <__main__.A object at 0x7f7b476f4a90>\n"
     ]
    },
    {
     "data": {
      "text/plain": "('a', 4, 40, {<__main__.X at 0x7f7b468ba5c0>})"
     },
     "execution_count": 5,
     "metadata": {},
     "output_type": "execute_result"
    }
   ],
   "source": [
    "x = X(a_or_b='a', a=A())\n",
    "x.a_or_b, x.a_or_b_.value, x.c, x.a_or_b_.parents"
   ]
  },
  {
   "cell_type": "code",
   "execution_count": 6,
   "metadata": {
    "pycharm": {
     "name": "#%%\n"
    }
   },
   "outputs": [
    {
     "data": {
      "text/plain": "('a', 8, 80, {<__main__.X at 0x7f7b468ba5c0>})"
     },
     "execution_count": 6,
     "metadata": {},
     "output_type": "execute_result"
    }
   ],
   "source": [
    "x.a_or_b_.value = 8\n",
    "x.a_or_b, x.a_or_b_.value, x.c, x.a_or_b_.parents"
   ]
  },
  {
   "cell_type": "code",
   "execution_count": 7,
   "outputs": [
    {
     "data": {
      "text/plain": "('b', 6, 60, {<__main__.X at 0x7f7b468ba5c0>})"
     },
     "execution_count": 7,
     "metadata": {},
     "output_type": "execute_result"
    }
   ],
   "source": [
    "x.a_or_b = 'b'\n",
    "x.a_or_b, x.a_or_b_.value, x.c, x.a_or_b_.parents"
   ],
   "metadata": {
    "collapsed": false,
    "pycharm": {
     "name": "#%%\n"
    }
   }
  },
  {
   "cell_type": "code",
   "execution_count": 8,
   "outputs": [
    {
     "data": {
      "text/plain": "('a', 4, 40, {<__main__.X at 0x7f7b468ba5c0>})"
     },
     "execution_count": 8,
     "metadata": {},
     "output_type": "execute_result"
    }
   ],
   "source": [
    "x.a_or_b = 'a'\n",
    "x.a_or_b, x.a_or_b_.value, x.c, x.a_or_b_.parents"
   ],
   "metadata": {
    "collapsed": false,
    "pycharm": {
     "name": "#%%\n"
    }
   }
  },
  {
   "cell_type": "markdown",
   "source": [
    "# Test the state propagation through a loop"
   ],
   "metadata": {
    "collapsed": false,
    "pycharm": {
     "name": "#%% md\n"
    }
   }
  },
  {
   "cell_type": "code",
   "execution_count": 9,
   "outputs": [
    {
     "name": "stdout",
     "output_type": "stream",
     "text": [
      "graph_changed <__main__.X object at 0x7f7b468ba5c0> Notification from child <__main__.A object at 0x7f7b472c35b0>\n",
      "value_changed <__main__.A object at 0x7f7b472c35b0> TraitChangeEvent(object=<__main__.A object at 0x7f7b472c35b0>, name='value', old=4, new=1)\n",
      "value_changed <__main__.X object at 0x7f7b468ba5c0> Notification from child <__main__.A object at 0x7f7b472c35b0>\n",
      "graph_changed <__main__.X object at 0x7f7b468ba5c0> Notification from child <__main__.A object at 0x7f7b468f8040>\n",
      "value_changed <__main__.A object at 0x7f7b468f8040> TraitChangeEvent(object=<__main__.A object at 0x7f7b468f8040>, name='value', old=4, new=3)\n",
      "value_changed <__main__.X object at 0x7f7b468ba5c0> Notification from child <__main__.A object at 0x7f7b468f8040>\n",
      "value_changed <__main__.X object at 0x7f7b468ba5c0> TraitChangeEvent(object=<__main__.X object at 0x7f7b468ba5c0>, name='a_or_b', old='a', new='b')\n",
      "graph_changed <__main__.X object at 0x7f7b468ba5c0> Notification from child <__main__.B object at 0x7f7b46b568e0>\n",
      "value_changed <__main__.B object at 0x7f7b46b568e0> TraitChangeEvent(object=<__main__.B object at 0x7f7b46b568e0>, name='value', old=6, new=5)\n",
      "value_changed <__main__.X object at 0x7f7b468ba5c0> Notification from child <__main__.B object at 0x7f7b46b568e0>\n",
      "graph_changed <__main__.X object at 0x7f7b468ba5c0> Notification from child <__main__.B object at 0x7f7b4776fc40>\n",
      "value_changed <__main__.B object at 0x7f7b4776fc40> TraitChangeEvent(object=<__main__.B object at 0x7f7b4776fc40>, name='value', old=6, new=7)\n",
      "value_changed <__main__.X object at 0x7f7b468ba5c0> Notification from child <__main__.B object at 0x7f7b4776fc40>\n"
     ]
    }
   ],
   "source": [
    "change_list = [('a', 1),\n",
    "               ('a', 3),\n",
    "               ('b', 5),\n",
    "               ('b', 7)]\n",
    "c_list = []\n",
    "x.state_change_debug = True\n",
    "for option, value in change_list:\n",
    "    x.a_or_b = option\n",
    "    x.a_or_b_.value = value\n",
    "    c_list.append(x.c)"
   ],
   "metadata": {
    "collapsed": false,
    "pycharm": {
     "name": "#%%\n"
    }
   }
  },
  {
   "cell_type": "code",
   "execution_count": 10,
   "outputs": [
    {
     "data": {
      "text/plain": "[10, 30, 50, 70]"
     },
     "execution_count": 10,
     "metadata": {},
     "output_type": "execute_result"
    }
   ],
   "source": [
    "c_list"
   ],
   "metadata": {
    "collapsed": false,
    "pycharm": {
     "name": "#%%\n"
    }
   }
  },
  {
   "cell_type": "code",
   "execution_count": 11,
   "outputs": [
    {
     "name": "stdout",
     "output_type": "stream",
     "text": [
      "getting <__main__.X object at 0x7f7b468ba5c0> a <__main__.A object at 0x7f7b476f4a90>\n"
     ]
    },
    {
     "data": {
      "text/plain": "{<__main__.X at 0x7f7b468ba5c0>}"
     },
     "execution_count": 11,
     "metadata": {},
     "output_type": "execute_result"
    }
   ],
   "source": [
    "x.a.parents"
   ],
   "metadata": {
    "collapsed": false,
    "pycharm": {
     "name": "#%%\n"
    }
   }
  },
  {
   "cell_type": "code",
   "execution_count": 12,
   "outputs": [
    {
     "name": "stdout",
     "output_type": "stream",
     "text": [
      "getting <__main__.X object at 0x7f7b468ba5c0> a <__main__.A object at 0x7f7b476f4a90>\n",
      "value_changed <__main__.A object at 0x7f7b476f4a90> TraitChangeEvent(object=<__main__.A object at 0x7f7b476f4a90>, name='value', old=4, new=3)\n",
      "value_changed <__main__.X object at 0x7f7b468ba5c0> Notification from child <__main__.A object at 0x7f7b476f4a90>\n"
     ]
    }
   ],
   "source": [
    "x.a.value = 3"
   ],
   "metadata": {
    "collapsed": false,
    "pycharm": {
     "name": "#%%\n"
    }
   }
  },
  {
   "cell_type": "code",
   "execution_count": 13,
   "outputs": [
    {
     "name": "stdout",
     "output_type": "stream",
     "text": [
      "getting <__main__.X object at 0x7f7b468fba10> a <__main__.A object at 0x7f7b4691d0d0>\n"
     ]
    }
   ],
   "source": [
    "y = X()"
   ],
   "metadata": {
    "collapsed": false,
    "pycharm": {
     "name": "#%%\n"
    }
   }
  },
  {
   "cell_type": "code",
   "execution_count": 14,
   "outputs": [
    {
     "name": "stdout",
     "output_type": "stream",
     "text": [
      "getting <__main__.X object at 0x7f7b468fba10> a <__main__.A object at 0x7f7b4691d0d0>\n"
     ]
    },
    {
     "data": {
      "text/plain": "{<__main__.X at 0x7f7b468fba10>}"
     },
     "execution_count": 14,
     "metadata": {},
     "output_type": "execute_result"
    }
   ],
   "source": [
    "y.a.parents"
   ],
   "metadata": {
    "collapsed": false,
    "pycharm": {
     "name": "#%%\n"
    }
   }
  },
  {
   "cell_type": "code",
   "execution_count": 14,
   "outputs": [],
   "source": [],
   "metadata": {
    "collapsed": false,
    "pycharm": {
     "name": "#%%\n"
    }
   }
  }
 ],
 "metadata": {
  "kernelspec": {
   "display_name": "Python 3 (ipykernel)",
   "language": "python",
   "name": "python3"
  },
  "language_info": {
   "codemirror_mode": {
    "name": "ipython",
    "version": 3
   },
   "file_extension": ".py",
   "mimetype": "text/x-python",
   "name": "python",
   "nbconvert_exporter": "python",
   "pygments_lexer": "ipython3",
   "version": "3.10.4"
  },
  "toc": {
   "base_numbering": 1,
   "nav_menu": {},
   "number_sections": true,
   "sideBar": true,
   "skip_h1_title": false,
   "title_cell": "Table of Contents",
   "title_sidebar": "Contents",
   "toc_cell": false,
   "toc_position": {},
   "toc_section_display": true,
   "toc_window_display": false
  }
 },
 "nbformat": 4,
 "nbformat_minor": 4
}