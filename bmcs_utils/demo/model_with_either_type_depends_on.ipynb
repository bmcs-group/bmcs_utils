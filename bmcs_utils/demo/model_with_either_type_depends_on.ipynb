{
 "cells": [
  {
   "cell_type": "code",
   "execution_count": 1,
   "metadata": {
    "pycharm": {
     "name": "#%%\n"
    }
   },
   "outputs": [],
   "source": [
    "%matplotlib widget"
   ]
  },
  {
   "cell_type": "code",
   "execution_count": 2,
   "metadata": {
    "pycharm": {
     "name": "#%%\n"
    }
   },
   "outputs": [],
   "source": [
    "import bmcs_utils.api as bu\n",
    "import traits.api as tr"
   ]
  },
  {
   "cell_type": "code",
   "execution_count": 3,
   "metadata": {
    "collapsed": false,
    "jupyter": {
     "outputs_hidden": false
    },
    "pycharm": {
     "name": "#%%\n"
    }
   },
   "outputs": [],
   "source": [
    "class A(bu.Model):\n",
    "    value = bu.Int(4, MAT=True)\n",
    "\n",
    "class B(bu.Model):\n",
    "    value = bu.Int(6, CS=True)"
   ]
  },
  {
   "cell_type": "code",
   "execution_count": 4,
   "metadata": {
    "collapsed": false,
    "jupyter": {
     "outputs_hidden": false
    },
    "pycharm": {
     "name": "#%%\n"
    }
   },
   "outputs": [],
   "source": [
    "class X(bu.Model):\n",
    "    name = 'X'\n",
    "    a = bu.Instance(A)\n",
    "    a_or_b = bu.EitherType(options=[('a', A), ('b', B)], MAT=True)\n",
    "    depends_on = ['a_or_b', 'a']\n",
    "    c = tr.Property(depends_on='state_changed')\n",
    "    @tr.cached_property\n",
    "    def _get_c(self):\n",
    "        return self.a_or_b_.value * 10"
   ]
  },
  {
   "cell_type": "code",
   "execution_count": 5,
   "metadata": {
    "collapsed": false,
    "jupyter": {
     "outputs_hidden": false
    },
    "pycharm": {
     "name": "#%%\n"
    }
   },
   "outputs": [
    {
     "name": "stdout",
     "output_type": "stream",
     "text": [
      "name a_or_b\n",
      "name a\n"
     ]
    }
   ],
   "source": [
    "z = X()"
   ]
  },
  {
   "cell_type": "code",
   "execution_count": 6,
   "metadata": {
    "collapsed": false,
    "jupyter": {
     "outputs_hidden": false
    },
    "pycharm": {
     "name": "#%%\n"
    }
   },
   "outputs": [],
   "source": [
    "z.a"
   ]
  },
  {
   "cell_type": "code",
   "execution_count": 7,
   "metadata": {
    "collapsed": false,
    "jupyter": {
     "outputs_hidden": false
    },
    "pycharm": {
     "name": "#%%\n"
    }
   },
   "outputs": [
    {
     "data": {
      "text/plain": [
       "('a', 4, 40, {<__main__.X at 0x7f4af35bd090>})"
      ]
     },
     "execution_count": 7,
     "metadata": {},
     "output_type": "execute_result"
    }
   ],
   "source": [
    "x = X(a_or_b='a', a=A())\n",
    "x.a_or_b, x.a_or_b_.value, x.c, x.a_or_b_.parents"
   ]
  },
  {
   "cell_type": "code",
   "execution_count": 8,
   "metadata": {
    "pycharm": {
     "name": "#%%\n"
    }
   },
   "outputs": [
    {
     "data": {
      "text/plain": [
       "('a', 8, 80, {<__main__.X at 0x7f4af35bd090>})"
      ]
     },
     "execution_count": 8,
     "metadata": {},
     "output_type": "execute_result"
    }
   ],
   "source": [
    "x.a_or_b_.value = 8\n",
    "x.a_or_b, x.a_or_b_.value, x.c, x.a_or_b_.parents"
   ]
  },
  {
   "cell_type": "code",
   "execution_count": 9,
   "metadata": {
    "collapsed": false,
    "jupyter": {
     "outputs_hidden": false
    },
    "pycharm": {
     "name": "#%%\n"
    }
   },
   "outputs": [
    {
     "data": {
      "text/plain": [
       "('b', 6, 60, {<__main__.X at 0x7f4af35bd090>})"
      ]
     },
     "execution_count": 9,
     "metadata": {},
     "output_type": "execute_result"
    }
   ],
   "source": [
    "x.a_or_b = 'b'\n",
    "x.a_or_b, x.a_or_b_.value, x.c, x.a_or_b_.parents"
   ]
  },
  {
   "cell_type": "code",
   "execution_count": 10,
   "metadata": {
    "collapsed": false,
    "jupyter": {
     "outputs_hidden": false
    },
    "pycharm": {
     "name": "#%%\n"
    }
   },
   "outputs": [
    {
     "data": {
      "text/plain": [
       "('a', 4, 40, {<__main__.X at 0x7f4af35bd090>})"
      ]
     },
     "execution_count": 10,
     "metadata": {},
     "output_type": "execute_result"
    }
   ],
   "source": [
    "x.a_or_b = 'a'\n",
    "x.a_or_b, x.a_or_b_.value, x.c, x.a_or_b_.parents"
   ]
  },
  {
   "cell_type": "markdown",
   "metadata": {
    "pycharm": {
     "name": "#%% md\n"
    }
   },
   "source": [
    "# Test the state propagation through a loop"
   ]
  },
  {
   "cell_type": "code",
   "execution_count": 11,
   "metadata": {
    "collapsed": false,
    "jupyter": {
     "outputs_hidden": false
    },
    "pycharm": {
     "name": "#%%\n"
    }
   },
   "outputs": [
    {
     "name": "stdout",
     "output_type": "stream",
     "text": [
      "graph_changed <__main__.X object at 0x7f4af35bd090> Notification from child <__main__.A object at 0x7f4af38b6310>\n",
      "value_changed <__main__.A object at 0x7f4af38b6310> TraitChangeEvent(object=<__main__.A object at 0x7f4af38b6310>, name='value', old=4, new=1)\n",
      "value_changed <__main__.X object at 0x7f4af35bd090> Notification from child <__main__.A object at 0x7f4af38b6310>\n",
      "graph_changed <__main__.X object at 0x7f4af35bd090> Notification from child <__main__.A object at 0x7f4af3e86db0>\n",
      "value_changed <__main__.A object at 0x7f4af3e86db0> TraitChangeEvent(object=<__main__.A object at 0x7f4af3e86db0>, name='value', old=4, new=3)\n",
      "value_changed <__main__.X object at 0x7f4af35bd090> Notification from child <__main__.A object at 0x7f4af3e86db0>\n",
      "value_changed <__main__.X object at 0x7f4af35bd090> TraitChangeEvent(object=<__main__.X object at 0x7f4af35bd090>, name='a_or_b', old='a', new='b')\n",
      "graph_changed <__main__.X object at 0x7f4af35bd090> Notification from child <__main__.B object at 0x7f4af3635180>\n",
      "value_changed <__main__.B object at 0x7f4af3635180> TraitChangeEvent(object=<__main__.B object at 0x7f4af3635180>, name='value', old=6, new=5)\n",
      "value_changed <__main__.X object at 0x7f4af35bd090> Notification from child <__main__.B object at 0x7f4af3635180>\n",
      "graph_changed <__main__.X object at 0x7f4af35bd090> Notification from child <__main__.B object at 0x7f4af3e3f810>\n",
      "value_changed <__main__.B object at 0x7f4af3e3f810> TraitChangeEvent(object=<__main__.B object at 0x7f4af3e3f810>, name='value', old=6, new=7)\n",
      "value_changed <__main__.X object at 0x7f4af35bd090> Notification from child <__main__.B object at 0x7f4af3e3f810>\n"
     ]
    }
   ],
   "source": [
    "change_list = [('a', 1),\n",
    "               ('a', 3),\n",
    "               ('b', 5),\n",
    "               ('b', 7)]\n",
    "c_list = []\n",
    "x.state_change_debug = True\n",
    "for option, value in change_list:\n",
    "    x.a_or_b = option\n",
    "    x.a_or_b_.value = value\n",
    "    c_list.append(x.c)"
   ]
  },
  {
   "cell_type": "code",
   "execution_count": 12,
   "metadata": {
    "collapsed": false,
    "jupyter": {
     "outputs_hidden": false
    },
    "pycharm": {
     "name": "#%%\n"
    }
   },
   "outputs": [
    {
     "data": {
      "text/plain": [
       "[10, 30, 50, 70]"
      ]
     },
     "execution_count": 12,
     "metadata": {},
     "output_type": "execute_result"
    }
   ],
   "source": [
    "c_list"
   ]
  },
  {
   "cell_type": "code",
   "execution_count": 13,
   "metadata": {
    "collapsed": false,
    "jupyter": {
     "outputs_hidden": false
    },
    "pycharm": {
     "name": "#%%\n"
    }
   },
   "outputs": [
    {
     "data": {
      "text/plain": [
       "{<__main__.X at 0x7f4af35bd090>}"
      ]
     },
     "execution_count": 13,
     "metadata": {},
     "output_type": "execute_result"
    }
   ],
   "source": [
    "x.a.parents"
   ]
  },
  {
   "cell_type": "code",
   "execution_count": 14,
   "metadata": {
    "collapsed": false,
    "jupyter": {
     "outputs_hidden": false
    },
    "pycharm": {
     "name": "#%%\n"
    }
   },
   "outputs": [
    {
     "name": "stdout",
     "output_type": "stream",
     "text": [
      "value_changed <__main__.A object at 0x7f4af3e05860> TraitChangeEvent(object=<__main__.A object at 0x7f4af3e05860>, name='value', old=4, new=3)\n",
      "value_changed <__main__.X object at 0x7f4af35bd090> Notification from child <__main__.A object at 0x7f4af3e05860>\n"
     ]
    }
   ],
   "source": [
    "x.a.value = 3"
   ]
  },
  {
   "cell_type": "code",
   "execution_count": 18,
   "metadata": {
    "collapsed": false,
    "jupyter": {
     "outputs_hidden": false
    },
    "pycharm": {
     "name": "#%%\n"
    }
   },
   "outputs": [
    {
     "name": "stdout",
     "output_type": "stream",
     "text": [
      "name a_or_b\n"
     ]
    }
   ],
   "source": [
    "y = X(a=A())"
   ]
  },
  {
   "cell_type": "code",
   "execution_count": 20,
   "metadata": {
    "collapsed": false,
    "jupyter": {
     "outputs_hidden": false
    },
    "pycharm": {
     "name": "#%%\n"
    }
   },
   "outputs": [
    {
     "data": {
      "text/plain": [
       "{<__main__.X at 0x7f4b4aa69590>}"
      ]
     },
     "execution_count": 20,
     "metadata": {},
     "output_type": "execute_result"
    }
   ],
   "source": [
    "y.a.parents"
   ]
  },
  {
   "cell_type": "code",
   "execution_count": null,
   "metadata": {
    "collapsed": false,
    "jupyter": {
     "outputs_hidden": false
    },
    "pycharm": {
     "name": "#%%\n"
    }
   },
   "outputs": [],
   "source": []
  }
 ],
 "metadata": {
  "kernelspec": {
   "display_name": "Python 3 (ipykernel)",
   "language": "python",
   "name": "python3"
  },
  "language_info": {
   "codemirror_mode": {
    "name": "ipython",
    "version": 3
   },
   "file_extension": ".py",
   "mimetype": "text/x-python",
   "name": "python",
   "nbconvert_exporter": "python",
   "pygments_lexer": "ipython3",
   "version": "3.9.0"
  },
  "toc": {
   "base_numbering": 1,
   "nav_menu": {},
   "number_sections": true,
   "sideBar": true,
   "skip_h1_title": false,
   "title_cell": "Table of Contents",
   "title_sidebar": "Contents",
   "toc_cell": false,
   "toc_position": {},
   "toc_section_display": true,
   "toc_window_display": false
  }
 },
 "nbformat": 4,
 "nbformat_minor": 4
}
