{
 "cells": [
  {
   "cell_type": "code",
   "execution_count": 1,
   "metadata": {},
   "outputs": [],
   "source": [
    "%matplotlib widget\n",
    "from bmcs_utils.interactive_window import \\\n",
    "    InteractiveWindow\n",
    "\n",
    "from bmcs_utils.interactive_model import InteractiveModel\n",
    "from bmcs_utils.view import View\n",
    "from bmcs_utils.item import Item\n",
    "\n",
    "from bmcs_utils.trait_types import \\\n",
    "    Float, Bool, Int, FloatRangeEditor\n",
    "\n",
    "class Model(InteractiveModel):\n",
    "\n",
    "    a = Float(20)\n",
    "\n",
    "    a_min = Float(1)\n",
    "    a_max = Float(8)\n",
    "    b = Float(80)\n",
    "    c = Bool(True)\n",
    "\n",
    "    ipw_view = View(\n",
    "        Item('a', editor=FloatRangeEditor(\n",
    "            low_name='a_min', high_name='a_max')),\n",
    "        Item('b'),\n",
    "        Item('c')\n",
    "    )\n",
    "\n",
    "    def update_plot(self, ax):\n",
    "        pass"
   ]
  },
  {
   "cell_type": "code",
   "execution_count": 2,
   "metadata": {
    "pycharm": {
     "name": "#%%\n"
    }
   },
   "outputs": [
    {
     "data": {
      "application/vnd.jupyter.widget-view+json": {
       "model_id": "a631366bf2cf4a9bb00934e1e3ffa952",
       "version_major": 2,
       "version_minor": 0
      },
      "text/plain": [
       "HBox(children=(Tab(children=(VBox(children=(GridBox(children=(SelectionSlider(continuous_update=False, descrip…"
      ]
     },
     "metadata": {},
     "output_type": "display_data"
    }
   ],
   "source": [
    "m = Model()\n",
    "ii = InteractiveWindow(m)\n",
    "ii.interact()"
   ]
  },
  {
   "cell_type": "code",
   "execution_count": null,
   "metadata": {
    "pycharm": {
     "name": "#%%\n"
    }
   },
   "outputs": [],
   "source": []
  },
  {
   "cell_type": "code",
   "execution_count": null,
   "metadata": {},
   "outputs": [],
   "source": []
  }
 ],
 "metadata": {
  "kernelspec": {
   "display_name": "bmcs_env",
   "language": "python",
   "name": "bmcs_env"
  },
  "language_info": {
   "codemirror_mode": {
    "name": "ipython",
    "version": 3
   },
   "file_extension": ".py",
   "mimetype": "text/x-python",
   "name": "python",
   "nbconvert_exporter": "python",
   "pygments_lexer": "ipython3",
   "version": "3.9.1"
  },
  "toc": {
   "base_numbering": 1,
   "nav_menu": {},
   "number_sections": true,
   "sideBar": true,
   "skip_h1_title": false,
   "title_cell": "Table of Contents",
   "title_sidebar": "Contents",
   "toc_cell": false,
   "toc_position": {},
   "toc_section_display": true,
   "toc_window_display": false
  }
 },
 "nbformat": 4,
 "nbformat_minor": 1
}
