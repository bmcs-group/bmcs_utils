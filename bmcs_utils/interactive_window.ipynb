{
 "cells": [
  {
   "cell_type": "code",
   "execution_count": 2,
   "metadata": {},
   "outputs": [],
   "source": [
    "from bmcs_utils.interactive_window import \\\n",
    "    InteractiveWindow\n",
    "\n",
    "from bmcs_utils.interactive_model import InteractiveModel\n",
    "from bmcs_utils.view import View\n",
    "from bmcs_utils.item import Item\n",
    "\n",
    "from bmcs_utils.trait_types import \\\n",
    "    Float, Bool, Int, FloatRangeEditor\n",
    "\n",
    "class Model(InteractiveModel):\n",
    "\n",
    "    a = Float(20)\n",
    "\n",
    "    a_min = Float(1)\n",
    "    a_max = Float(8)\n",
    "    b = Float(80)\n",
    "    c = Bool(True)\n",
    "\n",
    "    ipw_view = View(\n",
    "        Item('a', editor=FloatRangeEditor(\n",
    "            low_name='a_min', high_name='a_max')),\n",
    "        Item('b'),\n",
    "        Item('c')\n",
    "    )\n",
    "\n",
    "    def update_plot(self, ax):\n",
    "        pass"
   ]
  },
  {
   "cell_type": "code",
   "execution_count": 3,
   "metadata": {
    "pycharm": {
     "name": "#%%\n"
    }
   },
   "outputs": [
    {
     "name": "stdout",
     "output_type": "stream",
     "text": [
      "{'a': <bmcs_utils.editors.FloatRangeEditor object at 0x7f56bd126ae0>, 'b': <bmcs_utils.editors.FloatEditor object at 0x7f56bd0fc9a0>, 'c': <bmcs_utils.editors.BoolEditor object at 0x7f56bd0fcb80>}\n"
     ]
    },
    {
     "data": {
      "text/plain": "VBox(children=(Output(), Tab(children=(VBox(children=(GridBox(children=(FloatSlider(value=8.0, continuous_upda…",
      "application/vnd.jupyter.widget-view+json": {
       "version_major": 2,
       "version_minor": 0,
       "model_id": "66dae266c8414a85ab01abc82ec8e019"
      }
     },
     "metadata": {},
     "output_type": "display_data"
    },
    {
     "data": {
      "text/plain": "<Figure size 576x216 with 1 Axes>",
      "image/png": "[encoded data removed]"
     },
     "metadata": {
      "needs_background": "light"
     },
     "output_type": "display_data"
    }
   ],
   "source": [
    "m = Model()\n",
    "ii = InteractiveWindow(m)\n",
    "print(\n",
    "    ii.ipw_model_tabs[0].get_editors()\n",
    ")\n",
    "ii.interact()"
   ]
  },
  {
   "cell_type": "code",
   "execution_count": null,
   "metadata": {
    "pycharm": {
     "name": "#%%\n"
    }
   },
   "outputs": [],
   "source": []
  }
 ],
 "metadata": {
  "kernelspec": {
   "display_name": "PyCharm (bmcs_fragmentation)",
   "language": "python",
   "name": "pycharm-ea9154f3"
  },
  "language_info": {
   "codemirror_mode": {
    "name": "ipython",
    "version": 3
   },
   "file_extension": ".py",
   "mimetype": "text/x-python",
   "name": "python",
   "nbconvert_exporter": "python",
   "pygments_lexer": "ipython3",
   "version": "3.8.2"
  },
  "toc": {
   "base_numbering": 1,
   "nav_menu": {},
   "number_sections": true,
   "sideBar": true,
   "skip_h1_title": false,
   "title_cell": "Table of Contents",
   "title_sidebar": "Contents",
   "toc_cell": false,
   "toc_position": {},
   "toc_section_display": true,
   "toc_window_display": true
  }
 },
 "nbformat": 4,
 "nbformat_minor": 1
}