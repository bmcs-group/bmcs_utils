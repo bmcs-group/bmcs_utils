{
 "cells": [
  {
   "cell_type": "markdown",
   "metadata": {
    "collapsed": true
   },
   "source": [
    "# Parameters from symbols to input fields "
   ]
  },
  {
   "cell_type": "markdown",
   "metadata": {},
   "source": [
    "Model development follows the general work flow\n",
    "\n",
    "**Phase I: Jupyter development phase**\n",
    "1. Derive the model equations, use sympy to rapidly prototype algebraic, differential and integral formulas involved in the model\n",
    "2. Transform the important expressions to executable python functions using `sp.lambdify` with `numpy` interface to evaluate derived formulas on arrays\n",
    "3. Test the and demonstrate the correctness of the expressions using visualization `matplotlib` singular plots. Even better, provide an interaction interfaces using `ipywidgets`. \n",
    "\n",
    "**Phase II: Python packaging phase**\n",
    "4. Define a class diagram reflecting the physical nature of the problem with objects (Beam, Materialmodel, Reinforcementbar).\n",
    "5. Associate the executable functions derived in the Phase I with the class as methods or as properties\n",
    "6. Provide an application programming interface\n",
    "\n",
    "**Phase III: Jupyter examples/studies/webapp**\n",
    "6. Import the designed Python package into the a Jupyter notebooks, explain and demonstrate the features of the package. \n",
    "7. Design a jupyter interface using `ipywidgets` showing the functionality of an implemented package in an interactive way\n",
    "8. Provide one or more Jupyter notebooks as webapps on `github` that can be executed using the `binder` service. \n",
    "9. Use `zenodo` to produce a doi to enable package citations in papers. "
   ]
  },
  {
   "cell_type": "markdown",
   "metadata": {},
   "source": [
    "## Sympy model definition"
   ]
  },
  {
   "cell_type": "code",
   "execution_count": 1,
   "metadata": {},
   "outputs": [],
   "source": [
    "%matplotlib notebook"
   ]
  },
  {
   "cell_type": "code",
   "execution_count": 2,
   "metadata": {},
   "outputs": [],
   "source": [
    "import sympy as sp\n",
    "sp.init_printing()"
   ]
  },
  {
   "cell_type": "markdown",
   "metadata": {
    "pycharm": {
     "name": "#%%\n"
    }
   },
   "source": [
    "Let us construct a model calculating extreme values a quadratic function\n",
    "\\begin{align}\n",
    "y = ax^2 + bx + c\n",
    "\\end{align}\n",
    "This function represents our model"
   ]
  },
  {
   "cell_type": "code",
   "execution_count": 3,
   "metadata": {
    "pycharm": {
     "name": "#%% md\n"
    }
   },
   "outputs": [],
   "source": [
    "a, b, c, zeta = sp.symbols(r'a,b,c,\\zeta_\\mathrm{roman}')\n",
    "x = sp.Symbol('x')"
   ]
  },
  {
   "cell_type": "code",
   "execution_count": 4,
   "metadata": {},
   "outputs": [
    {
     "data": {
      "image/png": "[encoded data removed]",
      "text/latex": [
       "$\\displaystyle \\zeta_\\mathrm{roman} x + a x^{2} + b x + c$"
      ],
      "text/plain": [
       "                            2          \n",
       "\\zeta_\\mathrm{roman}⋅x + a⋅x  + b⋅x + c"
      ]
     },
     "execution_count": 4,
     "metadata": {},
     "output_type": "execute_result"
    }
   ],
   "source": [
    "y_ = a * x**2 + b * x + c + zeta*x\n",
    "y_"
   ]
  },
  {
   "cell_type": "code",
   "execution_count": 5,
   "metadata": {},
   "outputs": [
    {
     "data": {
      "image/png": "[encoded data removed]",
      "text/latex": [
       "$\\displaystyle \\zeta_\\mathrm{roman} + 2 a x + b$"
      ],
      "text/plain": [
       "\\zeta_\\mathrm{roman} + 2⋅a⋅x + b"
      ]
     },
     "execution_count": 5,
     "metadata": {},
     "output_type": "execute_result"
    }
   ],
   "source": [
    "y_dx_ = y_.diff(x)\n",
    "y_dx_"
   ]
  },
  {
   "cell_type": "code",
   "execution_count": 6,
   "metadata": {},
   "outputs": [
    {
     "data": {
      "image/png": "[encoded data removed]",
      "text/latex": [
       "$\\displaystyle - \\frac{\\zeta_\\mathrm{roman} + b}{2 a}$"
      ],
      "text/plain": [
       "-(\\zeta_\\mathrm{roman} + b) \n",
       "────────────────────────────\n",
       "            2⋅a             "
      ]
     },
     "execution_count": 6,
     "metadata": {},
     "output_type": "execute_result"
    }
   ],
   "source": [
    "x_argmax_ = sp.solve(y_dx_, x)[0]\n",
    "x_argmax_"
   ]
  },
  {
   "cell_type": "code",
   "execution_count": 7,
   "metadata": {},
   "outputs": [
    {
     "data": {
      "image/png": "[encoded data removed]",
      "text/latex": [
       "$\\displaystyle \\left( a, \\  b, \\  c, \\  \\zeta_\\mathrm{roman}\\right)$"
      ],
      "text/plain": [
       "(a, b, c, \\zeta_\\mathrm{roman})"
      ]
     },
     "execution_count": 7,
     "metadata": {},
     "output_type": "execute_result"
    }
   ],
   "source": [
    "param_names = ('a', 'b', 'c', 'zeta')\n",
    "get_params = lambda param_names, **kw: tuple(kw[name] for name in param_names)\n",
    "sp_params = tuple(globals()[name] for name in param_names)\n",
    "sp_params"
   ]
  },
  {
   "cell_type": "markdown",
   "metadata": {
    "pycharm": {
     "name": "#%%\n"
    }
   },
   "source": [
    "## Lambdify the symbolic functions"
   ]
  },
  {
   "cell_type": "code",
   "execution_count": 8,
   "metadata": {
    "pycharm": {
     "name": "#%% md\n"
    }
   },
   "outputs": [],
   "source": [
    "get_x_argmax = sp.lambdify(sp_params, x_argmax_, 'numpy', dummify=True)\n",
    "get_y = sp.lambdify(sp_params + (x,), y_, 'numpy', dummify=True)"
   ]
  },
  {
   "cell_type": "markdown",
   "metadata": {
    "pycharm": {
     "name": "#%%\n"
    }
   },
   "source": [
    "## Define derived functions"
   ]
  },
  {
   "cell_type": "code",
   "execution_count": 9,
   "metadata": {
    "pycharm": {
     "name": "#%% md\n"
    }
   },
   "outputs": [],
   "source": [
    "def get_y_max(*args):\n",
    "    x = get_x_argmax(*args)\n",
    "    return get_y(*args + (x,))"
   ]
  },
  {
   "cell_type": "code",
   "execution_count": 10,
   "metadata": {},
   "outputs": [],
   "source": [
    "param_dict = dict(a=1,b=2,c=3,zeta=4)"
   ]
  },
  {
   "cell_type": "code",
   "execution_count": 11,
   "metadata": {},
   "outputs": [
    {
     "data": {
      "image/png": "[encoded data removed]",
      "text/latex": [
       "$\\displaystyle -6.0$"
      ],
      "text/plain": [
       "-6.0"
      ]
     },
     "execution_count": 11,
     "metadata": {},
     "output_type": "execute_result"
    }
   ],
   "source": [
    "get_y_max(1,2,3,4)"
   ]
  },
  {
   "cell_type": "code",
   "execution_count": 12,
   "metadata": {},
   "outputs": [
    {
     "data": {
      "image/png": "[encoded data removed]",
      "text/latex": [
       "$\\displaystyle -6.0$"
      ],
      "text/plain": [
       "-6.0"
      ]
     },
     "execution_count": 12,
     "metadata": {},
     "output_type": "execute_result"
    }
   ],
   "source": [
    "get_y_max(*get_params(param_names,**param_dict))"
   ]
  },
  {
   "cell_type": "code",
   "execution_count": 13,
   "metadata": {},
   "outputs": [
    {
     "data": {
      "image/png": "[encoded data removed]",
      "text/latex": [
       "$\\displaystyle -1.6666666666666667$"
      ],
      "text/plain": [
       "-1.6666666666666667"
      ]
     },
     "execution_count": 13,
     "metadata": {},
     "output_type": "execute_result"
    }
   ],
   "source": [
    "get_x_argmax(3,4,5,6)"
   ]
  },
  {
   "cell_type": "code",
   "execution_count": 14,
   "metadata": {
    "pycharm": {
     "name": "#%%\n"
    }
   },
   "outputs": [],
   "source": [
    "## Define data arrays and domains"
   ]
  },
  {
   "cell_type": "code",
   "execution_count": 15,
   "metadata": {},
   "outputs": [],
   "source": [
    "import numpy as np\n",
    "x_arr = np.linspace(-8,8,100)"
   ]
  },
  {
   "cell_type": "code",
   "execution_count": 16,
   "metadata": {
    "pycharm": {
     "name": "#%%\n"
    }
   },
   "outputs": [],
   "source": [
    "import matplotlib.pylab as plt"
   ]
  },
  {
   "cell_type": "code",
   "execution_count": 34,
   "metadata": {
    "pycharm": {
     "name": "#%%\n"
    }
   },
   "outputs": [],
   "source": [
    "plt.plot(x_arr, get_y(1,2,3,4,x_arr));\n",
    "plt.plot([get_x_argmax(1,2,3,4)], [get_y_max(1,2,3,4)], 'o' );"
   ]
  },
  {
   "cell_type": "markdown",
   "metadata": {},
   "source": [
    "### How call the derived function with a correctly ordered set of parameters"
   ]
  },
  {
   "cell_type": "code",
   "execution_count": 33,
   "metadata": {
    "pycharm": {
     "name": "#%%\n"
    }
   },
   "outputs": [
    {
     "data": {
      "image/png": "[encoded data removed]",
      "text/latex": [
       "$\\displaystyle 30$"
      ],
      "text/plain": [
       "30"
      ]
     },
     "execution_count": 33,
     "metadata": {},
     "output_type": "execute_result"
    }
   ],
   "source": [
    "get_y(*get_params(param_names, a=1,b=2,c=3,zeta=4)+(3,))"
   ]
  },
  {
   "cell_type": "markdown",
   "metadata": {},
   "source": [
    "## IPWFigureWithSliders"
   ]
  },
  {
   "cell_type": "code",
   "execution_count": 35,
   "metadata": {},
   "outputs": [],
   "source": [
    "from ipw_figure_sliders import InteraciveModel, IPWFigureWithSliders"
   ]
  },
  {
   "cell_type": "markdown",
   "metadata": {},
   "source": [
    "Define a model class with trait attributes representing the\n",
    "model parameters. The `trait.api` package provides the basic\n",
    "types `Int`, `Float`, `Str`, `Array`, `List`, `Dict`\n",
    "\n",
    "Define `init_plot` method and `update_plot` method."
   ]
  },
  {
   "cell_type": "code",
   "execution_count": 36,
   "metadata": {
    "pycharm": {
     "name": "#%%\n"
    }
   },
   "outputs": [],
   "source": [
    "import ipywidgets as ipw\n",
    "import traits.api as tr\n",
    "@tr.provides(IModel)\n",
    "class QuadEq(tr.HasTraits):\n",
    "    a = tr.Float(3, param=True, latex='a', minmax=(-8,8))\n",
    "    b = tr.Float(3, param=True, latex='b', minmax=(-8,8))\n",
    "    c = tr.Float(3, param=True, latex='c', minmax=(-8,8))\n",
    "    zeta = tr.Float(3, param=True, latex=r'\\zeta', minmax=(-8,8))\n",
    "    param_names = param_names\n",
    "    \n",
    "    def init_plot(self):\n",
    "        self.fig, self.ax = plt.subplots(\n",
    "            1,1,figsize=(8,3.4), tight_layout=True)\n",
    "\n",
    "    def update_plot(self):\n",
    "        self.ax.clear()\n",
    "        param_dict = self.trait_get(param=True)\n",
    "        params = get_params(self.param_names,**param_dict)\n",
    "        x_arr = np.linspace(-8,8,50)\n",
    "        y_arr = get_y(*params+(x_arr,))\n",
    "        plt.plot([get_x_argmax(*params)], [get_y_max(*params)], 'o',\n",
    "                color='red');\n",
    "        self.ax.fill_between(x_arr, y_arr,0);"
   ]
  },
  {
   "cell_type": "code",
   "execution_count": 37,
   "metadata": {
    "pycharm": {
     "name": "#%%\n"
    }
   },
   "outputs": [
    {
     "data": {
      "application/javascript": [
       "/* Put everything inside the global mpl namespace */\n",
       "window.mpl = {};\n",
       "\n",
       "\n",
       "mpl.get_websocket_type = function() {\n",
       "    if (typeof(WebSocket) !== 'undefined') {\n",
       "        return WebSocket;\n",
       "    } else if (typeof(MozWebSocket) !== 'undefined') {\n",
       "        return MozWebSocket;\n",
       "    } else {\n",
       "        alert('Your browser does not have WebSocket support. ' +\n",
       "              'Please try Chrome, Safari or Firefox ≥ 6. ' +\n",
       "              'Firefox 4 and 5 are also supported but you ' +\n",
       "              'have to enable WebSockets in about:config.');\n",
       "    };\n",
       "}\n",
       "\n",
       "mpl.figure = function(figure_id, websocket, ondownload, parent_element) {\n",
       "    this.id = figure_id;\n",
       "\n",
       "    this.ws = websocket;\n",
       "\n",
       "    this.supports_binary = (this.ws.binaryType != undefined);\n",
       "\n",
       "    if (!this.supports_binary) {\n",
       "        var warnings = document.getElementById(\"mpl-warnings\");\n",
       "        if (warnings) {\n",
       "            warnings.style.display = 'block';\n",
       "            warnings.textContent = (\n",
       "                \"This browser does not support binary websocket messages. \" +\n",
       "                    \"Performance may be slow.\");\n",
       "        }\n",
       "    }\n",
       "\n",
       "    this.imageObj = new Image();\n",
       "\n",
       "    this.context = undefined;\n",
       "    this.message = undefined;\n",
       "    this.canvas = undefined;\n",
       "    this.rubberband_canvas = undefined;\n",
       "    this.rubberband_context = undefined;\n",
       "    this.format_dropdown = undefined;\n",
       "\n",
       "    this.image_mode = 'full';\n",
       "\n",
       "    this.root = $('<div/>');\n",
       "    this._root_extra_style(this.root)\n",
       "    this.root.attr('style', 'display: inline-block');\n",
       "\n",
       "    $(parent_element).append(this.root);\n",
       "\n",
       "    this._init_header(this);\n",
       "    this._init_canvas(this);\n",
       "    this._init_toolbar(this);\n",
       "\n",
       "    var fig = this;\n",
       "\n",
       "    this.waiting = false;\n",
       "\n",
       "    this.ws.onopen =  function () {\n",
       "            fig.send_message(\"supports_binary\", {value: fig.supports_binary});\n",
       "            fig.send_message(\"send_image_mode\", {});\n",
       "            if (mpl.ratio != 1) {\n",
       "                fig.send_message(\"set_dpi_ratio\", {'dpi_ratio': mpl.ratio});\n",
       "            }\n",
       "            fig.send_message(\"refresh\", {});\n",
       "        }\n",
       "\n",
       "    this.imageObj.onload = function() {\n",
       "            if (fig.image_mode == 'full') {\n",
       "                // Full images could contain transparency (where diff images\n",
       "                // almost always do), so we need to clear the canvas so that\n",
       "                // there is no ghosting.\n",
       "                fig.context.clearRect(0, 0, fig.canvas.width, fig.canvas.height);\n",
       "            }\n",
       "            fig.context.drawImage(fig.imageObj, 0, 0);\n",
       "        };\n",
       "\n",
       "    this.imageObj.onunload = function() {\n",
       "        fig.ws.close();\n",
       "    }\n",
       "\n",
       "    this.ws.onmessage = this._make_on_message_function(this);\n",
       "\n",
       "    this.ondownload = ondownload;\n",
       "}\n",
       "\n",
       "mpl.figure.prototype._init_header = function() {\n",
       "    var titlebar = $(\n",
       "        '<div class=\"ui-dialog-titlebar ui-widget-header ui-corner-all ' +\n",
       "        'ui-helper-clearfix\"/>');\n",
       "    var titletext = $(\n",
       "        '<div class=\"ui-dialog-title\" style=\"width: 100%; ' +\n",
       "        'text-align: center; padding: 3px;\"/>');\n",
       "    titlebar.append(titletext)\n",
       "    this.root.append(titlebar);\n",
       "    this.header = titletext[0];\n",
       "}\n",
       "\n",
       "\n",
       "\n",
       "mpl.figure.prototype._canvas_extra_style = function(canvas_div) {\n",
       "\n",
       "}\n",
       "\n",
       "\n",
       "mpl.figure.prototype._root_extra_style = function(canvas_div) {\n",
       "\n",
       "}\n",
       "\n",
       "mpl.figure.prototype._init_canvas = function() {\n",
       "    var fig = this;\n",
       "\n",
       "    var canvas_div = $('<div/>');\n",
       "\n",
       "    canvas_div.attr('style', 'position: relative; clear: both; outline: 0');\n",
       "\n",
       "    function canvas_keyboard_event(event) {\n",
       "        return fig.key_event(event, event['data']);\n",
       "    }\n",
       "\n",
       "    canvas_div.keydown('key_press', canvas_keyboard_event);\n",
       "    canvas_div.keyup('key_release', canvas_keyboard_event);\n",
       "    this.canvas_div = canvas_div\n",
       "    this._canvas_extra_style(canvas_div)\n",
       "    this.root.append(canvas_div);\n",
       "\n",
       "    var canvas = $('<canvas/>');\n",
       "    canvas.addClass('mpl-canvas');\n",
       "    canvas.attr('style', \"left: 0; top: 0; z-index: 0; outline: 0\")\n",
       "\n",
       "    this.canvas = canvas[0];\n",
       "    this.context = canvas[0].getContext(\"2d\");\n",
       "\n",
       "    var backingStore = this.context.backingStorePixelRatio ||\n",
       "\tthis.context.webkitBackingStorePixelRatio ||\n",
       "\tthis.context.mozBackingStorePixelRatio ||\n",
       "\tthis.context.msBackingStorePixelRatio ||\n",
       "\tthis.context.oBackingStorePixelRatio ||\n",
       "\tthis.context.backingStorePixelRatio || 1;\n",
       "\n",
       "    mpl.ratio = (window.devicePixelRatio || 1) / backingStore;\n",
       "\n",
       "    var rubberband = $('<canvas/>');\n",
       "    rubberband.attr('style', \"position: absolute; left: 0; top: 0; z-index: 1;\")\n",
       "\n",
       "    var pass_mouse_events = true;\n",
       "\n",
       "    canvas_div.resizable({\n",
       "        start: function(event, ui) {\n",
       "            pass_mouse_events = false;\n",
       "        },\n",
       "        resize: function(event, ui) {\n",
       "            fig.request_resize(ui.size.width, ui.size.height);\n",
       "        },\n",
       "        stop: function(event, ui) {\n",
       "            pass_mouse_events = true;\n",
       "            fig.request_resize(ui.size.width, ui.size.height);\n",
       "        },\n",
       "    });\n",
       "\n",
       "    function mouse_event_fn(event) {\n",
       "        if (pass_mouse_events)\n",
       "            return fig.mouse_event(event, event['data']);\n",
       "    }\n",
       "\n",
       "    rubberband.mousedown('button_press', mouse_event_fn);\n",
       "    rubberband.mouseup('button_release', mouse_event_fn);\n",
       "    // Throttle sequential mouse events to 1 every 20ms.\n",
       "    rubberband.mousemove('motion_notify', mouse_event_fn);\n",
       "\n",
       "    rubberband.mouseenter('figure_enter', mouse_event_fn);\n",
       "    rubberband.mouseleave('figure_leave', mouse_event_fn);\n",
       "\n",
       "    canvas_div.on(\"wheel\", function (event) {\n",
       "        event = event.originalEvent;\n",
       "        event['data'] = 'scroll'\n",
       "        if (event.deltaY < 0) {\n",
       "            event.step = 1;\n",
       "        } else {\n",
       "            event.step = -1;\n",
       "        }\n",
       "        mouse_event_fn(event);\n",
       "    });\n",
       "\n",
       "    canvas_div.append(canvas);\n",
       "    canvas_div.append(rubberband);\n",
       "\n",
       "    this.rubberband = rubberband;\n",
       "    this.rubberband_canvas = rubberband[0];\n",
       "    this.rubberband_context = rubberband[0].getContext(\"2d\");\n",
       "    this.rubberband_context.strokeStyle = \"#000000\";\n",
       "\n",
       "    this._resize_canvas = function(width, height) {\n",
       "        // Keep the size of the canvas, canvas container, and rubber band\n",
       "        // canvas in synch.\n",
       "        canvas_div.css('width', width)\n",
       "        canvas_div.css('height', height)\n",
       "\n",
       "        canvas.attr('width', width * mpl.ratio);\n",
       "        canvas.attr('height', height * mpl.ratio);\n",
       "        canvas.attr('style', 'width: ' + width + 'px; height: ' + height + 'px;');\n",
       "\n",
       "        rubberband.attr('width', width);\n",
       "        rubberband.attr('height', height);\n",
       "    }\n",
       "\n",
       "    // Set the figure to an initial 600x600px, this will subsequently be updated\n",
       "    // upon first draw.\n",
       "    this._resize_canvas(600, 600);\n",
       "\n",
       "    // Disable right mouse context menu.\n",
       "    $(this.rubberband_canvas).bind(\"contextmenu\",function(e){\n",
       "        return false;\n",
       "    });\n",
       "\n",
       "    function set_focus () {\n",
       "        canvas.focus();\n",
       "        canvas_div.focus();\n",
       "    }\n",
       "\n",
       "    window.setTimeout(set_focus, 100);\n",
       "}\n",
       "\n",
       "mpl.figure.prototype._init_toolbar = function() {\n",
       "    var fig = this;\n",
       "\n",
       "    var nav_element = $('<div/>');\n",
       "    nav_element.attr('style', 'width: 100%');\n",
       "    this.root.append(nav_element);\n",
       "\n",
       "    // Define a callback function for later on.\n",
       "    function toolbar_event(event) {\n",
       "        return fig.toolbar_button_onclick(event['data']);\n",
       "    }\n",
       "    function toolbar_mouse_event(event) {\n",
       "        return fig.toolbar_button_onmouseover(event['data']);\n",
       "    }\n",
       "\n",
       "    for(var toolbar_ind in mpl.toolbar_items) {\n",
       "        var name = mpl.toolbar_items[toolbar_ind][0];\n",
       "        var tooltip = mpl.toolbar_items[toolbar_ind][1];\n",
       "        var image = mpl.toolbar_items[toolbar_ind][2];\n",
       "        var method_name = mpl.toolbar_items[toolbar_ind][3];\n",
       "\n",
       "        if (!name) {\n",
       "            // put a spacer in here.\n",
       "            continue;\n",
       "        }\n",
       "        var button = $('<button/>');\n",
       "        button.addClass('ui-button ui-widget ui-state-default ui-corner-all ' +\n",
       "                        'ui-button-icon-only');\n",
       "        button.attr('role', 'button');\n",
       "        button.attr('aria-disabled', 'false');\n",
       "        button.click(method_name, toolbar_event);\n",
       "        button.mouseover(tooltip, toolbar_mouse_event);\n",
       "\n",
       "        var icon_img = $('<span/>');\n",
       "        icon_img.addClass('ui-button-icon-primary ui-icon');\n",
       "        icon_img.addClass(image);\n",
       "        icon_img.addClass('ui-corner-all');\n",
       "\n",
       "        var tooltip_span = $('<span/>');\n",
       "        tooltip_span.addClass('ui-button-text');\n",
       "        tooltip_span.html(tooltip);\n",
       "\n",
       "        button.append(icon_img);\n",
       "        button.append(tooltip_span);\n",
       "\n",
       "        nav_element.append(button);\n",
       "    }\n",
       "\n",
       "    var fmt_picker_span = $('<span/>');\n",
       "\n",
       "    var fmt_picker = $('<select/>');\n",
       "    fmt_picker.addClass('mpl-toolbar-option ui-widget ui-widget-content');\n",
       "    fmt_picker_span.append(fmt_picker);\n",
       "    nav_element.append(fmt_picker_span);\n",
       "    this.format_dropdown = fmt_picker[0];\n",
       "\n",
       "    for (var ind in mpl.extensions) {\n",
       "        var fmt = mpl.extensions[ind];\n",
       "        var option = $(\n",
       "            '<option/>', {selected: fmt === mpl.default_extension}).html(fmt);\n",
       "        fmt_picker.append(option);\n",
       "    }\n",
       "\n",
       "    // Add hover states to the ui-buttons\n",
       "    $( \".ui-button\" ).hover(\n",
       "        function() { $(this).addClass(\"ui-state-hover\");},\n",
       "        function() { $(this).removeClass(\"ui-state-hover\");}\n",
       "    );\n",
       "\n",
       "    var status_bar = $('<span class=\"mpl-message\"/>');\n",
       "    nav_element.append(status_bar);\n",
       "    this.message = status_bar[0];\n",
       "}\n",
       "\n",
       "mpl.figure.prototype.request_resize = function(x_pixels, y_pixels) {\n",
       "    // Request matplotlib to resize the figure. Matplotlib will then trigger a resize in the client,\n",
       "    // which will in turn request a refresh of the image.\n",
       "    this.send_message('resize', {'width': x_pixels, 'height': y_pixels});\n",
       "}\n",
       "\n",
       "mpl.figure.prototype.send_message = function(type, properties) {\n",
       "    properties['type'] = type;\n",
       "    properties['figure_id'] = this.id;\n",
       "    this.ws.send(JSON.stringify(properties));\n",
       "}\n",
       "\n",
       "mpl.figure.prototype.send_draw_message = function() {\n",
       "    if (!this.waiting) {\n",
       "        this.waiting = true;\n",
       "        this.ws.send(JSON.stringify({type: \"draw\", figure_id: this.id}));\n",
       "    }\n",
       "}\n",
       "\n",
       "\n",
       "mpl.figure.prototype.handle_save = function(fig, msg) {\n",
       "    var format_dropdown = fig.format_dropdown;\n",
       "    var format = format_dropdown.options[format_dropdown.selectedIndex].value;\n",
       "    fig.ondownload(fig, format);\n",
       "}\n",
       "\n",
       "\n",
       "mpl.figure.prototype.handle_resize = function(fig, msg) {\n",
       "    var size = msg['size'];\n",
       "    if (size[0] != fig.canvas.width || size[1] != fig.canvas.height) {\n",
       "        fig._resize_canvas(size[0], size[1]);\n",
       "        fig.send_message(\"refresh\", {});\n",
       "    };\n",
       "}\n",
       "\n",
       "mpl.figure.prototype.handle_rubberband = function(fig, msg) {\n",
       "    var x0 = msg['x0'] / mpl.ratio;\n",
       "    var y0 = (fig.canvas.height - msg['y0']) / mpl.ratio;\n",
       "    var x1 = msg['x1'] / mpl.ratio;\n",
       "    var y1 = (fig.canvas.height - msg['y1']) / mpl.ratio;\n",
       "    x0 = Math.floor(x0) + 0.5;\n",
       "    y0 = Math.floor(y0) + 0.5;\n",
       "    x1 = Math.floor(x1) + 0.5;\n",
       "    y1 = Math.floor(y1) + 0.5;\n",
       "    var min_x = Math.min(x0, x1);\n",
       "    var min_y = Math.min(y0, y1);\n",
       "    var width = Math.abs(x1 - x0);\n",
       "    var height = Math.abs(y1 - y0);\n",
       "\n",
       "    fig.rubberband_context.clearRect(\n",
       "        0, 0, fig.canvas.width / mpl.ratio, fig.canvas.height / mpl.ratio);\n",
       "\n",
       "    fig.rubberband_context.strokeRect(min_x, min_y, width, height);\n",
       "}\n",
       "\n",
       "mpl.figure.prototype.handle_figure_label = function(fig, msg) {\n",
       "    // Updates the figure title.\n",
       "    fig.header.textContent = msg['label'];\n",
       "}\n",
       "\n",
       "mpl.figure.prototype.handle_cursor = function(fig, msg) {\n",
       "    var cursor = msg['cursor'];\n",
       "    switch(cursor)\n",
       "    {\n",
       "    case 0:\n",
       "        cursor = 'pointer';\n",
       "        break;\n",
       "    case 1:\n",
       "        cursor = 'default';\n",
       "        break;\n",
       "    case 2:\n",
       "        cursor = 'crosshair';\n",
       "        break;\n",
       "    case 3:\n",
       "        cursor = 'move';\n",
       "        break;\n",
       "    }\n",
       "    fig.rubberband_canvas.style.cursor = cursor;\n",
       "}\n",
       "\n",
       "mpl.figure.prototype.handle_message = function(fig, msg) {\n",
       "    fig.message.textContent = msg['message'];\n",
       "}\n",
       "\n",
       "mpl.figure.prototype.handle_draw = function(fig, msg) {\n",
       "    // Request the server to send over a new figure.\n",
       "    fig.send_draw_message();\n",
       "}\n",
       "\n",
       "mpl.figure.prototype.handle_image_mode = function(fig, msg) {\n",
       "    fig.image_mode = msg['mode'];\n",
       "}\n",
       "\n",
       "mpl.figure.prototype.updated_canvas_event = function() {\n",
       "    // Called whenever the canvas gets updated.\n",
       "    this.send_message(\"ack\", {});\n",
       "}\n",
       "\n",
       "// A function to construct a web socket function for onmessage handling.\n",
       "// Called in the figure constructor.\n",
       "mpl.figure.prototype._make_on_message_function = function(fig) {\n",
       "    return function socket_on_message(evt) {\n",
       "        if (evt.data instanceof Blob) {\n",
       "            /* FIXME: We get \"Resource interpreted as Image but\n",
       "             * transferred with MIME type text/plain:\" errors on\n",
       "             * Chrome.  But how to set the MIME type?  It doesn't seem\n",
       "             * to be part of the websocket stream */\n",
       "            evt.data.type = \"image/png\";\n",
       "\n",
       "            /* Free the memory for the previous frames */\n",
       "            if (fig.imageObj.src) {\n",
       "                (window.URL || window.webkitURL).revokeObjectURL(\n",
       "                    fig.imageObj.src);\n",
       "            }\n",
       "\n",
       "            fig.imageObj.src = (window.URL || window.webkitURL).createObjectURL(\n",
       "                evt.data);\n",
       "            fig.updated_canvas_event();\n",
       "            fig.waiting = false;\n",
       "            return;\n",
       "        }\n",
       "        else if (typeof evt.data === 'string' && evt.data.slice(0, 21) == \"data:image/png;base64\") {\n",
       "            fig.imageObj.src = evt.data;\n",
       "            fig.updated_canvas_event();\n",
       "            fig.waiting = false;\n",
       "            return;\n",
       "        }\n",
       "\n",
       "        var msg = JSON.parse(evt.data);\n",
       "        var msg_type = msg['type'];\n",
       "\n",
       "        // Call the  \"handle_{type}\" callback, which takes\n",
       "        // the figure and JSON message as its only arguments.\n",
       "        try {\n",
       "            var callback = fig[\"handle_\" + msg_type];\n",
       "        } catch (e) {\n",
       "            console.log(\"No handler for the '\" + msg_type + \"' message type: \", msg);\n",
       "            return;\n",
       "        }\n",
       "\n",
       "        if (callback) {\n",
       "            try {\n",
       "                // console.log(\"Handling '\" + msg_type + \"' message: \", msg);\n",
       "                callback(fig, msg);\n",
       "            } catch (e) {\n",
       "                console.log(\"Exception inside the 'handler_\" + msg_type + \"' callback:\", e, e.stack, msg);\n",
       "            }\n",
       "        }\n",
       "    };\n",
       "}\n",
       "\n",
       "// from http://stackoverflow.com/questions/1114465/getting-mouse-location-in-canvas\n",
       "mpl.findpos = function(e) {\n",
       "    //this section is from http://www.quirksmode.org/js/events_properties.html\n",
       "    var targ;\n",
       "    if (!e)\n",
       "        e = window.event;\n",
       "    if (e.target)\n",
       "        targ = e.target;\n",
       "    else if (e.srcElement)\n",
       "        targ = e.srcElement;\n",
       "    if (targ.nodeType == 3) // defeat Safari bug\n",
       "        targ = targ.parentNode;\n",
       "\n",
       "    // jQuery normalizes the pageX and pageY\n",
       "    // pageX,Y are the mouse positions relative to the document\n",
       "    // offset() returns the position of the element relative to the document\n",
       "    var x = e.pageX - $(targ).offset().left;\n",
       "    var y = e.pageY - $(targ).offset().top;\n",
       "\n",
       "    return {\"x\": x, \"y\": y};\n",
       "};\n",
       "\n",
       "/*\n",
       " * return a copy of an object with only non-object keys\n",
       " * we need this to avoid circular references\n",
       " * http://stackoverflow.com/a/24161582/3208463\n",
       " */\n",
       "function simpleKeys (original) {\n",
       "  return Object.keys(original).reduce(function (obj, key) {\n",
       "    if (typeof original[key] !== 'object')\n",
       "        obj[key] = original[key]\n",
       "    return obj;\n",
       "  }, {});\n",
       "}\n",
       "\n",
       "mpl.figure.prototype.mouse_event = function(event, name) {\n",
       "    var canvas_pos = mpl.findpos(event)\n",
       "\n",
       "    if (name === 'button_press')\n",
       "    {\n",
       "        this.canvas.focus();\n",
       "        this.canvas_div.focus();\n",
       "    }\n",
       "\n",
       "    var x = canvas_pos.x * mpl.ratio;\n",
       "    var y = canvas_pos.y * mpl.ratio;\n",
       "\n",
       "    this.send_message(name, {x: x, y: y, button: event.button,\n",
       "                             step: event.step,\n",
       "                             guiEvent: simpleKeys(event)});\n",
       "\n",
       "    /* This prevents the web browser from automatically changing to\n",
       "     * the text insertion cursor when the button is pressed.  We want\n",
       "     * to control all of the cursor setting manually through the\n",
       "     * 'cursor' event from matplotlib */\n",
       "    event.preventDefault();\n",
       "    return false;\n",
       "}\n",
       "\n",
       "mpl.figure.prototype._key_event_extra = function(event, name) {\n",
       "    // Handle any extra behaviour associated with a key event\n",
       "}\n",
       "\n",
       "mpl.figure.prototype.key_event = function(event, name) {\n",
       "\n",
       "    // Prevent repeat events\n",
       "    if (name == 'key_press')\n",
       "    {\n",
       "        if (event.which === this._key)\n",
       "            return;\n",
       "        else\n",
       "            this._key = event.which;\n",
       "    }\n",
       "    if (name == 'key_release')\n",
       "        this._key = null;\n",
       "\n",
       "    var value = '';\n",
       "    if (event.ctrlKey && event.which != 17)\n",
       "        value += \"ctrl+\";\n",
       "    if (event.altKey && event.which != 18)\n",
       "        value += \"alt+\";\n",
       "    if (event.shiftKey && event.which != 16)\n",
       "        value += \"shift+\";\n",
       "\n",
       "    value += 'k';\n",
       "    value += event.which.toString();\n",
       "\n",
       "    this._key_event_extra(event, name);\n",
       "\n",
       "    this.send_message(name, {key: value,\n",
       "                             guiEvent: simpleKeys(event)});\n",
       "    return false;\n",
       "}\n",
       "\n",
       "mpl.figure.prototype.toolbar_button_onclick = function(name) {\n",
       "    if (name == 'download') {\n",
       "        this.handle_save(this, null);\n",
       "    } else {\n",
       "        this.send_message(\"toolbar_button\", {name: name});\n",
       "    }\n",
       "};\n",
       "\n",
       "mpl.figure.prototype.toolbar_button_onmouseover = function(tooltip) {\n",
       "    this.message.textContent = tooltip;\n",
       "};\n",
       "mpl.toolbar_items = [[\"Home\", \"Reset original view\", \"fa fa-home icon-home\", \"home\"], [\"Back\", \"Back to previous view\", \"fa fa-arrow-left icon-arrow-left\", \"back\"], [\"Forward\", \"Forward to next view\", \"fa fa-arrow-right icon-arrow-right\", \"forward\"], [\"\", \"\", \"\", \"\"], [\"Pan\", \"Pan axes with left mouse, zoom with right\", \"fa fa-arrows icon-move\", \"pan\"], [\"Zoom\", \"Zoom to rectangle\", \"fa fa-square-o icon-check-empty\", \"zoom\"], [\"\", \"\", \"\", \"\"], [\"Download\", \"Download plot\", \"fa fa-floppy-o icon-save\", \"download\"]];\n",
       "\n",
       "mpl.extensions = [\"eps\", \"jpeg\", \"pdf\", \"png\", \"ps\", \"raw\", \"svg\", \"tif\"];\n",
       "\n",
       "mpl.default_extension = \"png\";var comm_websocket_adapter = function(comm) {\n",
       "    // Create a \"websocket\"-like object which calls the given IPython comm\n",
       "    // object with the appropriate methods. Currently this is a non binary\n",
       "    // socket, so there is still some room for performance tuning.\n",
       "    var ws = {};\n",
       "\n",
       "    ws.close = function() {\n",
       "        comm.close()\n",
       "    };\n",
       "    ws.send = function(m) {\n",
       "        //console.log('sending', m);\n",
       "        comm.send(m);\n",
       "    };\n",
       "    // Register the callback with on_msg.\n",
       "    comm.on_msg(function(msg) {\n",
       "        //console.log('receiving', msg['content']['data'], msg);\n",
       "        // Pass the mpl event to the overridden (by mpl) onmessage function.\n",
       "        ws.onmessage(msg['content']['data'])\n",
       "    });\n",
       "    return ws;\n",
       "}\n",
       "\n",
       "mpl.mpl_figure_comm = function(comm, msg) {\n",
       "    // This is the function which gets called when the mpl process\n",
       "    // starts-up an IPython Comm through the \"matplotlib\" channel.\n",
       "\n",
       "    var id = msg.content.data.id;\n",
       "    // Get hold of the div created by the display call when the Comm\n",
       "    // socket was opened in Python.\n",
       "    var element = $(\"#\" + id);\n",
       "    var ws_proxy = comm_websocket_adapter(comm)\n",
       "\n",
       "    function ondownload(figure, format) {\n",
       "        window.open(figure.imageObj.src);\n",
       "    }\n",
       "\n",
       "    var fig = new mpl.figure(id, ws_proxy,\n",
       "                           ondownload,\n",
       "                           element.get(0));\n",
       "\n",
       "    // Call onopen now - mpl needs it, as it is assuming we've passed it a real\n",
       "    // web socket which is closed, not our websocket->open comm proxy.\n",
       "    ws_proxy.onopen();\n",
       "\n",
       "    fig.parent_element = element.get(0);\n",
       "    fig.cell_info = mpl.find_output_cell(\"<div id='\" + id + \"'></div>\");\n",
       "    if (!fig.cell_info) {\n",
       "        console.error(\"Failed to find cell for figure\", id, fig);\n",
       "        return;\n",
       "    }\n",
       "\n",
       "    var output_index = fig.cell_info[2]\n",
       "    var cell = fig.cell_info[0];\n",
       "\n",
       "};\n",
       "\n",
       "mpl.figure.prototype.handle_close = function(fig, msg) {\n",
       "    var width = fig.canvas.width/mpl.ratio\n",
       "    fig.root.unbind('remove')\n",
       "\n",
       "    // Update the output cell to use the data from the current canvas.\n",
       "    fig.push_to_output();\n",
       "    var dataURL = fig.canvas.toDataURL();\n",
       "    // Re-enable the keyboard manager in IPython - without this line, in FF,\n",
       "    // the notebook keyboard shortcuts fail.\n",
       "    IPython.keyboard_manager.enable()\n",
       "    $(fig.parent_element).html('<img src=\"' + dataURL + '\" width=\"' + width + '\">');\n",
       "    fig.close_ws(fig, msg);\n",
       "}\n",
       "\n",
       "mpl.figure.prototype.close_ws = function(fig, msg){\n",
       "    fig.send_message('closing', msg);\n",
       "    // fig.ws.close()\n",
       "}\n",
       "\n",
       "mpl.figure.prototype.push_to_output = function(remove_interactive) {\n",
       "    // Turn the data on the canvas into data in the output cell.\n",
       "    var width = this.canvas.width/mpl.ratio\n",
       "    var dataURL = this.canvas.toDataURL();\n",
       "    this.cell_info[1]['text/html'] = '<img src=\"' + dataURL + '\" width=\"' + width + '\">';\n",
       "}\n",
       "\n",
       "mpl.figure.prototype.updated_canvas_event = function() {\n",
       "    // Tell IPython that the notebook contents must change.\n",
       "    IPython.notebook.set_dirty(true);\n",
       "    this.send_message(\"ack\", {});\n",
       "    var fig = this;\n",
       "    // Wait a second, then push the new image to the DOM so\n",
       "    // that it is saved nicely (might be nice to debounce this).\n",
       "    setTimeout(function () { fig.push_to_output() }, 1000);\n",
       "}\n",
       "\n",
       "mpl.figure.prototype._init_toolbar = function() {\n",
       "    var fig = this;\n",
       "\n",
       "    var nav_element = $('<div/>');\n",
       "    nav_element.attr('style', 'width: 100%');\n",
       "    this.root.append(nav_element);\n",
       "\n",
       "    // Define a callback function for later on.\n",
       "    function toolbar_event(event) {\n",
       "        return fig.toolbar_button_onclick(event['data']);\n",
       "    }\n",
       "    function toolbar_mouse_event(event) {\n",
       "        return fig.toolbar_button_onmouseover(event['data']);\n",
       "    }\n",
       "\n",
       "    for(var toolbar_ind in mpl.toolbar_items){\n",
       "        var name = mpl.toolbar_items[toolbar_ind][0];\n",
       "        var tooltip = mpl.toolbar_items[toolbar_ind][1];\n",
       "        var image = mpl.toolbar_items[toolbar_ind][2];\n",
       "        var method_name = mpl.toolbar_items[toolbar_ind][3];\n",
       "\n",
       "        if (!name) { continue; };\n",
       "\n",
       "        var button = $('<button class=\"btn btn-default\" href=\"#\" title=\"' + name + '\"><i class=\"fa ' + image + ' fa-lg\"></i></button>');\n",
       "        button.click(method_name, toolbar_event);\n",
       "        button.mouseover(tooltip, toolbar_mouse_event);\n",
       "        nav_element.append(button);\n",
       "    }\n",
       "\n",
       "    // Add the status bar.\n",
       "    var status_bar = $('<span class=\"mpl-message\" style=\"text-align:right; float: right;\"/>');\n",
       "    nav_element.append(status_bar);\n",
       "    this.message = status_bar[0];\n",
       "\n",
       "    // Add the close button to the window.\n",
       "    var buttongrp = $('<div class=\"btn-group inline pull-right\"></div>');\n",
       "    var button = $('<button class=\"btn btn-mini btn-primary\" href=\"#\" title=\"Stop Interaction\"><i class=\"fa fa-power-off icon-remove icon-large\"></i></button>');\n",
       "    button.click(function (evt) { fig.handle_close(fig, {}); } );\n",
       "    button.mouseover('Stop Interaction', toolbar_mouse_event);\n",
       "    buttongrp.append(button);\n",
       "    var titlebar = this.root.find($('.ui-dialog-titlebar'));\n",
       "    titlebar.prepend(buttongrp);\n",
       "}\n",
       "\n",
       "mpl.figure.prototype._root_extra_style = function(el){\n",
       "    var fig = this\n",
       "    el.on(\"remove\", function(){\n",
       "\tfig.close_ws(fig, {});\n",
       "    });\n",
       "}\n",
       "\n",
       "mpl.figure.prototype._canvas_extra_style = function(el){\n",
       "    // this is important to make the div 'focusable\n",
       "    el.attr('tabindex', 0)\n",
       "    // reach out to IPython and tell the keyboard manager to turn it's self\n",
       "    // off when our div gets focus\n",
       "\n",
       "    // location in version 3\n",
       "    if (IPython.notebook.keyboard_manager) {\n",
       "        IPython.notebook.keyboard_manager.register_events(el);\n",
       "    }\n",
       "    else {\n",
       "        // location in version 2\n",
       "        IPython.keyboard_manager.register_events(el);\n",
       "    }\n",
       "\n",
       "}\n",
       "\n",
       "mpl.figure.prototype._key_event_extra = function(event, name) {\n",
       "    var manager = IPython.notebook.keyboard_manager;\n",
       "    if (!manager)\n",
       "        manager = IPython.keyboard_manager;\n",
       "\n",
       "    // Check for shift+enter\n",
       "    if (event.shiftKey && event.which == 13) {\n",
       "        this.canvas_div.blur();\n",
       "        // select the cell after this one\n",
       "        var index = IPython.notebook.find_cell_index(this.cell_info[0]);\n",
       "        IPython.notebook.select(index + 1);\n",
       "    }\n",
       "}\n",
       "\n",
       "mpl.figure.prototype.handle_save = function(fig, msg) {\n",
       "    fig.ondownload(fig, null);\n",
       "}\n",
       "\n",
       "\n",
       "mpl.find_output_cell = function(html_output) {\n",
       "    // Return the cell and output element which can be found *uniquely* in the notebook.\n",
       "    // Note - this is a bit hacky, but it is done because the \"notebook_saving.Notebook\"\n",
       "    // IPython event is triggered only after the cells have been serialised, which for\n",
       "    // our purposes (turning an active figure into a static one), is too late.\n",
       "    var cells = IPython.notebook.get_cells();\n",
       "    var ncells = cells.length;\n",
       "    for (var i=0; i<ncells; i++) {\n",
       "        var cell = cells[i];\n",
       "        if (cell.cell_type === 'code'){\n",
       "            for (var j=0; j<cell.output_area.outputs.length; j++) {\n",
       "                var data = cell.output_area.outputs[j];\n",
       "                if (data.data) {\n",
       "                    // IPython >= 3 moved mimebundle to data attribute of output\n",
       "                    data = data.data;\n",
       "                }\n",
       "                if (data['text/html'] == html_output) {\n",
       "                    return [cell, data, j];\n",
       "                }\n",
       "            }\n",
       "        }\n",
       "    }\n",
       "}\n",
       "\n",
       "// Register the function which deals with the matplotlib target/channel.\n",
       "// The kernel may be null if the page has been refreshed.\n",
       "if (IPython.notebook.kernel != null) {\n",
       "    IPython.notebook.kernel.comm_manager.register_target('matplotlib', mpl.mpl_figure_comm);\n",
       "}\n"
      ],
      "text/plain": [
       "<IPython.core.display.Javascript object>"
      ]
     },
     "metadata": {},
     "output_type": "display_data"
    },
    {
     "data": {
      "text/html": [
       "<img src=\"data:image/png;base64,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\" width=\"800\">"
      ],
      "text/plain": [
       "<IPython.core.display.HTML object>"
      ]
     },
     "metadata": {},
     "output_type": "display_data"
    },
    {
     "data": {
      "application/vnd.jupyter.widget-view+json": {
       "model_id": "fc276c47c8134a599ddcd07128733f66",
       "version_major": 2,
       "version_minor": 0
      },
      "text/plain": [
       "VBox(children=(GridBox(children=(FloatSlider(value=3.0, continuous_update=False, description='\\\\(a\\\\)', max=8.…"
      ]
     },
     "metadata": {},
     "output_type": "display_data"
    }
   ],
   "source": [
    "qei = IPWFigureWithSliders(model=QuadEq())\n",
    "box = qei.interact()"
   ]
  },
  {
   "cell_type": "markdown",
   "metadata": {},
   "source": [
    "## Define data arrays and domains"
   ]
  },
  {
   "cell_type": "code",
   "execution_count": null,
   "metadata": {
    "pycharm": {
     "name": "#%%\n"
    }
   },
   "outputs": [],
   "source": [
    "import numpy as np\n",
    "x_arr = np.linspace(-8,8,100)"
   ]
  },
  {
   "cell_type": "code",
   "execution_count": null,
   "metadata": {
    "pycharm": {
     "name": "#%%\n"
    }
   },
   "outputs": [],
   "source": [
    "import matplotlib.pylab as plt"
   ]
  },
  {
   "cell_type": "code",
   "execution_count": null,
   "metadata": {
    "pycharm": {
     "name": "#%%\n"
    }
   },
   "outputs": [],
   "source": [
    "plt.plot(x_arr, get_y(1,2,3,4,x_arr));\n",
    "plt.plot([get_x_argmax(1,2,3,4)], [get_y_max(1,2,3,4)], 'o' );"
   ]
  },
  {
   "cell_type": "code",
   "execution_count": null,
   "metadata": {
    "pycharm": {
     "name": "#%%\n"
    }
   },
   "outputs": [],
   "source": [
    "get_y(*get_params(param_names, a=1,b=2,c=3,zeta=4)+(3,))"
   ]
  },
  {
   "cell_type": "code",
   "execution_count": null,
   "metadata": {
    "pycharm": {
     "name": "#%%\n"
    }
   },
   "outputs": [],
   "source": [
    "import traits.api as tr\n",
    "import ipywidgets as ipw"
   ]
  },
  {
   "cell_type": "code",
   "execution_count": null,
   "metadata": {
    "pycharm": {
     "name": "#%%\n"
    }
   },
   "outputs": [],
   "source": [
    "@tr.provides(IModel)\n",
    "class QuadEq(tr.HasTraits):\n",
    "    a = tr.Float(3, param=True, latex='a', minmax=(-8,8))\n",
    "    b = tr.Float(3, param=True, latex='b', minmax=(-8,8))\n",
    "    c = tr.Float(3, param=True, latex='c', minmax=(-8,8))\n",
    "    zeta = tr.Float(3, param=True, latex=r'\\zeta', minmax=(-8,8))\n",
    "    param_names = param_names"
   ]
  },
  {
   "cell_type": "code",
   "execution_count": null,
   "metadata": {
    "pycharm": {
     "name": "#%%\n"
    }
   },
   "outputs": [],
   "source": [
    "qei = ModelInteract(model=QuadEq())\n",
    "\n",
    "qei.ipw_interact()"
   ]
  },
  {
   "cell_type": "code",
   "execution_count": null,
   "metadata": {
    "pycharm": {
     "name": "#%%\n"
    }
   },
   "outputs": [],
   "source": []
  },
  {
   "cell_type": "markdown",
   "metadata": {},
   "source": [
    "## Define data arrays and domains"
   ]
  },
  {
   "cell_type": "code",
   "execution_count": null,
   "metadata": {},
   "outputs": [],
   "source": [
    "import numpy as np\n",
    "x_arr = np.linspace(-8,8,100)"
   ]
  },
  {
   "cell_type": "code",
   "execution_count": null,
   "metadata": {},
   "outputs": [],
   "source": [
    "import matplotlib.pylab as plt"
   ]
  },
  {
   "cell_type": "code",
   "execution_count": null,
   "metadata": {},
   "outputs": [],
   "source": [
    "plt.plot(x_arr, get_y(1,2,3,4,x_arr));"
   ]
  },
  {
   "cell_type": "code",
   "execution_count": null,
   "metadata": {},
   "outputs": [],
   "source": [
    "get_y(*get_params(param_names, a=1,b=2,c=3,zeta=4)+(3,))"
   ]
  },
  {
   "cell_type": "code",
   "execution_count": null,
   "metadata": {},
   "outputs": [],
   "source": [
    "import traits.api as tr\n",
    "import ipywidgets as ipw"
   ]
  },
  {
   "cell_type": "code",
   "execution_count": null,
   "metadata": {},
   "outputs": [],
   "source": [
    "qei = ModelInteract(model=QuadEq())\n",
    "\n",
    "qei.ipw_interact()"
   ]
  },
  {
   "cell_type": "code",
   "execution_count": null,
   "metadata": {},
   "outputs": [],
   "source": []
  }
 ],
 "metadata": {
  "kernelspec": {
   "display_name": "Python 3",
   "language": "python",
   "name": "python3"
  },
  "language_info": {
   "codemirror_mode": {
    "name": "ipython",
    "version": 3
   },
   "file_extension": ".py",
   "mimetype": "text/x-python",
   "name": "python",
   "nbconvert_exporter": "python",
   "pygments_lexer": "ipython3",
   "version": "3.7.6"
  },
  "toc": {
   "base_numbering": 1,
   "nav_menu": {},
   "number_sections": true,
   "sideBar": true,
   "skip_h1_title": true,
   "title_cell": "Table of Contents",
   "title_sidebar": "Contents",
   "toc_cell": false,
   "toc_position": {
    "height": "calc(100% - 180px)",
    "left": "10px",
    "top": "150px",
    "width": "165px"
   },
   "toc_section_display": true,
   "toc_window_display": true
  }
 },
 "nbformat": 4,
 "nbformat_minor": 1
}
