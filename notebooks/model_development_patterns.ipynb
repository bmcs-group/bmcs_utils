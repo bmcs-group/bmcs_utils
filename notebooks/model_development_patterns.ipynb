{
 "cells": [
  {
   "cell_type": "markdown",
   "metadata": {
    "collapsed": true
   },
   "source": [
    "# From symbols and expressions to interactive webapps"
   ]
  },
  {
   "cell_type": "markdown",
   "metadata": {},
   "source": [
    "Model development follows a general work flow\n",
    "\n",
    "**Phase I: Jupyter development phase**\n",
    "1. Derive the model equations, use sympy to rapidly prototype algebraic, differential and integral formulas involved in the model\n",
    "2. Transform the important expressions to executable python functions using `sp.lambdify` with `numpy` interface to evaluate derived formulas on arrays\n",
    "3. Test the and demonstrate the correctness of the expressions using visualization `matplotlib` singular plots. Even better, provide an interaction interfaces using `ipywidgets`. \n",
    "\n",
    "**Phase II: Python packaging phase**\n",
    "4. Define a class diagram reflecting the physical nature of the problem with objects (Beam, Materialmodel, Reinforcementbar).\n",
    "5. Associate the executable functions derived in the Phase I with the class as methods or as properties\n",
    "6. Provide an application programming interface\n",
    "\n",
    "**Phase III: Jupyter examples/studies/webapp**\n",
    "6. Import the designed Python package into the a Jupyter notebooks, explain and demonstrate the features of the package. \n",
    "7. Design a jupyter interface using `ipywidgets` showing the functionality of an implemented package in an interactive way\n",
    "8. Provide one or more Jupyter notebooks as webapps on `github` that can be executed using the `binder` service. \n",
    "9. Use `zenodo` to produce a doi to enable package citations in papers. "
   ]
  },
  {
   "cell_type": "markdown",
   "metadata": {},
   "source": [
    "@TODO - installation on pypi - \n",
    "`pip install bmcs_beam`"
   ]
  },
  {
   "cell_type": "markdown",
   "metadata": {},
   "source": [
    "## Sympy model definition"
   ]
  },
  {
   "cell_type": "code",
   "execution_count": 2,
   "metadata": {},
   "outputs": [],
   "source": [
    "%matplotlib widget"
   ]
  },
  {
   "cell_type": "code",
   "execution_count": 3,
   "metadata": {},
   "outputs": [],
   "source": [
    "import sympy as sp\n",
    "sp.init_printing()"
   ]
  },
  {
   "cell_type": "markdown",
   "metadata": {
    "pycharm": {
     "name": "#%% md\n"
    }
   },
   "source": [
    "Let us construct a model calculating extreme values a quadratic function\n",
    "\\begin{align}\n",
    "y = ax^2 + bx + c\n",
    "\\end{align}\n",
    "This function represents our model"
   ]
  },
  {
   "cell_type": "code",
   "execution_count": 4,
   "metadata": {
    "pycharm": {
     "name": "#%% md\n"
    }
   },
   "outputs": [],
   "source": [
    "a, b, c, zeta = sp.symbols(r'a,b,c,\\zeta_\\mathrm{roman}')\n",
    "x = sp.Symbol('x')"
   ]
  },
  {
   "cell_type": "code",
   "execution_count": 5,
   "metadata": {},
   "outputs": [
    {
     "data": {
      "image/png": "[encoded data removed]",
      "text/latex": [
       "$\\displaystyle \\zeta_\\mathrm{roman} x + a x^{2} + b x + c$"
      ],
      "text/plain": [
       "                            2          \n",
       "\\zeta_\\mathrm{roman}⋅x + a⋅x  + b⋅x + c"
      ]
     },
     "execution_count": 5,
     "metadata": {},
     "output_type": "execute_result"
    }
   ],
   "source": [
    "y_ = a * x**2 + b * x + c + zeta*x\n",
    "y_"
   ]
  },
  {
   "cell_type": "code",
   "execution_count": 6,
   "metadata": {},
   "outputs": [
    {
     "data": {
      "image/png": "[encoded data removed]",
      "text/latex": [
       "$\\displaystyle \\zeta_\\mathrm{roman} + 2 a x + b$"
      ],
      "text/plain": [
       "\\zeta_\\mathrm{roman} + 2⋅a⋅x + b"
      ]
     },
     "execution_count": 6,
     "metadata": {},
     "output_type": "execute_result"
    }
   ],
   "source": [
    "y_dx_ = y_.diff(x)\n",
    "y_dx_"
   ]
  },
  {
   "cell_type": "code",
   "execution_count": 7,
   "metadata": {},
   "outputs": [
    {
     "data": {
      "image/png": "[encoded data removed]",
      "text/latex": [
       "$\\displaystyle - \\frac{\\zeta_\\mathrm{roman} + b}{2 a}$"
      ],
      "text/plain": [
       "-(\\zeta_\\mathrm{roman} + b) \n",
       "────────────────────────────\n",
       "            2⋅a             "
      ]
     },
     "execution_count": 7,
     "metadata": {},
     "output_type": "execute_result"
    }
   ],
   "source": [
    "x_argmax_ = sp.solve(y_dx_, x)[0]\n",
    "x_argmax_"
   ]
  },
  {
   "cell_type": "markdown",
   "metadata": {
    "pycharm": {
     "name": "#%% md\n"
    }
   },
   "source": [
    "## Lambdify the symbolic functions"
   ]
  },
  {
   "cell_type": "markdown",
   "metadata": {},
   "source": [
    "In `sympy` symbolic expressions be transformed to numerical functions \n",
    "using the `lambdify` method. Thus, the following code generates the \n",
    "callable functions for a specified value of the variable `x` and the \n",
    "model parameters `a,b,c,zeta`."
   ]
  },
  {
   "cell_type": "code",
   "execution_count": 8,
   "metadata": {
    "pycharm": {
     "name": "#%%\n"
    }
   },
   "outputs": [],
   "source": [
    "get_x_argmax = sp.lambdify((a,b,c,zeta), x_argmax_, 'numpy', dummify=True)\n",
    "get_y = sp.lambdify((x,a,b,c,zeta), y_, 'numpy', dummify=True)\n",
    "get_y_dx = sp.lambdify((x,a,b,c,zeta), y_dx_, 'numpy')"
   ]
  },
  {
   "cell_type": "markdown",
   "metadata": {
    "pycharm": {
     "name": "#%% md\n"
    }
   },
   "source": [
    "However, repeating the parameters for several model parameters can \n",
    "become error prone. Moreover, the parameters are usually part \n",
    "of some model entity, e.g. `MaterialModel` or `CrossSection`.\n",
    "Or `ShearZone`. To standardize the transition from a symbolic\n",
    "part of the model formulation to the numerical one the \n",
    "`SymbExpr` class can be use to alleviate this step."
   ]
  },
  {
   "cell_type": "code",
   "execution_count": 9,
   "metadata": {
    "pycharm": {
     "name": "#%%\n"
    }
   },
   "outputs": [
    {
     "data": {
      "image/png": "[encoded data removed]",
      "text/latex": [
       "$\\displaystyle - \\frac{\\zeta_\\mathrm{roman} + b}{2 a}$"
      ],
      "text/plain": [
       "-(\\zeta_\\mathrm{roman} + b) \n",
       "────────────────────────────\n",
       "            2⋅a             "
      ]
     },
     "execution_count": 9,
     "metadata": {},
     "output_type": "execute_result"
    }
   ],
   "source": [
    "from bmcs_utils.api import SymbExpr, InjectSymbExpr\n",
    "class QuadSymbExpr(SymbExpr):\n",
    "    # variables\n",
    "    x = x\n",
    "    # model parameters\n",
    "    a = a\n",
    "    b = b\n",
    "    c = c\n",
    "    zeta = zeta\n",
    "    # symbolic expressions\n",
    "    x_argmax = x_argmax_\n",
    "    y = y_\n",
    "    y_dx = y_dx_\n",
    "    \n",
    "    symb_model_params = ['a','b','c','zeta']\n",
    "\n",
    "#     symb_model_params = {\n",
    "#         'a' : a,\n",
    "#         'b' : b\n",
    "#     }\n",
    "#   @todo:\n",
    "#     symb_expressions = {\n",
    "#         'get_x_argmax' : x_argmax_,\n",
    "#         'get_y' : (y_, (x))\n",
    "#     }\n",
    "    symb_expressions = [\n",
    "        ('x_argmax', () ),\n",
    "        ('y', ('x',)),\n",
    "        ('y_dx', ('x',))\n",
    "    ]\n",
    "\n",
    "qs = QuadSymbExpr()\n",
    "qs.x_argmax"
   ]
  },
  {
   "cell_type": "markdown",
   "metadata": {},
   "source": [
    "## Define a model class\n",
    "The basic logical unit of the application is a model class\n",
    "which introduces and controls the state of the model.\n",
    "Not that the `SymbExpr` class has no state - it only \n",
    "defines the mapping from inputs to outputs using symbolic expressions.\n",
    "\n",
    "The model class defines the model parameters in form of traits (attributes)\n",
    "It defines further python methods that access the injected methods.\n",
    "The example below shows a class using the injection from `QuadSymbExpr`\n",
    "and adds a function that returns the `y_extreme` value."
   ]
  },
  {
   "cell_type": "markdown",
   "metadata": {},
   "source": [
    "Note that in the calls to the injections `symb` no model parameters\n",
    "need to be specified. They will be automatically fetched from the model\n",
    "by the `QuadSymbExpr`. The control variable `x`, however, has to be supplied."
   ]
  },
  {
   "cell_type": "markdown",
   "metadata": {},
   "source": [
    "## Interactive model"
   ]
  },
  {
   "cell_type": "code",
   "execution_count": 23,
   "metadata": {},
   "outputs": [],
   "source": [
    "from bmcs_utils.api import \\\n",
    "    Model, View, Item, InjectSymbExpr, Float"
   ]
  },
  {
   "cell_type": "markdown",
   "metadata": {
    "pycharm": {
     "name": "#%% md\n"
    }
   },
   "source": [
    "Define a model class with trait attributes representing the\n",
    "model parameters. The `trait.api` package provides the basic\n",
    "types `Int`, `Float`, `Str`, `Array`, `List`, `Dict`\n",
    "\n",
    "Define `subplots` method and `update_plot` method."
   ]
  },
  {
   "cell_type": "code",
   "execution_count": 26,
   "metadata": {
    "pycharm": {
     "name": "#%%\n"
    }
   },
   "outputs": [],
   "source": [
    "import numpy as np\n",
    "\n",
    "class QuadModel(Model, InjectSymbExpr):\n",
    "    \n",
    "    name='Quad'\n",
    "    symb_class = QuadSymbExpr\n",
    "\n",
    "    a = Float(1, MAT=True)\n",
    "    b = Float(1, MAT=True)\n",
    "    c = Float(1, MAT=True)\n",
    "    zeta = Float(1, MAT=True)\n",
    "\n",
    "    def subplots(self, fig):\n",
    "        return fig.subplots(1, 2)\n",
    "\n",
    "    def update_plot(self, axes):\n",
    "        ax1, ax2 = axes\n",
    "        x = np.linspace(-8,8,50)\n",
    "        y = self.symb.get_y(x)\n",
    "        y_dx = self.symb.get_y_dx(x)\n",
    "        # ax1.plot([self.symb.get_x_argmax()], [self.get_y_extreme()], 'o',\n",
    "        #         color='red');\n",
    "        ax1.fill_between(x, y, 0, alpha=0.8);\n",
    "        ax2.plot(x, y_dx);\n",
    "        ax2.fill_between(x, y_dx, 0, color='green', alpha=0.8);\n",
    "        \n",
    "    ipw_view = View(\n",
    "        Item('a',minmax=(-10,10), latex='a'),\n",
    "        Item('b',minmax=(-10,10), latex='b'),\n",
    "        Item('c',minmax=(-10,10), latex='c'),\n",
    "        Item('zeta',minmax=(-10,10), latex='zeta'),\n",
    "    )"
   ]
  },
  {
   "cell_type": "code",
   "execution_count": 27,
   "metadata": {
    "pycharm": {
     "name": "#%%\n"
    }
   },
   "outputs": [
    {
     "data": {
      "application/vnd.jupyter.widget-view+json": {
       "model_id": "ec92808222fb4fbfb7bcb3e453c6f7c9",
       "version_major": 2,
       "version_minor": 0
      },
      "text/plain": [
       "Output()"
      ]
     },
     "metadata": {},
     "output_type": "display_data"
    },
    {
     "data": {
      "application/vnd.jupyter.widget-view+json": {
       "model_id": "8cc279baffc04f0aa340d7db0271b135",
       "version_major": 2,
       "version_minor": 0
      },
      "text/plain": [
       "VBox(children=(HBox(children=(VBox(children=(Tree(layout=Layout(align_items='stretch', border='solid 1px black…"
      ]
     },
     "metadata": {},
     "output_type": "display_data"
    }
   ],
   "source": [
    "qim = QuadModel()\n",
    "qim.interact()"
   ]
  },
  {
   "cell_type": "code",
   "execution_count": 28,
   "metadata": {},
   "outputs": [],
   "source": [
    "class LinModel(Model):\n",
    "    name='Lin'\n",
    "\n",
    "    a = Float(3)\n",
    "    b = Float(3)\n",
    "\n",
    "    ipw_view = View(\n",
    "        Item('a', param=True, latex='a', minmax=(-8,8)),\n",
    "        Item('b', param=True, latex='b', minmax=(-8,8))\n",
    "    )\n",
    "\n",
    "    def subplots(self, fig):\n",
    "        return fig.subplots(1)\n",
    "\n",
    "    def update_plot(self, ax):\n",
    "        x_arr = np.linspace(-8,8,50)\n",
    "        y_arr = self.a * x_arr + self.b\n",
    "        ax.fill_between(x_arr, y_arr,0,alpha=0.8);"
   ]
  },
  {
   "cell_type": "code",
   "execution_count": null,
   "metadata": {},
   "outputs": [],
   "source": []
  }
 ],
 "metadata": {
  "interpreter": {
   "hash": "ebcff91b5d652715d8939a8899ef0ddafa7c15917479d2b47c651d9565cfe207"
  },
  "kernelspec": {
   "display_name": "PyCharm (bmcs_fragmentation)",
   "language": "python",
   "name": "python3"
  },
  "language_info": {
   "codemirror_mode": {
    "name": "ipython",
    "version": 3
   },
   "file_extension": ".py",
   "mimetype": "text/x-python",
   "name": "python",
   "nbconvert_exporter": "python",
   "pygments_lexer": "ipython3",
   "version": "3.9.0"
  },
  "toc": {
   "base_numbering": 1,
   "nav_menu": {},
   "number_sections": true,
   "sideBar": true,
   "skip_h1_title": true,
   "title_cell": "Table of Contents",
   "title_sidebar": "Contents",
   "toc_cell": false,
   "toc_position": {
    "height": "calc(100% - 180px)",
    "left": "10px",
    "top": "150px",
    "width": "165px"
   },
   "toc_section_display": true,
   "toc_window_display": false
  }
 },
 "nbformat": 4,
 "nbformat_minor": 1
}
