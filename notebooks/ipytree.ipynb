{
 "cells": [
  {
   "cell_type": "code",
   "execution_count": 1,
   "id": "related-conservation",
   "metadata": {},
   "outputs": [],
   "source": [
    "from ipytree import Tree, Node"
   ]
  },
  {
   "cell_type": "code",
   "execution_count": 2,
   "id": "optimum-disclaimer",
   "metadata": {},
   "outputs": [
    {
     "data": {
      "application/vnd.jupyter.widget-view+json": {
       "model_id": "0e5425a9adc14a11a0e875187b806543",
       "version_major": 2,
       "version_minor": 0
      },
      "text/plain": [
       "Tree(nodes=(Node(name='Node1'), Node(name='Node2'), Node(name='Node3')))"
      ]
     },
     "metadata": {},
     "output_type": "display_data"
    }
   ],
   "source": [
    "tree=Tree()\n",
    "\n",
    "tree.add_node(Node(\"Node1\"))\n",
    "tree.add_node(Node(\"Node2\"))\n",
    "tree.add_node(Node(\"Node3\"))\n",
    "\n",
    "tree"
   ]
  },
  {
   "cell_type": "code",
   "execution_count": 3,
   "id": "confirmed-religion",
   "metadata": {},
   "outputs": [
    {
     "name": "stdout",
     "output_type": "stream",
     "text": [
      "handle {'name': 'selected', 'old': False, 'new': True, 'owner': Node(name='Node1', selected=True), 'type': 'change'}\n"
     ]
    },
    {
     "data": {
      "application/vnd.jupyter.widget-view+json": {
       "model_id": "806e3b20fa844a989c900c7c348d9b26",
       "version_major": 2,
       "version_minor": 0
      },
      "text/plain": [
       "Tree(nodes=(Node(name='Selected', selected=True), Node(name='Node2'), Node(name='Node3', nodes=(Node(name='Nod…"
      ]
     },
     "metadata": {},
     "output_type": "display_data"
    }
   ],
   "source": [
    "tree4  = Tree()\n",
    "\n",
    "node1 = Node(\"Node1\")\n",
    "\n",
    "tree4.add_node(node1)\n",
    "tree4.add_node(Node(\"Node2\"))\n",
    "tree4.add_node(Node(\"Node3\", [Node(\"Node4\"), Node(\"Node5\")]))\n",
    "\n",
    "\n",
    "def handle_click(event):\n",
    "    print('handle', event)\n",
    "    event['owner'].name = 'Selected' if event['new'] else 'Not Selected'\n",
    "\n",
    "node1.observe(handle_click, 'selected')\n",
    "node1.selected = True\n",
    "\n",
    "tree4"
   ]
  },
  {
   "cell_type": "code",
   "execution_count": null,
   "id": "molecular-costa",
   "metadata": {},
   "outputs": [],
   "source": []
  },
  {
   "cell_type": "code",
   "execution_count": null,
   "id": "formal-executive",
   "metadata": {},
   "outputs": [],
   "source": []
  }
 ],
 "metadata": {
  "kernelspec": {
   "display_name": "bmcs_env",
   "language": "python",
   "name": "bmcs_env"
  },
  "language_info": {
   "codemirror_mode": {
    "name": "ipython",
    "version": 3
   },
   "file_extension": ".py",
   "mimetype": "text/x-python",
   "name": "python",
   "nbconvert_exporter": "python",
   "pygments_lexer": "ipython3",
   "version": "3.9.1"
  },
  "toc": {
   "base_numbering": 1,
   "nav_menu": {},
   "number_sections": true,
   "sideBar": true,
   "skip_h1_title": false,
   "title_cell": "Table of Contents",
   "title_sidebar": "Contents",
   "toc_cell": false,
   "toc_position": {},
   "toc_section_display": true,
   "toc_window_display": false
  }
 },
 "nbformat": 4,
 "nbformat_minor": 5
}
