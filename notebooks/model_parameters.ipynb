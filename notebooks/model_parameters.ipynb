{
 "cells": [
  {
   "cell_type": "markdown",
   "metadata": {
    "collapsed": true
   },
   "source": [
    "# Parameters from symbols to input fields "
   ]
  },
  {
   "cell_type": "markdown",
   "metadata": {},
   "source": [
    "Model development follows the general work flow\n",
    "\n",
    "**Phase I: Jupyter development phase**\n",
    "1. Derive the model equations, use sympy to rapidly prototype algebraic, differential and integral formulas involved in the model\n",
    "2. Transform the important expressions to executable python functions using `sp.lambdify` with `numpy` interface to evaluate derived formulas on arrays\n",
    "3. Test the and demonstrate the correctness of the expressions using visualization `matplotlib` singular plots. Even better, provide an interaction interfaces using `ipywidgets`. \n",
    "\n",
    "**Phase II: Python packaging phase**\n",
    "4. Define a class diagram reflecting the physical nature of the problem with objects (Beam, Materialmodel, Reinforcementbar).\n",
    "5. Associate the executable functions derived in the Phase I with the class as methods or as properties\n",
    "6. Provide an application programming interface\n",
    "\n",
    "**Phase III: Jupyter examples/studies/webapp**\n",
    "6. Import the designed Python package into the a Jupyter notebooks, explain and demonstrate the features of the package. \n",
    "7. Design a jupyter interface using `ipywidgets` showing the functionality of an implemented package in an interactive way\n",
    "8. Provide one or more Jupyter notebooks as webapps on `github` that can be executed using the `binder` service. \n",
    "9. Use `zenodo` to produce a doi to enable package citations in papers. "
   ]
  },
  {
   "cell_type": "markdown",
   "metadata": {},
   "source": [
    "## Sympy model definition"
   ]
  },
  {
   "cell_type": "code",
   "execution_count": 1,
   "metadata": {},
   "outputs": [],
   "source": [
    "%matplotlib inline"
   ]
  },
  {
   "cell_type": "code",
   "execution_count": 6,
   "metadata": {
    "pycharm": {
     "name": "#%%\n"
    }
   },
   "outputs": [],
   "source": [
    "import sympy as sp\n",
    "sp.init_printing()"
   ]
  },
  {
   "cell_type": "markdown",
   "metadata": {
    "pycharm": {
     "name": "#%% md\n"
    }
   },
   "source": [
    "Let us construct a model calculating extreme values a quadratic function\n",
    "\\begin{align}\n",
    "y = ax^2 + bx + c\n",
    "\\end{align}\n",
    "This function represents our model"
   ]
  },
  {
   "cell_type": "code",
   "execution_count": 7,
   "metadata": {},
   "outputs": [],
   "source": [
    "a, b, c, zeta = sp.symbols(r'a,b,c,\\zeta_\\mathrm{roman}')\n",
    "x = sp.Symbol('x')"
   ]
  },
  {
   "cell_type": "code",
   "execution_count": 10,
   "metadata": {},
   "outputs": [
    {
     "data": {
      "image/png": "[encoded data removed]",
      "text/latex": [
       "$\\displaystyle \\zeta_\\mathrm{roman} x + a x^{2} + b x + c$"
      ],
      "text/plain": [
       "                            2          \n",
       "\\zeta_\\mathrm{roman}⋅x + a⋅x  + b⋅x + c"
      ]
     },
     "execution_count": 10,
     "metadata": {},
     "output_type": "execute_result"
    }
   ],
   "source": [
    "y_ = a * x**2 + b * x + c + zeta*x\n",
    "y_"
   ]
  },
  {
   "cell_type": "code",
   "execution_count": 12,
   "metadata": {},
   "outputs": [
    {
     "data": {
      "image/png": "[encoded data removed]",
      "text/latex": [
       "$\\displaystyle \\zeta_\\mathrm{roman} + 2 a x + b$"
      ],
      "text/plain": [
       "\\zeta_\\mathrm{roman} + 2⋅a⋅x + b"
      ]
     },
     "execution_count": 12,
     "metadata": {},
     "output_type": "execute_result"
    }
   ],
   "source": [
    "y_dx_ = y_.diff(x)\n",
    "y_dx_"
   ]
  },
  {
   "cell_type": "code",
   "execution_count": 16,
   "metadata": {},
   "outputs": [
    {
     "data": {
      "image/png": "[encoded data removed]",
      "text/latex": [
       "$\\displaystyle - \\frac{\\zeta_\\mathrm{roman} + b}{2 a}$"
      ],
      "text/plain": [
       "-(\\zeta_\\mathrm{roman} + b) \n",
       "────────────────────────────\n",
       "            2⋅a             "
      ]
     },
     "execution_count": 16,
     "metadata": {},
     "output_type": "execute_result"
    }
   ],
   "source": [
    "x_argmax_ = sp.solve(y_dx_, x)[0]\n",
    "x_argmax_"
   ]
  },
  {
   "cell_type": "code",
   "execution_count": 17,
   "metadata": {},
   "outputs": [],
   "source": []
  },
  {
   "cell_type": "code",
   "execution_count": 19,
   "metadata": {
    "pycharm": {
     "name": "#%%\n"
    }
   },
   "outputs": [
    {
     "data": {
      "image/png": "[encoded data removed]",
      "text/latex": [
       "$\\displaystyle \\left( a, \\  b, \\  c, \\  \\zeta_\\mathrm{roman}\\right)$"
      ],
      "text/plain": [
       "(a, b, c, \\zeta_\\mathrm{roman})"
      ]
     },
     "execution_count": 19,
     "metadata": {},
     "output_type": "execute_result"
    }
   ],
   "source": [
    "param_names = ('a', 'b', 'c', 'zeta')\n",
    "get_params = lambda param_names, **kw: tuple(kw[name] for name in param_names)\n",
    "sp_params = tuple(globals()[name] for name in param_names)\n",
    "sp_params"
   ]
  },
  {
   "cell_type": "markdown",
   "metadata": {
    "pycharm": {
     "name": "#%% md\n"
    }
   },
   "source": [
    "## Lambdify the symbolic functions"
   ]
  },
  {
   "cell_type": "code",
   "execution_count": 24,
   "metadata": {
    "pycharm": {
     "name": "#%%\n"
    }
   },
   "outputs": [],
   "source": [
    "get_x_argmax = sp.lambdify(sp_params, x_argmax_, 'numpy', dummify=True)\n",
    "get_y = sp.lambdify(sp_params + (x,), y_, 'numpy', dummify=True)"
   ]
  },
  {
   "cell_type": "markdown",
   "metadata": {
    "pycharm": {
     "name": "#%% md\n"
    }
   },
   "source": [
    "## Define derived functions"
   ]
  },
  {
   "cell_type": "code",
   "execution_count": 33,
   "metadata": {},
   "outputs": [],
   "source": [
    "def get_y_max(*args):\n",
    "    x = get_x_argmax(*args)\n",
    "    return get_y(*args + (x,))"
   ]
  },
  {
   "cell_type": "code",
   "execution_count": 34,
   "metadata": {},
   "outputs": [],
   "source": [
    "param_dict = dict(a=1,b=2,c=3,zeta=4)"
   ]
  },
  {
   "cell_type": "code",
   "execution_count": 35,
   "metadata": {},
   "outputs": [
    {
     "data": {
      "image/png": "[encoded data removed]",
      "text/latex": [
       "$\\displaystyle -6.0$"
      ],
      "text/plain": [
       "-6.0"
      ]
     },
     "execution_count": 35,
     "metadata": {},
     "output_type": "execute_result"
    }
   ],
   "source": [
    "get_y_max(1,2,3,4)"
   ]
  },
  {
   "cell_type": "code",
   "execution_count": 36,
   "metadata": {},
   "outputs": [
    {
     "data": {
      "image/png": "[encoded data removed]",
      "text/latex": [
       "$\\displaystyle -6.0$"
      ],
      "text/plain": [
       "-6.0"
      ]
     },
     "execution_count": 36,
     "metadata": {},
     "output_type": "execute_result"
    }
   ],
   "source": [
    "get_y_max(*get_params(param_names,**param_dict))"
   ]
  },
  {
   "cell_type": "code",
   "execution_count": null,
   "outputs": [],
   "source": [
    "get_x_argmax(3,4,5,6)"
   ],
   "metadata": {
    "collapsed": false,
    "pycharm": {
     "name": "#%%\n"
    }
   }
  },
  {
   "cell_type": "markdown",
   "source": [
    "## Define data arrays and domains"
   ],
   "metadata": {
    "collapsed": false
   }
  },
  {
   "cell_type": "code",
   "execution_count": null,
   "outputs": [],
   "source": [
    "import numpy as np\n",
    "x_arr = np.linspace(-8,8,100)"
   ],
   "metadata": {
    "collapsed": false,
    "pycharm": {
     "name": "#%%\n"
    }
   }
  },
  {
   "cell_type": "code",
   "execution_count": null,
   "outputs": [],
   "source": [
    "import matplotlib.pylab as plt"
   ],
   "metadata": {
    "collapsed": false,
    "pycharm": {
     "name": "#%%\n"
    }
   }
  },
  {
   "cell_type": "code",
   "execution_count": null,
   "outputs": [],
   "source": [
    "plt.plot(x_arr, get_y(1,2,3,4,x_arr));\n",
    "plt.plot([get_x_argmax(1,2,3,4)], [get_y_max(1,2,3,4)], 'o' );"
   ],
   "metadata": {
    "collapsed": false,
    "pycharm": {
     "name": "#%%\n"
    }
   }
  },
  {
   "cell_type": "code",
   "execution_count": null,
   "outputs": [],
   "source": [
    "get_y(*get_params(param_names, a=1,b=2,c=3,zeta=4)+(3,))"
   ],
   "metadata": {
    "collapsed": false,
    "pycharm": {
     "name": "#%%\n"
    }
   }
  },
  {
   "cell_type": "code",
   "execution_count": null,
   "outputs": [],
   "source": [
    "import traits.api as tr\n",
    "import ipywidgets as ipw"
   ],
   "metadata": {
    "collapsed": false,
    "pycharm": {
     "name": "#%%\n"
    }
   }
  },
  {
   "cell_type": "code",
   "execution_count": null,
   "outputs": [],
   "source": [
    "class IModel(tr.Interface):\n",
    "    '''Base class for interactive models'''\n",
    "\n",
    "class ModelInteract(tr.HasStrictTraits):\n",
    "    '''Model showing the max of the quadratic function'''\n",
    "\n",
    "    model = tr.Instance(IModel)\n",
    "    \n",
    "    def ipw_interact(self):\n",
    "        sliders = self.get_sliders()\n",
    "        out = ipw.interactive_output(self.update_fields, sliders);\n",
    "        self.widget_layout(out, sliders)\n",
    "\n",
    "    n_steps = tr.Int(20)\n",
    "    \n",
    "    def get_sliders(self):\n",
    "        param_names = self.model.param_names\n",
    "        traits = self.model.traits(param=True)\n",
    "        vals = self.model.trait_get(param=True)\n",
    "        val_ = [vals[name] for name in param_names]\n",
    "        minmax_ = [getattr(traits[name],'minmax', 2) for name in param_names]\n",
    "        latex_ = [getattr(traits[name],'latex', r'<none>') for name in param_names]\n",
    "        return {name : ipw.FloatSlider(\n",
    "            value=val, min=minmax[0], max=minmax[1],\n",
    "            step=(minmax[1]-minmax[0]) / self.n_steps,\n",
    "            description=r'\\(%s\\)' % latex)\n",
    "            for (name, val, latex, minmax) in \n",
    "                zip(param_names, val_, latex_, minmax_)\n",
    "        }\n",
    "\n",
    "    def update_fields(self, **values):\n",
    "        self.model.trait_set(**values)\n",
    "        print(values)\n",
    "\n",
    "    def widget_layout(self, out, sliders):\n",
    "        layout = ipw.Layout(grid_template_columns='1fr 1fr')\n",
    "        param_sliders_list = [sliders[name] for name in param_names]\n",
    "        grid = ipw.GridBox(param_sliders_list, layout=layout)\n",
    "        box = ipw.VBox([grid, out])\n",
    "        display(box)"
   ],
   "metadata": {
    "collapsed": false,
    "pycharm": {
     "name": "#%%\n"
    }
   }
  },
  {
   "cell_type": "code",
   "execution_count": null,
   "outputs": [],
   "source": [
    "@tr.provides(IModel)\n",
    "class QuadEq(tr.HasTraits):\n",
    "    a = tr.Float(3, param=True, latex='a', minmax=(-8,8))\n",
    "    b = tr.Float(3, param=True, latex='b', minmax=(-8,8))\n",
    "    c = tr.Float(3, param=True, latex='c', minmax=(-8,8))\n",
    "    zeta = tr.Float(3, param=True, latex=r'\\zeta', minmax=(-8,8))\n",
    "    param_names = param_names"
   ],
   "metadata": {
    "collapsed": false,
    "pycharm": {
     "name": "#%%\n"
    }
   }
  },
  {
   "cell_type": "code",
   "execution_count": null,
   "outputs": [],
   "source": [
    "qei = ModelInteract(model=QuadEq())\n",
    "\n",
    "qei.ipw_interact()"
   ],
   "metadata": {
    "collapsed": false,
    "pycharm": {
     "name": "#%%\n"
    }
   }
  },
  {
   "cell_type": "code",
   "execution_count": null,
   "outputs": [],
   "source": [],
   "metadata": {
    "collapsed": false,
    "pycharm": {
     "name": "#%%\n"
    }
   }
  },
  {
   "cell_type": "code",
   "execution_count": 37,
   "metadata": {
    "pycharm": {
     "name": "#%%\n"
    }
   },
   "outputs": [
    {
     "data": {
      "image/png": "[encoded data removed]",
      "text/latex": [
       "$\\displaystyle -1.6666666666666667$"
      ],
      "text/plain": [
       "-1.6666666666666667"
      ]
     },
     "execution_count": 37,
     "metadata": {},
     "output_type": "execute_result"
    }
   ],
   "source": [
    "## Define data arrays and domains"
   ]
  },
  {
   "cell_type": "markdown",
   "metadata": {},
   "source": [
    "## Define data arrays and domains"
   ]
  },
  {
   "cell_type": "code",
   "execution_count": 38,
   "metadata": {
    "pycharm": {
     "name": "#%%\n"
    }
   },
   "outputs": [],
   "source": [
    "import numpy as np\n",
    "x_arr = np.linspace(-8,8,100)"
   ]
  },
  {
   "cell_type": "code",
   "execution_count": 39,
   "metadata": {
    "pycharm": {
     "name": "#%%\n"
    }
   },
   "outputs": [],
   "source": [
    "import matplotlib.pylab as plt"
   ]
  },
  {
   "cell_type": "code",
   "execution_count": 43,
   "metadata": {
    "pycharm": {
     "name": "#%%\n"
    }
   },
   "outputs": [
    {
     "data": {
      "image/png": "[encoded data removed]",
      "text/plain": [
       "<Figure size 432x288 with 1 Axes>"
      ]
     },
     "metadata": {
      "needs_background": "light"
     },
     "output_type": "display_data"
    }
   ],
   "source": [
    "plt.plot(x_arr, get_y(1,2,3,4,x_arr));\n",
    "plt.plot([get_x_argmax(1,2,3,4)], [get_y_max(1,2,3,4)], 'o' );"
   ]
  },
  {
   "cell_type": "code",
   "execution_count": null,
   "metadata": {
    "pycharm": {
     "name": "#%%\n"
    }
   },
   "outputs": [],
   "source": [
    "get_y(*get_params(param_names, a=1,b=2,c=3,zeta=4)+(3,))"
   ]
  },
  {
   "cell_type": "code",
   "execution_count": 45,
   "metadata": {
    "pycharm": {
     "name": "#%%\n"
    }
   },
   "outputs": [],
   "source": [
    "import traits.api as tr\n",
    "import ipywidgets as ipw"
   ]
  },
  {
   "cell_type": "code",
   "execution_count": 46,
   "metadata": {
    "pycharm": {
     "name": "#%%\n"
    }
   },
   "outputs": [],
   "source": [
    "class IModel(tr.Interface):\n",
    "    '''Base class for interactive models'''\n",
    "\n",
    "class ModelInteract(tr.HasStrictTraits):\n",
    "    '''Model showing the max of the quadratic function'''\n",
    "\n",
    "    model = tr.Instance(IModel)\n",
    "    \n",
    "    def ipw_interact(self):\n",
    "        sliders = self.get_sliders()\n",
    "        out = ipw.interactive_output(self.update_fields, sliders);\n",
    "        self.widget_layout(out, sliders)\n",
    "\n",
    "    n_steps = tr.Int(20)\n",
    "    \n",
    "    def get_sliders(self):\n",
    "        param_names = self.model.param_names\n",
    "        traits = self.model.traits(param=True)\n",
    "        vals = self.model.trait_get(param=True)\n",
    "        val_ = [vals[name] for name in param_names]\n",
    "        minmax_ = [getattr(traits[name],'minmax', 2) for name in param_names]\n",
    "        latex_ = [getattr(traits[name],'latex', r'<none>') for name in param_names]\n",
    "        return {name : ipw.FloatSlider(\n",
    "            value=val, min=minmax[0], max=minmax[1],\n",
    "            step=(minmax[1]-minmax[0]) / self.n_steps,\n",
    "            description=r'\\(%s\\)' % latex)\n",
    "            for (name, val, latex, minmax) in \n",
    "                zip(param_names, val_, latex_, minmax_)\n",
    "        }\n",
    "\n",
    "    def update_fields(self, **values):\n",
    "        self.model.trait_set(**values)\n",
    "        print(values)\n",
    "\n",
    "    def widget_layout(self, out, sliders):\n",
    "        layout = ipw.Layout(grid_template_columns='1fr 1fr')\n",
    "        param_sliders_list = [sliders[name] for name in param_names]\n",
    "        grid = ipw.GridBox(param_sliders_list, layout=layout)\n",
    "        box = ipw.VBox([grid, out])\n",
    "        display(box)"
   ]
  },
  {
   "cell_type": "code",
   "execution_count": 47,
   "metadata": {
    "pycharm": {
     "name": "#%%\n"
    }
   },
   "outputs": [],
   "source": [
    "@tr.provides(IModel)\n",
    "class QuadEq(tr.HasTraits):\n",
    "    a = tr.Float(3, param=True, latex='a', minmax=(-8,8))\n",
    "    b = tr.Float(3, param=True, latex='b', minmax=(-8,8))\n",
    "    c = tr.Float(3, param=True, latex='c', minmax=(-8,8))\n",
    "    zeta = tr.Float(3, param=True, latex=r'\\zeta', minmax=(-8,8))\n",
    "    param_names = param_names"
   ]
  },
  {
   "cell_type": "code",
   "execution_count": 48,
   "metadata": {
    "pycharm": {
     "name": "#%%\n"
    }
   },
   "outputs": [
    {
     "data": {
      "application/vnd.jupyter.widget-view+json": {
       "model_id": "cdbbd8e91e0b473c8fa4566f49d0672d",
       "version_major": 2,
       "version_minor": 0
      },
      "text/plain": [
       "VBox(children=(GridBox(children=(FloatSlider(value=3.0, description='\\\\(a\\\\)', max=8.0, min=-8.0, step=0.8), F…"
      ]
     },
     "metadata": {},
     "output_type": "display_data"
    }
   ],
   "source": [
    "qei = ModelInteract(model=QuadEq())\n",
    "\n",
    "qei.ipw_interact()"
   ]
  },
  {
   "cell_type": "code",
   "execution_count": null,
   "metadata": {
    "pycharm": {
     "name": "#%%\n"
    }
   },
   "outputs": [],
   "source": []
  },
  {
   "cell_type": "markdown",
   "metadata": {},
   "source": [
    "## Define data arrays and domains"
   ]
  },
  {
   "cell_type": "code",
   "execution_count": null,
   "metadata": {},
   "outputs": [],
   "source": [
    "import numpy as np\n",
    "x_arr = np.linspace(-8,8,100)"
   ]
  },
  {
   "cell_type": "code",
   "execution_count": null,
   "metadata": {},
   "outputs": [],
   "source": [
    "import matplotlib.pylab as plt"
   ]
  },
  {
   "cell_type": "code",
   "execution_count": null,
   "metadata": {},
   "outputs": [],
   "source": [
    "plt.plot(x_arr, get_y(1,2,3,4,x_arr));"
   ]
  },
  {
   "cell_type": "code",
   "execution_count": null,
   "metadata": {},
   "outputs": [],
   "source": [
    "get_y(*get_params(param_names, a=1,b=2,c=3,zeta=4)+(3,))"
   ]
  },
  {
   "cell_type": "code",
   "execution_count": null,
   "metadata": {},
   "outputs": [],
   "source": [
    "import traits.api as tr\n",
    "import ipywidgets as ipw"
   ]
  },
  {
   "cell_type": "code",
   "execution_count": null,
   "metadata": {},
   "outputs": [],
   "source": [
    "class IModel(tr.Interface):\n",
    "    '''Base class for interactive models'''\n",
    "\n",
    "class ModelInteract(tr.HasStrictTraits):\n",
    "    '''Model showing the max of the quadratic function'''\n",
    "\n",
    "    model = tr.Instance(IModel)\n",
    "    \n",
    "    def ipw_interact(self):\n",
    "        sliders = self.get_sliders()\n",
    "        out = ipw.interactive_output(self.update_fields, sliders);\n",
    "        self.widget_layout(out, sliders)\n",
    "\n",
    "    n_steps = tr.Int(20)\n",
    "    \n",
    "    def get_sliders(self):\n",
    "        param_names = self.model.param_names\n",
    "        traits = self.model.traits(param=True)\n",
    "        vals = self.model.trait_get(param=True)\n",
    "        val_ = [vals[name] for name in param_names]\n",
    "        minmax_ = [getattr(traits[name],'minmax', 2) for name in param_names]\n",
    "        latex_ = [getattr(traits[name],'latex', r'<none>') for name in param_names]\n",
    "        return {name : ipw.FloatSlider(\n",
    "            value=val, min=minmax[0], max=minmax[1],\n",
    "            step=(minmax[1]-minmax[0]) / self.n_steps,\n",
    "            description=r'\\(%s\\)' % latex)\n",
    "            for (name, val, latex, minmax) in \n",
    "                zip(param_names, val_, latex_, minmax_)\n",
    "        }\n",
    "\n",
    "    def update_fields(self, **values):\n",
    "        self.model.trait_set(**values)\n",
    "        print(values)\n",
    "\n",
    "    def widget_layout(self, out, sliders):\n",
    "        layout = ipw.Layout(grid_template_columns='1fr 1fr')\n",
    "        param_sliders_list = [sliders[name] for name in param_names]\n",
    "        grid = ipw.GridBox(param_sliders_list, layout=layout)\n",
    "        box = ipw.VBox([grid, out])\n",
    "        display(box)"
   ]
  },
  {
   "cell_type": "code",
   "execution_count": null,
   "metadata": {},
   "outputs": [],
   "source": [
    "@tr.provides(IModel)\n",
    "class QuadEq(tr.HasTraits):\n",
    "    a = tr.Float(3, param=True, latex='a', minmax=(-8,8))\n",
    "    b = tr.Float(3, param=True, latex='b', minmax=(-8,8))\n",
    "    c = tr.Float(3, param=True, latex='c', minmax=(-8,8))\n",
    "    zeta = tr.Float(3, param=True, latex=r'\\zeta', minmax=(-8,8))\n",
    "    param_names = param_names"
   ]
  },
  {
   "cell_type": "code",
   "execution_count": null,
   "metadata": {},
   "outputs": [],
   "source": [
    "qei = ModelInteract(model=QuadEq())\n",
    "\n",
    "qei.ipw_interact()"
   ]
  },
  {
   "cell_type": "code",
   "execution_count": null,
   "metadata": {},
   "outputs": [],
   "source": []
  }
 ],
 "metadata": {
  "kernelspec": {
   "display_name": "Python 3",
   "language": "python",
   "name": "python3"
  },
  "language_info": {
   "codemirror_mode": {
    "name": "ipython",
    "version": 3
   },
   "file_extension": ".py",
   "mimetype": "text/x-python",
   "name": "python",
   "nbconvert_exporter": "python",
   "pygments_lexer": "ipython3",
   "version": "3.7.6"
  },
  "toc": {
   "base_numbering": 1,
   "nav_menu": {},
   "number_sections": true,
   "sideBar": true,
   "skip_h1_title": true,
   "title_cell": "Table of Contents",
   "title_sidebar": "Contents",
   "toc_cell": false,
   "toc_position": {
    "height": "calc(100% - 180px)",
    "left": "10px",
    "top": "150px",
    "width": "165px"
   },
   "toc_section_display": true,
   "toc_window_display": true
  }
 },
 "nbformat": 4,
 "nbformat_minor": 1
}