{
 "cells": [
  {
   "cell_type": "markdown",
   "metadata": {},
   "source": [
    "# Damage-plasticity model with generic time stepping\n",
    "This notebook is a work in progress on an abstract and general implementation of time integration algorithm for general damage-plasticity modes. It serves for the development of a package that can be configured by specifying the ingredients of thermodynamically based model\n",
    "\n",
    " - Vector of state variables $\\boldsymbol{\\eta}$\n",
    " - Vector of thermodynamic streses $\\boldsymbol{\\sigma}$\n",
    " - Helmholtz free energy $\\psi(\\boldsymbol{\\eta})$\n",
    " - Threshold on thermodynamical forces  $f(\\boldsymbol{\\sigma},\\boldsymbol{\\eta})$ / Yield condition\n",
    " - Flow potential $\\varphi(\\boldsymbol{\\sigma},\\boldsymbol{\\eta})$\n",
    "\n",
    "as symbolic equations using the sympy package. The time-stepping algorithm gets generated automatically within the thermodynamically framework. The derived  evolution equations and return-mapping to the yield surface is performed using Newton-Raphson scheme.  "
   ]
  },
  {
   "cell_type": "code",
   "execution_count": null,
   "metadata": {},
   "outputs": [],
   "source": [
    "import sympy as sp\n",
    "sp.init_printing()\n",
    "%matplotlib inline\n",
    "import matplotlib.pyplot as plt\n",
    "import numpy as np"
   ]
  },
  {
   "cell_type": "markdown",
   "metadata": {},
   "source": [
    "The derivation is adopted for the purpose of code generation both in Python and C utilizing the `codegen` package provided in `sympy`. The expressions that are part of the time stepping algorithm are transformed to an executable code directly at the place where they are derived. At the end of the notebook the C code can be exported to external files and applied in external tools. "
   ]
  },
  {
   "cell_type": "code",
   "execution_count": null,
   "metadata": {},
   "outputs": [],
   "source": [
    "from sympy.utilities.codegen import codegen"
   ]
  },
  {
   "cell_type": "markdown",
   "metadata": {},
   "source": [
    "## TODO\n",
    " - The current implementation uses the threshold function linearized along $\\lambda$ to represent the consistency condition. As the next step include the fully linearized set of evolution equations and threshold functions. This might be important for SLIDE 3.x, 2D and 3D problems (von Mises, Drucker-Prager). In the current one-dimensional problem it probably has no effect - this feature will be included in SLIDE-core notebook which should be able to generate all the other problems by configuring the thermodynamic inputs symbolically.  \n",
    " - Lambdified functions are now generated with substituted material parameters. The material parameters should be included as call parameters as well.\n",
    " - flow direction is now matched with the gradient of the flow potential - that is multiplied by the signs $\\Upsilon$. This is a short cut that confuses - introduce a new symbol for $\\Upsilon \\partial_\\boldsymbol{\\sigma} \\varphi$ to give the Python and C code a more consistent name.\n",
    " - Better symbols - instead of $\\boldsymbol{\\sigma}$ and $\\boldsymbol{\\eta}$ maybe use\n",
    " $\\boldsymbol{\\mathcal{S}}$ and $\\boldsymbol{\\mathcal{E}}$. For more general problems, this would be a better separation of the generalized stresses / real stresses and generalized kinematic state variables and real strains\n",
    " - Clearer naming convention for expressions like `d_phi_Eta` improve to distinguish the derivative operator and the call parameters in the generated functions. "
   ]
  },
  {
   "cell_type": "markdown",
   "metadata": {},
   "source": [
    "## Material parameters"
   ]
  },
  {
   "cell_type": "code",
   "execution_count": null,
   "metadata": {},
   "outputs": [],
   "source": [
    "E_b = sp.Symbol('E_b', real=True, nonnegative=True)\n",
    "gamma = sp.Symbol('gamma', real=True, nonnegative=True)\n",
    "K = sp.Symbol('K', real=True)\n",
    "S = sp.Symbol('S', real=True)\n",
    "r = sp.Symbol('r', real=True)\n",
    "c = sp.Symbol('c', real=True)\n",
    "tau_bar = sp.Symbol(r'\\bar{\\tau}', real=True, nonnegative=True)"
   ]
  },
  {
   "cell_type": "code",
   "execution_count": null,
   "metadata": {},
   "outputs": [],
   "source": [
    "material_params = {\n",
    "    E_b:1, gamma:0.2, K:0.1, S:0.005, r:0.001, c:1, tau_bar:1, \n",
    "}"
   ]
  },
  {
   "cell_type": "code",
   "execution_count": null,
   "metadata": {},
   "outputs": [],
   "source": [
    "material_params = {\n",
    "    E_b:1, gamma: 0.6, K:1, S:0.6, r:0.001, c:1, tau_bar:1, \n",
    "}"
   ]
  },
  {
   "cell_type": "markdown",
   "metadata": {},
   "source": [
    "## State variables"
   ]
  },
  {
   "cell_type": "code",
   "execution_count": null,
   "metadata": {},
   "outputs": [],
   "source": [
    "s = sp.Symbol('s', real=True)\n",
    "omega = sp.Symbol('omega', real=True, nonnegative=True)\n",
    "omega.is_nonnegative\n",
    "s_pi = sp.Symbol(r's_pi', real=True)\n",
    "alpha = sp.Symbol('alpha', real=True)\n",
    "z = sp.Symbol('z', real=True)"
   ]
  },
  {
   "cell_type": "code",
   "execution_count": null,
   "metadata": {},
   "outputs": [],
   "source": [
    "Eta = sp.Matrix([s_pi, z, alpha, omega])\n",
    "Eta.T"
   ]
  },
  {
   "cell_type": "markdown",
   "metadata": {},
   "source": [
    "## Helmholtz free energy"
   ]
  },
  {
   "cell_type": "markdown",
   "metadata": {},
   "source": [
    "The starting point in the thermodynamical representation of a process is a potential function of time dependent state variables. To describe the evolution of the state correctly describing the energy dissipation of the system the gradient of the potential function with respect to the state variables provides the generalized forces. The forces are constrained to characterize specific material properties, e.g. strength, hardening."
   ]
  },
  {
   "cell_type": "code",
   "execution_count": null,
   "metadata": {},
   "outputs": [],
   "source": [
    "rho_psi = sp.Rational(1,2)* ( \n",
    "    (1-omega)*\n",
    "    E_b*(s-s_pi)**2 + K * z**2 + gamma * alpha**2\n",
    ")\n",
    "rho_psi"
   ]
  },
  {
   "cell_type": "markdown",
   "metadata": {},
   "source": [
    "## Thermodynamic forces"
   ]
  },
  {
   "cell_type": "code",
   "execution_count": null,
   "metadata": {},
   "outputs": [],
   "source": [
    "tau = sp.Symbol('tau', real=True)\n",
    "tau_pi = sp.Symbol(r'tau_pi', real=True)\n",
    "X = sp.Symbol('X', real=True)\n",
    "Z = sp.Symbol('Z', real=True, nonnegative=True)\n",
    "Y = sp.Symbol('Y', real=True)"
   ]
  },
  {
   "cell_type": "code",
   "execution_count": null,
   "metadata": {},
   "outputs": [],
   "source": [
    "Sigma = sp.Matrix([tau_pi, Z, X, Y])\n",
    "Sigma.T"
   ]
  },
  {
   "cell_type": "markdown",
   "metadata": {},
   "source": [
    "The introduce the thermodynamic forces we have to differentiate Hemholtz free energy\n",
    "with respect to the kinematic state variables\n",
    "\\begin{align}\n",
    " \\partial_\\boldsymbol{\\eta} (\\rho \\psi)\n",
    "\\end{align}"
   ]
  },
  {
   "cell_type": "code",
   "execution_count": null,
   "metadata": {},
   "outputs": [],
   "source": [
    "d_rho_psi_Eta = sp.Matrix([rho_psi.diff(eta) for eta in Eta])"
   ]
  },
  {
   "cell_type": "markdown",
   "metadata": {},
   "source": [
    "To obtain consistent signs of the Helmholtz derivatives we define a sign switch operator so that all generalized forces are defined as positive for the respective conjugate state variable $\\boldsymbol{\\Upsilon}$. "
   ]
  },
  {
   "cell_type": "code",
   "execution_count": null,
   "metadata": {},
   "outputs": [],
   "source": [
    "Sigma_signs = sp.diag(1,-1,-1,1)"
   ]
  },
  {
   "cell_type": "markdown",
   "metadata": {},
   "source": [
    "The constitutive between generalized force and kinematic variables then read\n",
    "\\begin{align}\n",
    "\\boldsymbol{\\sigma} = - \\boldsymbol{\\Upsilon} \\, \\partial_\\boldsymbol{\\eta} (\\rho \\psi) \\\n",
    "\\end{align}"
   ]
  },
  {
   "cell_type": "code",
   "execution_count": null,
   "metadata": {},
   "outputs": [],
   "source": [
    "Sigma_Eta = -Sigma_signs * d_rho_psi_Eta\n",
    "Sigma_Eta.T"
   ]
  },
  {
   "cell_type": "markdown",
   "metadata": {},
   "source": [
    "**Executable code for** $\\boldsymbol{\\sigma}(s,\\boldsymbol{\\eta})$"
   ]
  },
  {
   "cell_type": "code",
   "execution_count": null,
   "metadata": {},
   "outputs": [],
   "source": [
    "get_Sigma_Eta = sp.lambdify(\n",
    "    (s, Eta), Sigma_Eta.T.subs(material_params), 'numpy'\n",
    ")"
   ]
  },
  {
   "cell_type": "markdown",
   "metadata": {},
   "source": [
    "To derive the time stepping procedure we will need also the matrix of derivatives of the generalized stresses $\\boldsymbol{\\sigma}$ with respect to the kinematic variables $\\boldsymbol{\\eta}$ \n",
    "\\begin{align}\n",
    " \\partial_\\boldsymbol{\\eta} \\boldsymbol{\\sigma}\n",
    "\\end{align}"
   ]
  },
  {
   "cell_type": "code",
   "execution_count": null,
   "metadata": {},
   "outputs": [],
   "source": [
    "d_Sigma_Eta = sp.Matrix([ \n",
    "    Sigma_Eta.T.diff(eta_i) for eta_i in Eta \n",
    "] ).T\n",
    "d_Sigma_Eta"
   ]
  },
  {
   "cell_type": "markdown",
   "metadata": {},
   "source": [
    "**Executable Python code generation** $\\partial_\\boldsymbol{\\eta} \\boldsymbol{\\sigma}(s,\\boldsymbol{\\eta})$"
   ]
  },
  {
   "cell_type": "code",
   "execution_count": null,
   "metadata": {},
   "outputs": [],
   "source": [
    "get_d_Sigma_Eta = sp.lambdify(\n",
    "    (s, Eta), d_Sigma_Eta.subs(material_params),\n",
    ")\n",
    "get_d_Sigma_Eta_C = codegen(('d_Sigma_Eta', d_Sigma_Eta), 'C89', 'SLIDE1_3')"
   ]
  },
  {
   "cell_type": "markdown",
   "metadata": {},
   "source": [
    "## Threshold function"
   ]
  },
  {
   "cell_type": "markdown",
   "metadata": {},
   "source": [
    "To keep the framework general for different stress norms and hardening definitions let us first introduce a general function for effective stress. Note that the observable stress $\\tau$ is identical with the plastic stress $\\tau_\\pi$ due to the performed sign switch in the definition of the thermodynamic forces."
   ]
  },
  {
   "cell_type": "code",
   "execution_count": null,
   "metadata": {},
   "outputs": [],
   "source": [
    "tau_eff = sp.Function(r'\\tau^{\\mathrm{eff}}')(tau_pi, omega)\n",
    "Q = sp.Function('Q')(tau_eff,X)\n",
    "tau_eff"
   ]
  },
  {
   "cell_type": "markdown",
   "metadata": {},
   "source": [
    "The stress norm is defined using the stress offset $X$, i.e. the kinematic hardening stress representing the shift of the origin of the yield locus.  "
   ]
  },
  {
   "cell_type": "code",
   "execution_count": null,
   "metadata": {},
   "outputs": [],
   "source": [
    "norm_Q = sp.sqrt(Q*Q)"
   ]
  },
  {
   "cell_type": "markdown",
   "metadata": {},
   "source": [
    "General form of the yield condition then reads"
   ]
  },
  {
   "cell_type": "code",
   "execution_count": null,
   "metadata": {},
   "outputs": [],
   "source": [
    "f = norm_Q - Z - tau_bar\n",
    "f"
   ]
  },
  {
   "cell_type": "markdown",
   "metadata": {},
   "source": [
    "Let us now introduce the back stress $X$ by defining the substitution for $Q = \\tau^\\mathrm{eff} - X$"
   ]
  },
  {
   "cell_type": "code",
   "execution_count": null,
   "metadata": {},
   "outputs": [],
   "source": [
    "subs_Q = {Q: tau_eff - X}\n",
    "subs_Q"
   ]
  },
  {
   "cell_type": "markdown",
   "metadata": {},
   "source": [
    "Further substitution rule introduces the effective stress as a function of damage as"
   ]
  },
  {
   "cell_type": "code",
   "execution_count": null,
   "metadata": {},
   "outputs": [],
   "source": [
    "subs_tau_eff = {tau_eff: tau_pi / (1-omega)}\n",
    "subs_tau_eff"
   ]
  },
  {
   "cell_type": "markdown",
   "metadata": {},
   "source": [
    "After substitutions the yield function reads"
   ]
  },
  {
   "cell_type": "code",
   "execution_count": null,
   "metadata": {},
   "outputs": [],
   "source": [
    "f_Sigma = f.subs(subs_Q).subs(subs_tau_eff)\n",
    "f_Sigma"
   ]
  },
  {
   "cell_type": "markdown",
   "metadata": {},
   "source": [
    "**Executable code generation** $f(\\boldsymbol{\\eta}, \\boldsymbol{\\sigma)}$\n",
    "\n",
    "Note that this is a function of both the forces and kinematic state variables"
   ]
  },
  {
   "cell_type": "code",
   "execution_count": null,
   "metadata": {},
   "outputs": [],
   "source": [
    "get_f_Sigma = sp.lambdify(\n",
    "    (Eta, Sigma), f_Sigma.subs(material_params), 'numpy'\n",
    ")\n",
    "get_f_Sigma_C = codegen(('f_Sigma', f_Sigma), 'C89', 'SLIDE1_3')"
   ]
  },
  {
   "cell_type": "markdown",
   "metadata": {},
   "source": [
    "The derivative of $f$ required for time-stepping $\\partial_\\boldsymbol{\\sigma} f$ is obtained as"
   ]
  },
  {
   "cell_type": "code",
   "execution_count": null,
   "metadata": {},
   "outputs": [],
   "source": [
    "d_f_Sigma = f_Sigma.diff(Sigma)\n",
    "sp.simplify(d_f_Sigma).T"
   ]
  },
  {
   "cell_type": "markdown",
   "metadata": {},
   "source": [
    "**Executable code generation** $\\partial_\\boldsymbol{\\sigma}f(\\boldsymbol{\\eta}, \\boldsymbol{\\sigma)}$"
   ]
  },
  {
   "cell_type": "code",
   "execution_count": null,
   "metadata": {},
   "outputs": [],
   "source": [
    "get_d_f_Sigma = sp.lambdify(\n",
    "    (Eta, Sigma), d_f_Sigma, 'numpy'\n",
    ")\n",
    "get_d_f_Sigma_C = codegen(('d_f_Sigma', d_f_Sigma), 'C89', 'SLIDE1_3')"
   ]
  },
  {
   "cell_type": "markdown",
   "metadata": {},
   "source": [
    "Due to the direct dependency of $f$ on $\\boldsymbol{\\eta}$ also the term $\\partial_\\boldsymbol{\\eta} f$"
   ]
  },
  {
   "cell_type": "code",
   "execution_count": null,
   "metadata": {},
   "outputs": [],
   "source": [
    "d_f_Eta = f_Sigma.diff(Eta)\n",
    "d_f_Eta.T"
   ]
  },
  {
   "cell_type": "markdown",
   "metadata": {},
   "source": [
    "**Executable Python code generation** $\\partial_\\boldsymbol{\\eta}f(\\boldsymbol{\\eta}, \\boldsymbol{\\sigma)}$"
   ]
  },
  {
   "cell_type": "code",
   "execution_count": null,
   "metadata": {},
   "outputs": [],
   "source": [
    "get_d_f_Eta = sp.lambdify(\n",
    "    (Eta, Sigma), d_f_Eta, 'numpy'\n",
    ")\n",
    "get_d_f_Eta_C = codegen(('d_f_Eta', d_f_Eta), 'C89', 'SLIDE1_3')"
   ]
  },
  {
   "cell_type": "markdown",
   "metadata": {},
   "source": [
    "## Flow potential"
   ]
  },
  {
   "cell_type": "markdown",
   "metadata": {},
   "source": [
    "For non-associative flow rule let us define an extension to be added to the threshold function "
   ]
  },
  {
   "cell_type": "code",
   "execution_count": null,
   "metadata": {},
   "outputs": [],
   "source": [
    "phi_ext = S* (1-omega)**c / (r+1) * (Y/S)**(r+1)"
   ]
  },
  {
   "cell_type": "markdown",
   "metadata": {},
   "source": [
    "The flow potential $\\varphi(\\boldsymbol{\\eta}, \\boldsymbol{\\sigma})$ reads"
   ]
  },
  {
   "cell_type": "code",
   "execution_count": null,
   "metadata": {},
   "outputs": [],
   "source": [
    "phi = f_Sigma + phi_ext\n",
    "phi"
   ]
  },
  {
   "cell_type": "markdown",
   "metadata": {},
   "source": [
    "and the corresponding directions of flow given as a product of the sign operator $\\Upsilon$ and of the derivatives with respect to state variables \n",
    "$\\boldsymbol{\\Upsilon} \\, \\partial_{\\boldsymbol{\\sigma}} \\varphi$"
   ]
  },
  {
   "cell_type": "code",
   "execution_count": null,
   "metadata": {},
   "outputs": [],
   "source": [
    "d_phi_Sigma = Sigma_signs * phi.diff(Sigma)\n",
    "sp.simplify(d_phi_Sigma.T)"
   ]
  },
  {
   "cell_type": "markdown",
   "metadata": {},
   "source": [
    "**Executable code generation** $\\partial_\\boldsymbol{\\sigma}\\varphi(\\boldsymbol{\\eta}, \\boldsymbol{\\sigma)}$"
   ]
  },
  {
   "cell_type": "code",
   "execution_count": null,
   "metadata": {},
   "outputs": [],
   "source": [
    "get_d_phi_Sigma = sp.lambdify(\n",
    "    (Eta, Sigma), d_phi_Sigma.subs(material_params), 'numpy'\n",
    ")\n",
    "get_d_phi_Sigma_C = codegen(('d_phi_Sigma', d_phi_Sigma), 'C89', 'SLIDE1_3')"
   ]
  },
  {
   "cell_type": "markdown",
   "metadata": {},
   "source": [
    "# Time integration scheme"
   ]
  },
  {
   "cell_type": "markdown",
   "metadata": {},
   "source": [
    "## Summary of the backward Euler scheme\n",
    "The derived expressions can be now plugged-in into a generic return mapping algorithm that efficiently identifies a state that satisfies the discrete consistency condition. The general structure of an implicit integration scheme reads"
   ]
  },
  {
   "cell_type": "markdown",
   "metadata": {},
   "source": [
    "\\begin{align}\n",
    "\\boldsymbol{\\eta}_{n+1} &= \\boldsymbol{\\eta}_{n} + \n",
    "\\lambda_\\Delta \\, \\partial_{\\boldsymbol{\\sigma}} \\varphi_{n+1} \\\\\n",
    "f(\\boldsymbol{\\eta}_{n+1};  \\lambda_\\Delta) &= 0\n",
    "\\end{align}"
   ]
  },
  {
   "cell_type": "markdown",
   "metadata": {},
   "source": [
    "To reach an admissible state let us linearize the threshold function at an interim state $j$ as\n",
    "\\begin{align}\n",
    "f(\\boldsymbol{\\eta}_{n+1}; \\lambda_\\Delta )\n",
    "& \\approx\n",
    "\\left. f \\right|_{\\eta_{n+1},\\lambda_\\Delta} \n",
    " + \n",
    "\\left. \\partial_\\lambda f \\right|_{\\eta_{n+1},\\lambda_\\Delta}\n",
    "\\Delta \\lambda\n",
    "\\end{align}"
   ]
  },
  {
   "cell_type": "markdown",
   "metadata": {},
   "source": [
    "To define a generic return mapping we need to construct the  derivatives of the flow rule $f$ with respect to $\\lambda$. The dependency of $f$ on $\\lambda$ is intermediated via thermodynamic forces $\\sigma$ and state variables $\\boldsymbol{\\eta}$\n",
    "\\begin{align}\n",
    "f(\\boldsymbol{\\sigma}(\\boldsymbol{\\eta}(\\lambda)), \\boldsymbol{\\eta}(\\lambda)).\n",
    "\\end{align}\n",
    "To correctly resolve the dependencies in the derivative $\\partial_\\lambda f_\\boldsymbol{\\sigma}$, we need to apply rules for composition and chaining of derivatives. Let us start with the composition rule rendering the derivative with respect to $\\boldsymbol{\\eta}$ in the form\n",
    "\\begin{align}\n",
    "\\partial_\\boldsymbol{\\eta} f(\\boldsymbol{\\sigma}(\\boldsymbol{\\eta}), \\boldsymbol{\\eta})\n",
    " &=\n",
    "\\partial_\\boldsymbol{\\sigma} f(\\boldsymbol{\\sigma}, \\boldsymbol{\\eta}) \\, \\partial_\\boldsymbol{\\eta}  \\boldsymbol{\\sigma}(\\boldsymbol{\\eta}) + \\partial_\\boldsymbol{\\eta} f(\\boldsymbol{\\sigma}, \\boldsymbol{\\eta}).\n",
    "\\end{align}\n",
    "By expanding the derivatives of $\\boldsymbol{\\eta}$ with respect to $\\lambda_\\Delta$ that will be abbreviate in index position as $\\lambda$ for brevity we obtain\n",
    "\\begin{align}\n",
    "\\partial_\\lambda f(\\boldsymbol{\\sigma}(\\boldsymbol{\\eta}(\\lambda)), \\boldsymbol{\\eta}(\\lambda))\n",
    " &=\n",
    "\\partial_\\boldsymbol{\\sigma} f(\\boldsymbol{\\sigma}, \\boldsymbol{\\eta}) \\, \\partial_\\boldsymbol{\\eta}  \\boldsymbol{\\sigma}(\\boldsymbol{\\eta}) \\, \\partial_\\lambda \\boldsymbol{\\eta} + \\partial_\\boldsymbol{\\eta} f(\\boldsymbol{\\sigma}, \\boldsymbol{\\eta}) \\, \\partial_\\lambda \\boldsymbol{\\eta}\n",
    "\\end{align}\n",
    "and after collecting terms\n",
    "\\begin{align}\n",
    "\\partial_\\lambda f(\\boldsymbol{\\sigma}(\\boldsymbol{\\eta}(\\lambda)), \\boldsymbol{\\eta}(\\lambda))\n",
    " &=\n",
    "[\n",
    "\\partial_\\boldsymbol{\\sigma} f(\\boldsymbol{\\sigma}, \\boldsymbol{\\eta}) \\, \\partial_\\boldsymbol{\\eta}  \\boldsymbol{\\sigma}(\\boldsymbol{\\eta})  + \\partial_\\boldsymbol{\\eta} f(\\boldsymbol{\\sigma}, \\boldsymbol{\\eta})\n",
    "] \\,\n",
    "\\partial_\\lambda  \\boldsymbol{\\eta}\n",
    "\\end{align}"
   ]
  },
  {
   "cell_type": "markdown",
   "metadata": {},
   "source": [
    "The last term $\\partial_\\lambda \\boldsymbol{\\eta}$ can be obtained from the evolution equations\n",
    "\\begin{align}\n",
    "\\boldsymbol{\\eta} = \\dot{\\lambda} \\, \\partial_\\boldsymbol{\\sigma} \\varphi \\; \\implies\n",
    "\\partial_\\lambda \\boldsymbol{\\eta} = \n",
    "\\partial_\\boldsymbol{\\sigma} \\varphi\n",
    "\\end{align}"
   ]
  },
  {
   "cell_type": "markdown",
   "metadata": {},
   "source": [
    "Thus, by rewriting the linearized equation as a recurrence formula, the iteration algorithm is obtained\n",
    "\\begin{align}\n",
    "&\\left[\n",
    "\\left[\n",
    "\\partial_\\boldsymbol{\\sigma} f^{(k)}(\\boldsymbol{\\sigma}, \\boldsymbol{\\eta}) \\,\n",
    "\\partial_\\boldsymbol{\\eta}  \\boldsymbol{\\sigma}^{(k)}(\\boldsymbol{\\eta})  +\n",
    "\\partial_\\boldsymbol{\\eta} f^{(k)}(\\boldsymbol{\\sigma}, \\boldsymbol{\\eta})\n",
    "\\right] \\,\n",
    "\\partial_\\boldsymbol{\\sigma} \\varphi^{(k)}(\\boldsymbol{\\sigma}, \\boldsymbol{\\eta})\n",
    "\\right]\n",
    "\\Delta \\lambda\n",
    "= - f^{(k)}\\\\\n",
    "& \\boldsymbol{\\eta}^{(k+1)} = \\boldsymbol{\\eta}^{(k)} + \n",
    " \\lambda_\\Delta \\, \\partial_{\\boldsymbol{\\sigma}} \\varphi^{(k)} \\\\\n",
    "&\\lambda_{\\Delta}^{(k+1)} = \\lambda_{\\Delta}^{(k)} + \\Delta \\lambda \\\\\n",
    "&k = k + 1\n",
    "\\end{align}"
   ]
  },
  {
   "cell_type": "markdown",
   "metadata": {},
   "source": [
    "## Implementation concept\n",
    "The gradient operators needed for the time-stepping scheme have been derived above and are now available for the implementation of the numerical algorithm both in `Python` and `C89` languages\n",
    "\n",
    "<table style=\"width:50%\">\n",
    "<tr>\n",
    "<th>Symbol</th>\n",
    "<th>Python</th>\n",
    "<th>C89</th>\n",
    "</tr>\n",
    "<tr>\n",
    "<td>$\\partial_\\boldsymbol{\\sigma} f(\\boldsymbol{\\sigma}, \\boldsymbol{\\eta}) $  \n",
    "</td>\n",
    "<td>get_d_f_Sigma</td>\n",
    "<td>get_d_f_Sigma_C</td>\n",
    "</tr>\n",
    "<tr>\n",
    "<td>$\\partial_\\boldsymbol{\\eta}  \\boldsymbol{\\sigma}(\\boldsymbol{\\eta}) $</td>\n",
    "<td>get_d_Sigma_Eta</td>\n",
    "<td>get_d_Sigma_Eta_C</td>\n",
    "</tr>\n",
    "<tr>\n",
    "<td>$\\partial_\\boldsymbol{\\eta} f(\\boldsymbol{\\sigma}, \\boldsymbol{\\eta}) $</td>\n",
    "<td>get_d_f_Eta</td>\n",
    "<td>get_d_f_Eta_C</td>\n",
    "</tr>\n",
    "<tr>\n",
    "<td>$\\partial_\\boldsymbol{\\sigma} \\varphi(\\boldsymbol{\\sigma}, \\boldsymbol{\\eta}) $</td>\n",
    "<td>get_d_f_Sigma</td>\n",
    "<td>get_d_f_Sigma_C</td>\n",
    "</tr>\n",
    "<tr>\n",
    "<td>$ f(\\boldsymbol{\\sigma}, \\boldsymbol{\\eta})$</td>\n",
    "<td>get_f</td>\n",
    "<td>get_f_C</td>\n",
    "</tr>\n",
    "</table>"
   ]
  },
  {
   "cell_type": "markdown",
   "metadata": {},
   "source": [
    "To avoid repeated calculation of the same expressions, let us put the evaluation of $f$ and $\\partial_\\lambda f$ into a single procedure. The iteration loop can be constructed in such a way that the predictor for the next step can be calculated along with the residuum. In case that the residuum is below the required tolerance, the overhead for an extra calculated derivative is negligible or, with some care, can be even reused in the next time step.  "
   ]
  },
  {
   "cell_type": "code",
   "execution_count": null,
   "metadata": {},
   "outputs": [],
   "source": [
    "def get_f_df(s_n1, Eta_k):\n",
    "    Sigma_k = get_Sigma_Eta(s_n1, Eta_k)[0]\n",
    "    f_k = np.array([get_f_Sigma(Eta_k, Sigma_k)])\n",
    "    d_f_Sigma_k = get_d_f_Sigma(Eta_k, Sigma_k)\n",
    "    d_f_Eta_k = get_d_f_Eta(Eta_k, Sigma_k)\n",
    "    d_phi_Sigma_k = get_d_phi_Sigma(Eta_k, Sigma_k)\n",
    "    d_Sigma_Eta_k = get_d_Sigma_Eta(s_n1, Eta_k)\n",
    "    d_f_Sigma_Eta_k = np.einsum(\n",
    "        'ik,ji->jk', d_f_Sigma_k, d_Sigma_Eta_k) + d_f_Eta_k\n",
    "    d_Eta_lambda_k = d_phi_Sigma_k\n",
    "    d_f_lambda = np.einsum(\n",
    "        'ki,kj->ij', d_f_Sigma_Eta_k, d_Eta_lambda_k)\n",
    "    d_f_k = d_f_lambda\n",
    "    return f_k, d_f_k, Sigma_k"
   ]
  },
  {
   "cell_type": "markdown",
   "metadata": {},
   "source": [
    "The update of state variables for an updated $\\lambda_\\Delta$ is performed using this procedure. This can be still improved. However, as the following sheet will consider all the variables within a common vector of unknowns $\\boldsymbol{\\sigma}$ and $\\lambda_\\Delta$ let us keep the evolution update separate also in the algorithm below. "
   ]
  },
  {
   "cell_type": "code",
   "execution_count": null,
   "metadata": {},
   "outputs": [],
   "source": [
    "def get_Eta_k1(s_n1, Eta_n, lam_k, Eta_k):\n",
    "    Sigma_k = get_Sigma_Eta(s_n1, Eta_k)[0]\n",
    "    d_phi_Sigma_k = get_d_phi_Sigma(Eta_k, Sigma_k)\n",
    "    Eta_k1 = Eta_n + lam_k * d_phi_Sigma_k[:,0]\n",
    "    return Eta_k1"
   ]
  },
  {
   "cell_type": "markdown",
   "metadata": {},
   "source": [
    "The double loop over the time increments and over the return mapping iteration. The inner loop represents the material point level in a standard finite element calculation. The input is the maximum slip value, the number of time steps, the maximum number of iterations and a load function which can define cyclic loading as shown below. The procedure returns the record of $\\boldsymbol{\\eta}(t)$ and $\\boldsymbol{\\sigma}(t)$"
   ]
  },
  {
   "cell_type": "code",
   "execution_count": null,
   "metadata": {},
   "outputs": [],
   "source": [
    "def get_response(s_max=3, n_steps = 10, k_max=20, get_load_fn=lambda t: t):\n",
    "    Eta_n = np.zeros((len(Eta),), dtype=np.float_)\n",
    "    Eta_k = np.copy(Eta_n)\n",
    "    Sigma_record = []\n",
    "    Eta_record = []\n",
    "    iter_record = []\n",
    "    t_arr = np.linspace(0,1,n_steps+1)\n",
    "    s_t = s_max * get_load_fn(t_arr) + 1e-9\n",
    "    for s_n1 in s_t:\n",
    "        lam_k = 0\n",
    "        f_k, d_f_k, Sigma_k = get_f_df(s_n1, Eta_k)\n",
    "        f_k_norm = np.linalg.norm(f_k)\n",
    "        f_k_trial = f_k[-1]\n",
    "        k = 0\n",
    "        while k < k_max:\n",
    "            if f_k_trial < 0 or f_k_norm < 1e-6:\n",
    "                Eta_n[...] = Eta_k[...]\n",
    "                Sigma_record.append(Sigma_k)\n",
    "                Eta_record.append(np.copy(Eta_k))\n",
    "                iter_record.append(k+1)\n",
    "                break\n",
    "            dlam = np.linalg.solve(d_f_k, -f_k)\n",
    "            lam_k += dlam\n",
    "            Eta_k = get_Eta_k1(s_n1, Eta_n, lam_k, Eta_k)\n",
    "            f_k, d_f_k, Sigma_k = get_f_df(s_n1, Eta_k)\n",
    "            f_k_norm = np.linalg.norm(f_k)\n",
    "            k += 1\n",
    "        else:\n",
    "            print('no convergence')\n",
    "    Sigma_arr = np.array(Sigma_record, dtype=np.float_)\n",
    "    Eta_arr = np.array(Eta_record, dtype=np.float_)\n",
    "    iter_arr = np.array(iter_record,dtype=np.int_)\n",
    "    return t_arr, s_t, Eta_arr, Sigma_arr, iter_arr"
   ]
  },
  {
   "cell_type": "markdown",
   "metadata": {},
   "source": [
    "# Support functions\n",
    "To run some examples, let us define some infrastructure including a more complex loading history and postprocessing"
   ]
  },
  {
   "cell_type": "markdown",
   "metadata": {},
   "source": [
    "## Loading history"
   ]
  },
  {
   "cell_type": "markdown",
   "metadata": {},
   "source": [
    "This implementation uses the symbolic machinery which is not necessary a simpler data point based implementation with `numpy.interp1d` would be better ... later "
   ]
  },
  {
   "cell_type": "code",
   "execution_count": null,
   "metadata": {},
   "outputs": [],
   "source": [
    "t, theta = sp.symbols(r't, \\theta')\n",
    "n_cycles = 5\n",
    "A = 2\n",
    "ups = np.array([((theta-2*cycle)*A+(1-A), theta-2*cycle<=1) \n",
    "                for cycle in range(n_cycles)])\n",
    "downs = np.array([((1-(theta-(2*cycle+1)))*A+(1-A),(theta-(2*cycle+1))<=1) \n",
    "                  for cycle in range(n_cycles)])\n",
    "ups[0,0] = theta\n",
    "updowns = np.einsum('ijk->jik',np.array([ups, downs])).reshape(-1,2)\n",
    "load_fn = sp.Piecewise(*updowns).subs(theta,t*n_cycles)\n",
    "get_load_fn = sp.lambdify(t, load_fn,'numpy')\n",
    "t_arr = np.linspace(0,1,600)\n",
    "plt.plot(t_arr, get_load_fn(t_arr));"
   ]
  },
  {
   "cell_type": "markdown",
   "metadata": {},
   "source": [
    "## Plotting functions\n",
    "To simplify postprocessing examples, here are two aggregate plotting functions, one for the state and force variables, the other one for the evaluation of energies"
   ]
  },
  {
   "cell_type": "code",
   "execution_count": null,
   "metadata": {},
   "outputs": [],
   "source": [
    "def plot_Sigma_Eta(Sigma, Eta, ax1, ax2, ax3, ax4):\n",
    "    colors = ['blue','red', 'green', 'black', 'magenta' ]\n",
    "    n_step = len(Eta)\n",
    "    s_pi_, z_, alpha_, omega_ = Eta_arr.T\n",
    "    sig_pi_, Z_, X_, Y_ = Sigma_arr.T\n",
    "    ax1.plot(s_t, sig_pi_, color='black', \n",
    "             label='n_steps = %g' % n_step)\n",
    "    ax1.set_xlabel('$s$'); ax1.set_ylabel(r'$\\tau$')\n",
    "    ax1.legend()\n",
    "    ax11 = ax1.twinx()\n",
    "    ax11.plot(s_t, iter_arr, '-.')\n",
    "    ax2.plot(t_arr, omega_, color='red', \n",
    "             label='n_steps = %g' % n_step)\n",
    "    ax2.set_xlabel('$s$'); ax2.set_ylabel(r'$\\omega$')\n",
    "    ax22 = ax2.twinx()\n",
    "    ax22.plot(t_arr, Y_, '-.', color='red', \n",
    "             label='n_steps = %g' % n_step)\n",
    "    ax22.set_ylabel('$Y$')\n",
    "    ax3.plot(t_arr, z_, color='green', \n",
    "             label='n_steps = %g' % n_step)\n",
    "    ax3.set_xlabel('$s$'); ax3.set_ylabel(r'$z$')\n",
    "    ax33 = ax3.twinx()\n",
    "    ax33.plot(t_arr, Z_, '-.', color='green')\n",
    "    ax33.set_ylabel(r'$Z$')\n",
    "    ax4.plot(t_arr, alpha_, color='blue', \n",
    "             label='n_steps = %g' % n_step)\n",
    "    ax4.set_xlabel('$s$'); ax4.set_ylabel(r'$Z$')\n",
    "    ax44 = ax4.twinx()\n",
    "    ax44.plot(t_arr, X_, '-.', color='blue')"
   ]
  },
  {
   "cell_type": "code",
   "execution_count": null,
   "metadata": {},
   "outputs": [],
   "source": [
    "from scipy.integrate import cumtrapz\n",
    "def plot_work(ax, Eta_arr, Sigma_arr):\n",
    "    W_arr = cumtrapz(Sigma_arr[:,0], s_t, initial=0)\n",
    "    U_arr = Sigma_arr[:,0] * (s_t-Eta_arr[:,0]) / 2.0\n",
    "    G_arr = W_arr - U_arr\n",
    "    ax.plot(t_arr, W_arr, lw=2, color='black', label=r'$W$')\n",
    "    ax.plot(t_arr, G_arr, color='black', label=r'$G$')\n",
    "    ax.fill_between(t_arr, W_arr, G_arr, color='green', alpha=0.2)\n",
    "    ax.set_xlabel('$s$'); ax3.set_ylabel(r'$E$')\n",
    "    ax.legend()\n",
    "    \n",
    "sigma_signs = np.einsum('ii->i',np.array(Sigma_signs))\n",
    "def plot_dissipation(ax, Eta_arr, Sigma_arr):    \n",
    "    colors = ['blue','red', 'green', 'black', 'magenta' ]\n",
    "    E_i = cumtrapz(Sigma_arr, Eta_arr, initial=0, axis=0)\n",
    "    c = 'black'\n",
    "    ax.plot(t_arr, E_i[:,0], '-.', lw=1, color=c)\n",
    "    ax.fill_between(t_arr, E_i[:,0], 0, color=c, alpha=0.1)\n",
    "    c = 'black'\n",
    "    ax.plot(t_arr, E_i[:,0] + E_i[:,3], color=c, lw=1)\n",
    "    ax.fill_between(t_arr, E_i[:,0] + E_i[:,3], E_i[:,0], \n",
    "                    color=c, alpha=0.2);\n",
    "    c = 'blue'\n",
    "    ax.plot(t_arr, E_i[:,1], '-.', lw=1, color='black')\n",
    "    ax.fill_between(t_arr, E_i[:,1], 0, color=c, alpha=0.1)\n",
    "    c = 'blue'\n",
    "    ax.plot(t_arr, E_i[:,1] + E_i[:,2], color='black', lw=1)\n",
    "    ax.fill_between(t_arr, E_i[:,1] + E_i[:,2], E_i[:,1], \n",
    "                    color=c, alpha=0.3);"
   ]
  },
  {
   "cell_type": "markdown",
   "metadata": {},
   "source": [
    "# Examples"
   ]
  },
  {
   "cell_type": "markdown",
   "metadata": {},
   "source": [
    "## Monotonic load "
   ]
  },
  {
   "cell_type": "markdown",
   "metadata": {},
   "source": [
    "Let's furst run the example with different size of the time step to see if there is any difference"
   ]
  },
  {
   "cell_type": "code",
   "execution_count": null,
   "metadata": {},
   "outputs": [],
   "source": [
    "fig, ((ax1,ax2),(ax3,ax4)) = plt.subplots(2,2,figsize=(10,6))\n",
    "for n_steps in [20, 40, 200, 2000]:\n",
    "    t_arr, s_t, Eta_arr, Sigma_arr, iter_arr = get_response(\n",
    "        s_max=8, n_steps=n_steps, k_max=10\n",
    "    )\n",
    "    plot_Sigma_Eta(Sigma_arr, Eta_arr, ax1, ax2, ax3, ax4)"
   ]
  },
  {
   "cell_type": "code",
   "execution_count": null,
   "metadata": {},
   "outputs": [],
   "source": [
    "fig, ax = plt.subplots(1,1,figsize=(9, 5))\n",
    "plot_work(ax, Eta_arr, Sigma_arr)\n",
    "plot_dissipation(ax, Eta_arr, Sigma_arr)"
   ]
  },
  {
   "cell_type": "markdown",
   "metadata": {},
   "source": [
    "## Cyclic loading"
   ]
  },
  {
   "cell_type": "code",
   "execution_count": null,
   "metadata": {},
   "outputs": [],
   "source": [
    "fig, ((ax1,ax2),(ax3,ax4)) = plt.subplots(2,2,figsize=(10,6))\n",
    "t_arr, s_t, Eta_arr, Sigma_arr, iter_arr = get_response(\n",
    "    s_max=2, n_steps=20000, k_max=20, get_load_fn=get_load_fn\n",
    ")\n",
    "plot_Sigma_Eta(Sigma_arr, Eta_arr, ax1, ax2, ax3, ax4)"
   ]
  },
  {
   "cell_type": "code",
   "execution_count": null,
   "metadata": {},
   "outputs": [],
   "source": [
    "fig, ax = plt.subplots(1,1,figsize=(9, 5))\n",
    "plot_work(ax, Eta_arr, Sigma_arr)\n",
    "plot_dissipation(ax, Eta_arr, Sigma_arr)"
   ]
  },
  {
   "cell_type": "markdown",
   "metadata": {},
   "source": [
    "# Code generation"
   ]
  },
  {
   "cell_type": "markdown",
   "metadata": {},
   "source": [
    "See the docs for the code generation, the latexified  sympy symbols \n",
    "must be substituted such that they can act as standard C variable names"
   ]
  },
  {
   "cell_type": "code",
   "execution_count": null,
   "metadata": {},
   "outputs": [],
   "source": [
    "print(get_f_Sigma_C[0][1])"
   ]
  },
  {
   "cell_type": "markdown",
   "metadata": {},
   "source": [
    "## Fix LaTeX\n",
    "- this fix can be placed in sympy package\n",
    "- remove \\ {} from Symbol"
   ]
  },
  {
   "cell_type": "code",
   "execution_count": null,
   "metadata": {},
   "outputs": [],
   "source": [
    "import re\n",
    "def _print_Symbol(self, expr):\n",
    "    CodePrinter = sp.printing.codeprinter.CodePrinter\n",
    "    name = super(CodePrinter, self)._print_Symbol(expr)\n",
    "    return re.sub(r'[\\\\\\{\\}]', '', name)\n",
    "sp.printing.codeprinter.CodePrinter._print_Symbol = _print_Symbol\n",
    "\n",
    "print(codegen(('f_Sigma', f_Sigma), 'C89', 'SLIDE1_3')[0][1])"
   ]
  },
  {
   "cell_type": "markdown",
   "metadata": {},
   "source": [
    "## Fix LaTeX - customize Symbol\n",
    "- MySymbol derived from sp.Symbol\n",
    "- if keyword codename specified use it with codegen\n",
    "- else remove \\ {} from Symbol"
   ]
  },
  {
   "cell_type": "code",
   "execution_count": null,
   "metadata": {},
   "outputs": [],
   "source": [
    "import re\n",
    "\n",
    "class MySymbol(sp.Symbol):\n",
    "    def __new__(cls, name, codename='', **assumptions):\n",
    "        if codename:\n",
    "            cls.codename = codename\n",
    "        else:\n",
    "            cls.codename = name\n",
    "        return super().__new__(cls, name, **assumptions)\n",
    "\n",
    "def _print_Symbol(self, expr):\n",
    "    CodePrinter = sp.printing.codeprinter.CodePrinter\n",
    "    if hasattr(expr, 'codename'):\n",
    "        name = expr.codename\n",
    "    else:\n",
    "        name = super(CodePrinter, self)._print_Symbol(expr)\n",
    "    return re.sub(r'[\\\\\\{\\}]', '', name)\n",
    "sp.printing.codeprinter.CodePrinter._print_Symbol = _print_Symbol\n",
    "\n",
    "tau_bar = MySymbol(r'\\bar{\\tau}', codename='b_tau' ,real=True, nonnegative=True)\n",
    "f = norm_Q - Z - tau_bar\n",
    "f_Sigma = f.subs(subs_Q).subs(subs_tau_eff)\n",
    "\n",
    "print(codegen(('f_Sigma', f_Sigma), 'C89', 'SLIDE1_3')[0][1])"
   ]
  },
  {
   "cell_type": "code",
   "execution_count": null,
   "metadata": {},
   "outputs": [],
   "source": []
  }
 ],
 "metadata": {
  "kernelspec": {
   "display_name": "Python 3",
   "language": "python",
   "name": "python3"
  },
  "language_info": {
   "codemirror_mode": {
    "name": "ipython",
    "version": 3
   },
   "file_extension": ".py",
   "mimetype": "text/x-python",
   "name": "python",
   "nbconvert_exporter": "python",
   "pygments_lexer": "ipython3",
   "version": "3.7.6"
  },
  "toc": {
   "base_numbering": 1,
   "nav_menu": {},
   "number_sections": true,
   "sideBar": true,
   "skip_h1_title": false,
   "title_cell": "Table of Contents",
   "title_sidebar": "Contents",
   "toc_cell": false,
   "toc_position": {
    "height": "calc(100% - 180px)",
    "left": "10px",
    "top": "150px",
    "width": "165px"
   },
   "toc_section_display": true,
   "toc_window_display": true
  }
 },
 "nbformat": 4,
 "nbformat_minor": 2
}
